{
 "cells": [
  {
   "cell_type": "markdown",
   "metadata": {
    "id": "Qdf3PaQTIlFi"
   },
   "source": [
    "#Uvod u PyDistSim\n",
    "\n",
    "Cilj ove vježbe je napraviti pregled najbitnijih komponenti paketa PyDistSim za simulaciju raspodijeljenih algoritama."
   ]
  },
  {
   "cell_type": "markdown",
   "metadata": {
    "id": "ludhcBVCIlFj"
   },
   "source": [
    "## 'Hello distributed world'\n",
    "\n",
    "U ovom primjeru analiziramo implementaciju jednog od najjednostavnijih algoritma koji riješava problem *Broadcast*: `Flood`. Cilj algoritma je podijeliti informaciju koju posjeduje jedan čvor ostalim čvorovima u mreži."
   ]
  },
  {
   "cell_type": "markdown",
   "metadata": {
    "id": "L3O8gzvyIlFj"
   },
   "source": [
    "U ovom primjeru koristi se interkativna konzola IPython te se stoga preporuča najprije napraviti import najvažnijih klasa i funkcija paketa pydistsim na slijedeći način:"
   ]
  },
  {
   "cell_type": "code",
   "execution_count": 1,
   "metadata": {
    "id": "i0vpQC7-IlFk"
   },
   "outputs": [
    {
     "ename": "ModuleNotFoundError",
     "evalue": "No module named 'PySide'",
     "output_type": "error",
     "traceback": [
      "\u001b[1;31m---------------------------------------------------------------------------\u001b[0m",
      "\u001b[1;31mModuleNotFoundError\u001b[0m                       Traceback (most recent call last)",
      "Cell \u001b[1;32mIn[1], line 1\u001b[0m\n\u001b[1;32m----> 1\u001b[0m \u001b[38;5;28;01mfrom\u001b[39;00m \u001b[38;5;21;01mpydistsim\u001b[39;00m \u001b[38;5;28;01mimport\u001b[39;00m \u001b[38;5;241m*\u001b[39m\n",
      "File \u001b[1;32mc:\\Users\\agust\\AppData\\Local\\Programs\\Python\\Python311\\Lib\\site-packages\\pydistsim\\__init__.py:13\u001b[0m\n\u001b[0;32m     11\u001b[0m \u001b[38;5;28;01mfrom\u001b[39;00m \u001b[38;5;21;01mpydistsim\u001b[39;00m\u001b[38;5;21;01m.\u001b[39;00m\u001b[38;5;21;01mnetwork\u001b[39;00m \u001b[38;5;28;01mimport\u001b[39;00m Network\n\u001b[0;32m     12\u001b[0m \u001b[38;5;28;01mfrom\u001b[39;00m \u001b[38;5;21;01mpydistsim\u001b[39;00m\u001b[38;5;21;01m.\u001b[39;00m\u001b[38;5;21;01mnetworkgenerator\u001b[39;00m \u001b[38;5;28;01mimport\u001b[39;00m NetworkGenerator\n\u001b[1;32m---> 13\u001b[0m \u001b[38;5;28;01mfrom\u001b[39;00m \u001b[38;5;21;01mpydistsim\u001b[39;00m\u001b[38;5;21;01m.\u001b[39;00m\u001b[38;5;21;01msimulation\u001b[39;00m \u001b[38;5;28;01mimport\u001b[39;00m Simulation\n\u001b[0;32m     14\u001b[0m \u001b[38;5;28;01mfrom\u001b[39;00m \u001b[38;5;21;01mpydistsim\u001b[39;00m\u001b[38;5;21;01m.\u001b[39;00m\u001b[38;5;21;01msensor\u001b[39;00m \u001b[38;5;28;01mimport\u001b[39;00m CompositeSensor\n\u001b[0;32m     15\u001b[0m \u001b[38;5;28;01mfrom\u001b[39;00m \u001b[38;5;21;01mpydistsim\u001b[39;00m\u001b[38;5;21;01m.\u001b[39;00m\u001b[38;5;21;01mnode\u001b[39;00m \u001b[38;5;28;01mimport\u001b[39;00m Node\n",
      "File \u001b[1;32mc:\\Users\\agust\\AppData\\Local\\Programs\\Python\\Python311\\Lib\\site-packages\\pydistsim\\simulation.py:1\u001b[0m\n\u001b[1;32m----> 1\u001b[0m \u001b[38;5;28;01mfrom\u001b[39;00m \u001b[38;5;21;01mPySide\u001b[39;00m\u001b[38;5;21;01m.\u001b[39;00m\u001b[38;5;21;01mQtCore\u001b[39;00m \u001b[38;5;28;01mimport\u001b[39;00m QThread, SIGNAL\n\u001b[0;32m      2\u001b[0m \u001b[38;5;28;01mimport\u001b[39;00m \u001b[38;5;21;01mlogging\u001b[39;00m\n\u001b[0;32m      3\u001b[0m \u001b[38;5;28;01mfrom\u001b[39;00m \u001b[38;5;21;01mpydistsim\u001b[39;00m\u001b[38;5;21;01m.\u001b[39;00m\u001b[38;5;21;01mnetwork\u001b[39;00m \u001b[38;5;28;01mimport\u001b[39;00m Network\n",
      "\u001b[1;31mModuleNotFoundError\u001b[0m: No module named 'PySide'"
     ]
    }
   ],
   "source": [
    "from pydistsim import *"
   ]
  },
  {
   "cell_type": "markdown",
   "metadata": {
    "id": "O3zX5R-fIlFk"
   },
   "source": [
    "Ukoliko se konzola pokreće programom `ipydistsim`, u kojem je preddefinirano korištenje profila pydistsim tada je ovaj import već učinjen prilikom starta."
   ]
  },
  {
   "cell_type": "markdown",
   "metadata": {
    "id": "puJ9bp1ZIlFk"
   },
   "source": [
    "### Kreiranje mreže\n",
    "\n",
    "Mreža kao osnovna struktura može se kreirati na više načina. U većini slučajeva sasvim dovoljno je koristiti klasu `NetworkGenerator` kojoj se prilikom instanciranja pridruže željeni parametri kao što su broj čvorova (točan, maksimalan, minimalan) prosječan broj susjeda itd...\n",
    "\n",
    "U ovom primjeru jedini parametar koji se želi imati pod kontrolom je broj čvorova, a iznosi 100:"
   ]
  },
  {
   "cell_type": "code",
   "execution_count": null,
   "metadata": {
    "id": "cbI8N1bGIlFl"
   },
   "outputs": [],
   "source": [
    "net_gen = NetworkGenerator(100)"
   ]
  },
  {
   "cell_type": "markdown",
   "metadata": {
    "id": "RwuXKSd8IlFl"
   },
   "source": [
    "Nakon toga možemo koristiti metode generatora kako bi izradili nove mreže s željenim parametrima, primjerice za nasumičan raspored čvorova koristi se metoda `generate_random_network()`:"
   ]
  },
  {
   "cell_type": "code",
   "execution_count": null,
   "metadata": {
    "id": "klDJHdocIlFl"
   },
   "outputs": [],
   "source": [
    "net = net_gen.generate_random_network()"
   ]
  },
  {
   "cell_type": "markdown",
   "metadata": {
    "id": "cbCR5KreIlFl"
   },
   "source": [
    "Metoda kao rezultat vraća željenu mrežu odnosno instancu klase `Network`:"
   ]
  },
  {
   "cell_type": "code",
   "execution_count": null,
   "metadata": {
    "id": "2GERs6STIlFl"
   },
   "outputs": [],
   "source": [
    "net"
   ]
  },
  {
   "cell_type": "markdown",
   "metadata": {
    "id": "UcpDQJQuIlFl"
   },
   "source": [
    "koju se može vizualizirati korištenjem metode `show()`:"
   ]
  },
  {
   "cell_type": "code",
   "execution_count": null,
   "metadata": {
    "id": "Z4FC_lJaIlFm"
   },
   "outputs": [],
   "source": [
    "net.show()"
   ]
  },
  {
   "cell_type": "markdown",
   "metadata": {
    "id": "8y9nOlKeIlFm"
   },
   "source": [
    "### Algoritam\n",
    "\n",
    "Algoritam `Flood` dio je modula `broadcast` te ukoliko ga želimo koristiti moramo ga importirati:"
   ]
  },
  {
   "cell_type": "code",
   "execution_count": null,
   "metadata": {
    "id": "sElqBJ-iIlFm"
   },
   "outputs": [],
   "source": [
    "from pydistsim.algorithms.broadcast import Flood"
   ]
  },
  {
   "cell_type": "markdown",
   "metadata": {
    "id": "u9TY1iLFIlFm"
   },
   "source": [
    "i pridružiti mreži:"
   ]
  },
  {
   "cell_type": "code",
   "execution_count": null,
   "metadata": {
    "id": "zzenff4VIlFm"
   },
   "outputs": [],
   "source": [
    "net.algorithms = ((Flood, {\"informationKey\": \"I\"}),)"
   ]
  },
  {
   "cell_type": "markdown",
   "metadata": {
    "id": "hCYyLWotIlFm"
   },
   "source": [
    "Kod pridruživanja algoritama mreži potrebno je primjetiti nekoliko stvari:\n",
    "\n",
    "* pojedini algoritam je torka odn. `tuple` od dva elementa u kojem je prvi klasa algoritma, u ovom slučaju `Flood`, a drugi je `dict` koji se sastoji od parametara, npr. `Flood` prima kao obavezni parametar ključ pod kojim će čvorovi u svojoj memoriji spremati informaciju koja se želi podijeliti\n",
    "* algoritmi se pridružuju kao elementi torke, a kako u ovom primjeru se pridružuje samo jedan algoritam potrebno je iza njega dodati zarez kako bi Python stvorio torku od jednog elementa jer primjerice `(1)` je `int`, ali `(1,)` je `tuple`"
   ]
  },
  {
   "cell_type": "markdown",
   "metadata": {
    "id": "5fo86DpnIlFm"
   },
   "source": [
    "Algoritam zahtijeva postojanje barem jednog čvora koji ima informaciju, odn. inicijatora. Kako bi to bilo osigurano jednom od čvorova se ta informacija treba upisati u memoriju:"
   ]
  },
  {
   "cell_type": "code",
   "execution_count": null,
   "metadata": {
    "id": "WhvjQBwgIlFm"
   },
   "outputs": [],
   "source": [
    "some_node = net.nodes()[0]  # uzimamo prvi cvor u listi cvorova mreze\n",
    "some_node.memory[\"I\"] = (\n",
    "    \"Hello distributed world\"  # pod kljucem 'I' upisujemo informaciju\n",
    ")"
   ]
  },
  {
   "cell_type": "markdown",
   "metadata": {
    "id": "j44uRlMxIlFm"
   },
   "source": [
    "### Simulacija\n",
    "\n",
    "Nakon definicije mreže i pridruživanja algoritma potrebno je pokrenuti simulaciju. Simulaciji se pri instanciranju kao argument šalje mreža nad kojom se želi obaviti simulacija:"
   ]
  },
  {
   "cell_type": "code",
   "execution_count": null,
   "metadata": {
    "id": "GnP-6fKgIlFm"
   },
   "outputs": [],
   "source": [
    "sim = Simulation(net)"
   ]
  },
  {
   "cell_type": "markdown",
   "metadata": {
    "id": "3GkqTFKnIlFn"
   },
   "source": [
    "Ostaje pokrenuti simulaciju:"
   ]
  },
  {
   "cell_type": "code",
   "execution_count": null,
   "metadata": {
    "id": "FOBqW_5_IlFn"
   },
   "outputs": [],
   "source": [
    "sim.run()"
   ]
  },
  {
   "cell_type": "markdown",
   "metadata": {
    "id": "RFjekX0pIlFn"
   },
   "source": [
    "Nakon što je završilo izvršavanje algoritama pogledajmo ako je informacija uspješno podijeljena tako što ćemo ispisati sadržaj memorije čvorova:"
   ]
  },
  {
   "cell_type": "code",
   "execution_count": null,
   "metadata": {
    "id": "0hSFn5QIIlFn"
   },
   "outputs": [],
   "source": [
    "for node in net.nodes():\n",
    "    print node.memory['I'],"
   ]
  },
  {
   "cell_type": "markdown",
   "metadata": {
    "id": "JjJHexqaIlFn"
   },
   "source": [
    "Kako bi informacija o stanju u kojem se nalazi mreža bila potpuna prati se i trenutno stanje algoritma:"
   ]
  },
  {
   "cell_type": "code",
   "execution_count": null,
   "metadata": {
    "id": "EGL9Vq8tIlFn"
   },
   "outputs": [],
   "source": [
    "net.algorithmState"
   ]
  },
  {
   "cell_type": "markdown",
   "metadata": {
    "id": "dRdRsy6mIlFn"
   },
   "source": [
    "U ovom slučaju algoritam pod indeksom 0 je završio, uz navedeni trenutni broj koraka."
   ]
  },
  {
   "cell_type": "markdown",
   "metadata": {
    "id": "_ktr1UvMIlFn"
   },
   "source": [
    "Ako se želi ponovno pokrenuti simulacija potrebno ju je resetirati:"
   ]
  },
  {
   "cell_type": "code",
   "execution_count": null,
   "metadata": {
    "id": "ZN0uLnUrIlFn"
   },
   "outputs": [],
   "source": [
    "sim.reset()"
   ]
  },
  {
   "cell_type": "markdown",
   "metadata": {
    "id": "XValRry5IlFn"
   },
   "source": [
    "čime se:\n",
    "\n",
    "* stanje algoritama mreže postavlja na početno:"
   ]
  },
  {
   "cell_type": "code",
   "execution_count": null,
   "metadata": {
    "id": "qslZ_xE2IlFo"
   },
   "outputs": [],
   "source": [
    "net.algorithmState"
   ]
  },
  {
   "cell_type": "markdown",
   "metadata": {
    "id": "RlYEJsHbIlFo"
   },
   "source": [
    "* te se uz to briše i sva memorija čvorova:"
   ]
  },
  {
   "cell_type": "code",
   "execution_count": null,
   "metadata": {
    "id": "3HLTsfRZIlFo"
   },
   "outputs": [],
   "source": [
    "for node in net.nodes():\n",
    "    print node.memory,"
   ]
  },
  {
   "cell_type": "code",
   "execution_count": null,
   "metadata": {
    "id": "rAc4fg1yIlFo"
   },
   "outputs": [],
   "source": [
    "some_node.memory[\"I\"] = \"Hello again\"\n",
    "sim.run()"
   ]
  },
  {
   "cell_type": "markdown",
   "metadata": {
    "id": "S0IvEz0bIlFo"
   },
   "source": [
    "## Analiza algoritma\n",
    "\n",
    "Algoritam *Flood* je vrlo jednostavan i u cijelosti je definiran na slijedeći način:\n",
    "\n",
    "$initiator \\times \\iota \\longrightarrow \\\\{\\\\text{Process}(I);\\; {\\\\bf\\\\text{send}}(I) \\to N(x);\\; {\\\\bf\\\\text{become}}\\; \\\\text{done}\\\\}$\n",
    "\n",
    "$idle \\times \\\\text{Receiving}(I) \\longrightarrow \\\\{\\\\text{Process}(I);\\; {\\\\bf\\\\text{send}}(I) \\to N(x) - {\\\\bf\\\\text{sender}};\\; {\\\\bf\\\\text{become}}\\; \\\\text{done}\\\\}$"
   ]
  },
  {
   "cell_type": "markdown",
   "metadata": {
    "id": "c1EaqTHZIlFo"
   },
   "source": [
    "Pogledajmo kod za modul `pydistsim.algorithms.broadcast` u kojem se nalazi algoritam `Flood`:"
   ]
  },
  {
   "cell_type": "code",
   "execution_count": null,
   "metadata": {
    "id": "GrvvRsPtIlFo"
   },
   "outputs": [],
   "source": [
    "%load '/home/ubuntu/bmo_env/src/pydistsim/pydistsim/algorithms/broadcast.py'"
   ]
  },
  {
   "cell_type": "code",
   "execution_count": null,
   "metadata": {
    "id": "rMlRTkmeIlFp"
   },
   "outputs": [],
   "source": [
    "from pydistsim.algorithm import NodeAlgorithm\n",
    "from pydistsim.message import Message\n",
    "\n",
    "\n",
    "class Flood(NodeAlgorithm):\n",
    "    required_params = (\"informationKey\",)\n",
    "    default_params = {\"neighborsKey\": \"Neighbors\"}\n",
    "\n",
    "    def initializer(self):\n",
    "        ini_nodes = []\n",
    "        for node in self.network.nodes():\n",
    "            node.memory[self.neighborsKey] = node.compositeSensor.read()[\"Neighbors\"]\n",
    "            node.status = \"IDLE\"\n",
    "            if node.memory.has_key(self.informationKey):\n",
    "                node.status = \"INITIATOR\"\n",
    "                ini_nodes.append(node)\n",
    "        for ini_node in ini_nodes:\n",
    "            self.network.outbox.insert(\n",
    "                0, Message(header=NodeAlgorithm.INI, destination=ini_node)\n",
    "            )\n",
    "\n",
    "    def initiator(self, node, message):\n",
    "        if message.header == NodeAlgorithm.INI:\n",
    "            node.send(\n",
    "                Message(\n",
    "                    header=\"Information\",  # default destination: send to every neighbor\n",
    "                    data=node.memory[self.informationKey],\n",
    "                )\n",
    "            )\n",
    "            node.status = \"DONE\"\n",
    "\n",
    "    def idle(self, node, message):\n",
    "        if message.header == \"Information\":\n",
    "            node.memory[self.informationKey] = message.data\n",
    "            destination_nodes = list(node.memory[self.neighborsKey])\n",
    "            destination_nodes.remove(message.source)  # send to every neighbor-sender\n",
    "            if destination_nodes:\n",
    "                node.send(\n",
    "                    Message(\n",
    "                        destination=destination_nodes,\n",
    "                        header=\"Information\",\n",
    "                        data=message.data,\n",
    "                    )\n",
    "                )\n",
    "        node.status = \"DONE\"\n",
    "\n",
    "    def done(self, node, message):\n",
    "        pass\n",
    "\n",
    "    STATUS = {\n",
    "        \"INITIATOR\": initiator,\n",
    "        \"IDLE\": idle,\n",
    "        \"DONE\": done,\n",
    "    }"
   ]
  },
  {
   "cell_type": "markdown",
   "metadata": {
    "id": "PrWl1UzJIlFp"
   },
   "source": [
    "## Osnovne komponente\n",
    "\n",
    "U ovom dijelu opisane su osnovne komponente PyDistSim paketa te njihov međusoban odnos."
   ]
  },
  {
   "cell_type": "code",
   "execution_count": null,
   "metadata": {
    "id": "f8IvSj4yIlFp"
   },
   "outputs": [],
   "source": [
    "from IPython.display import Image\n",
    "\n",
    "Image(filename=\"../images/pydistsim_class_diagram.png\")"
   ]
  },
  {
   "cell_type": "markdown",
   "metadata": {
    "id": "2z27VRWFIlFp"
   },
   "source": [
    "### Graf\n",
    "\n",
    "PyDistSim paket se zasniva djelomično na proširenju mogućnosti paketa [NetworkX](http://networkx.lanl.gov/index.html). Dodirna točka je klasa [Graph](http://networkx.github.io/documentation/latest/reference/classes.html) koja predstavlja neusmjereni graf."
   ]
  },
  {
   "cell_type": "code",
   "execution_count": null,
   "metadata": {
    "id": "MZ5y2P9FIlFp"
   },
   "outputs": [],
   "source": [
    "from networkx import Graph\n",
    "\n",
    "g = Graph()"
   ]
  },
  {
   "cell_type": "markdown",
   "metadata": {
    "id": "kkY1dvO4IlFp"
   },
   "source": [
    "`Graph` definira:\n",
    "\n",
    "* vrhove grafa `Graph.node` -- `dict` u kojem su ključevi vrhovi odnosno bilo kakvi *immutable/hashable* python objekti, a vrijednosti njihovi (opcionalni) atributi"
   ]
  },
  {
   "cell_type": "code",
   "execution_count": null,
   "metadata": {
    "id": "t3OVjAyLIlFq"
   },
   "outputs": [],
   "source": [
    "g.add_nodes_from([1, 2, 3, 4, 5, 6])\n",
    "g.node"
   ]
  },
  {
   "cell_type": "markdown",
   "metadata": {
    "id": "55TNFLTdIlFq"
   },
   "source": [
    "* bridove grafa `Graph.adj` ili `Graph.edge` (isti objekt) -- `dict` u kojem su ključevi vrhovi, a vrijednost za pojedini vrh je `dict` čiji su ključevi vrhovi susjedi zadanog vrha, a vrijednosti su (opcionalni) atributi brida"
   ]
  },
  {
   "cell_type": "code",
   "execution_count": null,
   "metadata": {
    "id": "T4sG9AWuIlFq"
   },
   "outputs": [],
   "source": [
    "g.add_edges_from([(1,2),(1,3),(2,3),(3,4),(4,5),(5,6),(1,6),(5,2)])\n",
    "print g.edge is g.adj\n",
    "g.edge"
   ]
  },
  {
   "cell_type": "markdown",
   "metadata": {
    "id": "RDi6NhgoIlFq"
   },
   "source": [
    "* razne metode za manipulaciju strukturom grafa"
   ]
  },
  {
   "cell_type": "code",
   "execution_count": null,
   "metadata": {
    "id": "4D2kX7BfIlFq"
   },
   "outputs": [],
   "source": [
    "g.add_star(g.nodes())\n",
    "g.edge"
   ]
  },
  {
   "cell_type": "markdown",
   "metadata": {
    "id": "OPr6uI7bIlFq"
   },
   "source": [
    "* [funkcije za iscrtavanje](http://networkx.github.io/documentation/latest/reference/drawing.html)"
   ]
  },
  {
   "cell_type": "code",
   "execution_count": null,
   "metadata": {
    "id": "c5ls_n8YIlFq"
   },
   "outputs": [],
   "source": [
    "from networkx import draw_networkx\n",
    "\n",
    "draw_networkx(g)"
   ]
  },
  {
   "cell_type": "markdown",
   "metadata": {
    "id": "SbN9hTHeIlFq"
   },
   "source": [
    "* [algoritme](http://networkx.github.io/documentation/latest/reference/algorithms.html), kao npr. [shortest_path](http://networkx.github.io/documentation/latest/reference/generated/networkx.algorithms.shortest_paths.generic.shortest_path.html)"
   ]
  },
  {
   "cell_type": "code",
   "execution_count": null,
   "metadata": {
    "id": "1kVfztGYIlFq"
   },
   "outputs": [],
   "source": [
    "from networkx.algorithms import shortest_path\n",
    "\n",
    "shortest_path(g, 2, 6)"
   ]
  },
  {
   "cell_type": "markdown",
   "metadata": {
    "id": "vpbtLZaCIlFq"
   },
   "source": [
    "Dodatno NetworkX paket sadrži i:\n",
    "\n",
    "* druge tipove grafova (usmjereni, multigraf...)"
   ]
  },
  {
   "cell_type": "code",
   "execution_count": null,
   "metadata": {
    "id": "I1PhIrRZIlFq"
   },
   "outputs": [],
   "source": [
    "from networkx import DiGraph\n",
    "\n",
    "dg = DiGraph([(1, 2), (2, 1), (1, 3), (3, 2)])\n",
    "draw_networkx(dg)"
   ]
  },
  {
   "cell_type": "markdown",
   "metadata": {
    "id": "Uqw51GvOIlFr"
   },
   "source": [
    "* [generatore grafova](http://networkx.github.io/documentation/latest/reference/generators.html), kao npr. [hypercube_graph](http://networkx.github.io/documentation/latest/reference/generated/networkx.generators.classic.hypercube_graph.html#networkx.generators.classic.hypercube_graph)"
   ]
  },
  {
   "cell_type": "code",
   "execution_count": null,
   "metadata": {
    "id": "gyNMAt2-IlFr"
   },
   "outputs": [],
   "source": [
    "from networkx.generators.classic import hypercube_graph\n",
    "\n",
    "hcg = hypercube_graph(3)\n",
    "draw_networkx(hcg)"
   ]
  },
  {
   "cell_type": "markdown",
   "metadata": {
    "id": "0ICHihLCIlFr"
   },
   "source": [
    " * [konvertere](http://networkx.github.io/documentation/latest/reference/convert.html) itd."
   ]
  },
  {
   "cell_type": "code",
   "execution_count": null,
   "metadata": {
    "id": "Afbe2KvjIlFr"
   },
   "outputs": [],
   "source": [
    "mat = numpy.random.random((6,6))>0.5\n",
    "print mat\n",
    "from networkx.convert import from_numpy_matrix\n",
    "g = from_numpy_matrix(mat)\n",
    "draw_networkx(g)"
   ]
  },
  {
   "cell_type": "markdown",
   "metadata": {
    "id": "b96UXG6jIlFr"
   },
   "source": [
    "### Mreža\n",
    "\n",
    "`Network` je osnovna klasa PyDistSim simulatora. Njene instance sadrže sve informacije potrebne kako bi se za pojedinu mrežu pokrenula ili nastavila simulacija njoj pripadajućih algoritama. Kao što je već naglašeno klasa `Network` je podklasa (podrazred) klase Graph iz paketa NetworkX.\n",
    "\n",
    "Uz sve značajke grafa PyDistSim u klasi `Network` proširuje mogućnosti sa slijedećim atributima i funkcionalnostima:\n",
    "\n",
    "* `Network.environment` - trenutno je omgućeno samo 2D okruženje, kroz instancu klase `Environment2D`"
   ]
  },
  {
   "cell_type": "code",
   "execution_count": null,
   "metadata": {
    "id": "fxoCgLZMIlFr"
   },
   "outputs": [],
   "source": [
    "from pydistsim.environment import Environment2D\n",
    "\n",
    "o_env = Environment2D(path=\"../images/o_shape.png\")\n",
    "c_env = Environment2D(path=\"../images/c_shape.png\")\n",
    "o_net = Network(environment=o_env)\n",
    "c_net = Network(environment=c_env)\n",
    "for _ in range(100):\n",
    "    o_net.add_node()\n",
    "    c_net.add_node()\n",
    "o_net.show()\n",
    "c_net.show()"
   ]
  },
  {
   "cell_type": "markdown",
   "metadata": {
    "id": "uEyp-8wKIlFr"
   },
   "source": [
    "* `Network.pos` - lokacija čvorova u okruženju"
   ]
  },
  {
   "cell_type": "code",
   "execution_count": null,
   "metadata": {
    "id": "-30SD_kYIlFr"
   },
   "outputs": [],
   "source": [
    "net.pos"
   ]
  },
  {
   "cell_type": "markdown",
   "metadata": {
    "id": "00RigoW1IlFr"
   },
   "source": [
    "* `Network.algorithms` - torka algoritama: svi čvorovi izvršavaju iste algoritme, pa je mreža adekvatno mjesto za definiciju"
   ]
  },
  {
   "cell_type": "code",
   "execution_count": null,
   "metadata": {
    "id": "Fk9t49oeIlFr"
   },
   "outputs": [],
   "source": [
    "net.algorithms"
   ]
  },
  {
   "cell_type": "markdown",
   "metadata": {
    "id": "6PnN1lFgIlFr"
   },
   "source": [
    "* `Network.channelType` - model komunikacijskog kanala"
   ]
  },
  {
   "cell_type": "code",
   "execution_count": null,
   "metadata": {
    "id": "QvJAZJkrIlFr"
   },
   "outputs": [],
   "source": [
    "net.channelType"
   ]
  },
  {
   "cell_type": "code",
   "execution_count": null,
   "metadata": {
    "id": "vbCJEKKWIlFr"
   },
   "outputs": [],
   "source": [
    "# %load '/home/ubuntu/bmo_env/src/pydistsim/pydistsim/channeltype.py'\n",
    "from pydistsim.channeltype import Udg, SquareDisc\n",
    "\n",
    "udg = Udg(net.environment)\n",
    "scd = SquareDisc(net.environment)\n",
    "udg_cr = []\n",
    "scd_cr = []\n",
    "distances = range(1, 201, 10)\n",
    "net = Network()\n",
    "node1 = net.add_node(pos=[1, 1])\n",
    "for i, distance in enumerate(distances):\n",
    "    node2 = net.add_node(pos=[1.1, distance])\n",
    "    udg_cr.append(mean([udg.in_comm_range(net, node1, node2) for j in range(10)]))\n",
    "    scd_cr.append(mean([scd.in_comm_range(net, node1, node2) for j in range(10)]))\n",
    "plt.ylim(0, 1.1)\n",
    "plot(distances, udg_cr)\n",
    "plot(distances, scd_cr)"
   ]
  },
  {
   "cell_type": "markdown",
   "metadata": {
    "id": "Vyw95S7XIlFr"
   },
   "source": [
    "* model komunikacije kroz `Network.outbox` i `Network.communicate()`"
   ]
  },
  {
   "cell_type": "markdown",
   "metadata": {
    "id": "MQQpQAinIlFs"
   },
   "source": [
    "Mreža je središnji objekt u PyDistSim paketu i ona sadrži sve potrebne informacije kako bi se rekreirao eksperiment ili sačuvali podaci za kasniju analizu. Shodno tome implementirane su metode za njeno spremanje i čitanje s diska:"
   ]
  },
  {
   "cell_type": "code",
   "execution_count": null,
   "metadata": {
    "id": "VwMH41hJIlFs"
   },
   "outputs": [],
   "source": [
    "write_npickle(net, \"mreza1.tar.gz\")\n",
    "net_from_file = read_npickle(\"mreza1.tar.gz\")\n",
    "net_from_file"
   ]
  },
  {
   "cell_type": "code",
   "execution_count": null,
   "metadata": {
    "id": "xmvR2vqGIlFs"
   },
   "outputs": [],
   "source": [
    "!ls -algo mr*"
   ]
  },
  {
   "cell_type": "markdown",
   "metadata": {
    "id": "BjmT7Di7IlFs"
   },
   "source": [
    "### Algoritmi\n",
    "\n",
    "PyDistSim podržava dva tipa algoritama raspodijeljeni i centralizirani:\n",
    "\n",
    "* *Centralizirani* algoritmi se implementiraju kao podklase od `NetworkAlgorithm` i funkcioniraju po prinicipu izravnog upisivanja podataka u memoriju čvorova.\n",
    "* *Raspodijeljeni* algoritmi se implementiraju kao podklase od `NodeAlgorithm`. Raspodijeljeni algoritmi mogu koristiti samo informacije spremljene u samoj memoriji čvora te one dobivene očitanjem osjetila koje pojeduje čvor."
   ]
  },
  {
   "cell_type": "markdown",
   "metadata": {
    "id": "k_Uk-YgTIlFs"
   },
   "source": [
    "### Čvorovi\n",
    "\n",
    "Čvorovi su instance klase `Node` koja između ostalog implementira slijedeće atribute i metode:\n",
    "\n",
    "* `memory` - `dict` u kojem čvor čuva cjelokupno znanje koje može prikupiti na dva načina:\n",
    " * očitanje osjetila - npr. polje `Neighbors` u algoritmu `Flood`\n",
    " * informacije u primljenim porukama - npr. polje `I` u algoritmu `Flood`"
   ]
  },
  {
   "cell_type": "code",
   "execution_count": null,
   "metadata": {
    "id": "1vxCjFicIlFs"
   },
   "outputs": [],
   "source": [
    "some_node.memory[\"Neighbors\"]"
   ]
  },
  {
   "cell_type": "code",
   "execution_count": null,
   "metadata": {
    "id": "FYAdF47NIlFs"
   },
   "outputs": [],
   "source": [
    "some_node.memory[\"I\"]"
   ]
  },
  {
   "cell_type": "markdown",
   "metadata": {
    "id": "vIGkzmCKIlFs"
   },
   "source": [
    "* `status` - registar u memoriji s posebnim značenjem za raspodijeljene algoritme implementiran je kao poseban atribut"
   ]
  },
  {
   "cell_type": "code",
   "execution_count": null,
   "metadata": {
    "id": "rlvGcFQ5IlFs"
   },
   "outputs": [],
   "source": [
    "some_node.status"
   ]
  },
  {
   "cell_type": "markdown",
   "metadata": {
    "id": "P7rXeNYkIlFs"
   },
   "source": [
    "* `commRange` - komunikacijski domet čvora: u kombinaciji s pozicijom, okruženjem i modelom kominikacijskog kanala određuje susjede pojedinog čvora"
   ]
  },
  {
   "cell_type": "code",
   "execution_count": null,
   "metadata": {
    "id": "1SBlNr9mIlFs"
   },
   "outputs": [],
   "source": [
    "some_node.commRange"
   ]
  },
  {
   "cell_type": "markdown",
   "metadata": {
    "id": "suIp1NLHIlFs"
   },
   "source": [
    "* `outbox` i `_inbox` - liste u kojima su spremeljene poruke (instance klase `Message`) spremene za slanje odnosno primljene poruke\n",
    "* `send()` - metoda za slanje poruka drugim čvorovima\n",
    "* `compositeSensor` - predstavlja torku osjetila koji su instalirani na čvoru te implementira metodu `read()` koja vraća `dict` s ključevima koji odgovaraju pojedinom osjetilu, a vrijednosti su njihova trenutna očitanja"
   ]
  },
  {
   "cell_type": "code",
   "execution_count": null,
   "metadata": {
    "id": "ly0mPCHsIlFs"
   },
   "outputs": [],
   "source": [
    "print some_node.compositeSensor\n",
    "print some_node.compositeSensor.sensors\n",
    "some_node.compositeSensor.read()"
   ]
  },
  {
   "cell_type": "markdown",
   "metadata": {
    "id": "IHaB-bjVIlFt"
   },
   "source": [
    "### Osjetila\n",
    "\n",
    "Osjetila predstavljaju sučelje čvora prema okolini. Impelentirani su kao podklase apstraktne klase `Sensor`. Implementiraju metodu `read()` koja u ovisnosti o osjetilu može svoje podatke dobiti uvidom u mrežu odnosno okruženje."
   ]
  },
  {
   "cell_type": "code",
   "execution_count": null,
   "metadata": {
    "id": "VQMuhBqHIlFt"
   },
   "outputs": [],
   "source": [
    "from pydistsim.sensor import TruePosSensor\n",
    "\n",
    "new_net = Network()\n",
    "node = new_net.add_node(pos=[100, 100])\n",
    "node.compositeSensor = (TruePosSensor, \"DistSensor\")\n",
    "new_net.add_node(pos=[170, 170])\n",
    "node.compositeSensor.read()"
   ]
  },
  {
   "cell_type": "markdown",
   "metadata": {
    "id": "k87srb7nIlFt"
   },
   "source": [
    "Zgodno je primjetiti kako je prvo osjetilo pridruženo kao klasa, a drugo samo imenom klase. I jedna i druga opcija su moguće."
   ]
  },
  {
   "cell_type": "markdown",
   "metadata": {
    "id": "7xcfjrKdIlFt"
   },
   "source": [
    "Pojedino osjetilo može implementirati atribut `probabilityFunction` koji mu omogućava 'zašumljivanje' dobivenih podataka kako bi očitanje bilo bliže stvarnom očitanju koje je u većini slučajeva podložno manjim ili većim mjernim nesigurnostima."
   ]
  },
  {
   "cell_type": "code",
   "execution_count": null,
   "metadata": {
    "id": "brzxnO2SIlFt"
   },
   "outputs": [],
   "source": [
    "dist_sensor = node.compositeSensor.sensors[0]\n",
    "dist_sensor.probabilityFunction.pf"
   ]
  },
  {
   "cell_type": "code",
   "execution_count": null,
   "metadata": {
    "id": "gFPZk7iXIlFt"
   },
   "outputs": [],
   "source": [
    "distances = []\n",
    "for i in range(1000):\n",
    "    distances.append(node.compositeSensor.read()[\"Dist\"].values()[0])\n",
    "h = hist(distances, bins=30)"
   ]
  },
  {
   "cell_type": "markdown",
   "metadata": {
    "id": "RrftbY3-IlFt"
   },
   "source": [
    "Osjetila koje određeni čvor posjeduje mogu promijeniti njegovu ulogu unutar pojeding algoritma. Primjerice kod algoritma lokalizacije čvor s `TruePos` osjetilom predstavlja sidro.\n",
    "\n",
    "Osjetila služe i kako bi se implementirala određene pretpostavke, nazvane još i ograničenja algoritma. Primjerice, ukoliko algoritam zahtijeva za svaki čvor poznavanje svojih susjeda tada se u svakom čvoru postavlja osjetilo `NeighborsSensor` čijim očitanjem čvor u svakom trenutku može 'očitati' svoje susjede."
   ]
  },
  {
   "cell_type": "markdown",
   "metadata": {
    "id": "EhUJ6mK4IlFt"
   },
   "source": [
    "### Aktuatori\n",
    "\n",
    "U planu, uključuje mobilne čvorove, kinematički model, dinamičke grafove."
   ]
  },
  {
   "cell_type": "markdown",
   "metadata": {
    "id": "E2HPStKsIlFt"
   },
   "source": [
    "### Simulacija\n",
    "\n",
    "Klasa `Simulation` se brine za izvršavanje algoritma u pripadajućoj mreži `Simulation.network`.\n",
    "\n",
    "Između ostalog, brine se i za osvježavanje grafičkog sučelja simulatora.\n",
    "\n",
    "<!--- Definirana je kao dretva (*thread*) odnosno podklasa od klase `QtCore.QThread` paketa Pyside.\n",
    "-->"
   ]
  },
  {
   "cell_type": "markdown",
   "metadata": {
    "id": "F8Tia1thIlFt"
   },
   "source": [
    "### Postavke\n",
    "\n",
    "Kako bi rad u interaktivnoj konzoli, grafičkom sučelji ili u automatiziranim eksperimentima bio olakšan potrebno je preddefinirati određene vrijednosti. Takve vrijednosti definiraju se u postavkama `pydistsim.conf.settings`.\n",
    "\n",
    "Trenutne globalne postavke:"
   ]
  },
  {
   "cell_type": "code",
   "execution_count": null,
   "metadata": {
    "id": "E9QW-bxkIlFt"
   },
   "outputs": [],
   "source": [
    "%load '/home/ubuntu/bmo_env/src/pydistsim/pydistsim/conf/global_settings.py'"
   ]
  },
  {
   "cell_type": "code",
   "execution_count": null,
   "metadata": {
    "id": "G5_hu_gGIlFt"
   },
   "outputs": [],
   "source": [
    "\"\"\"Default pydistsim settings.\n",
    "\n",
    "Override these with settings in the module pointed-to by the\n",
    "PYDISTSIM_SETTINGS_MODULE environment variable or by using\n",
    "settings.configure(**settings) or settings.load('path.to.settings')\n",
    "\n",
    "\"\"\"\n",
    "\n",
    "import scipy.stats\n",
    "from numpy import pi\n",
    "\n",
    "###########\n",
    "# NETWORK #\n",
    "###########\n",
    "ENVIRONMENT = \"Environment2D\"\n",
    "ENVIRONMENT2D_SHAPE = (600, 600)\n",
    "\n",
    "\n",
    "ALGORITHMS = ()\n",
    "# ALGORITHMS = ((ReadSensors,\n",
    "#               {'sensorReadingsKey':'sensorReadings'}),\n",
    "#              )\n",
    "\n",
    "CHANNEL_TYPE = \"Udg\"\n",
    "\n",
    "\n",
    "##########\n",
    "#  NODE  #\n",
    "##########\n",
    "SENSORS = \"NeighborsSensor\"\n",
    "# SENSORS = ('AoASensor','DistSensor')\n",
    "ACTUATORS = ()\n",
    "COMM_RANGE = 100\n",
    "\n",
    "AOA_PF_PARAMS = {\"pf\": scipy.stats.norm, \"scale\": 10 * pi / 180}  # in radians\n",
    "DIST_PF_PARAMS = {\"pf\": scipy.stats.norm, \"scale\": 10}"
   ]
  },
  {
   "cell_type": "markdown",
   "metadata": {
    "id": "6Tf8SpxOIlFt"
   },
   "source": [
    "Postavke se mogu promijeniti odnosno prepisati (*override*-ati) na nekoliko načina:\n",
    "\n",
    "* pisanjem novog modula settings.py na kojeg se referencira *environment* varijabla PYDISTSIM_SETTINGS_MODULE u npr. 'paket.podpaket.settings'\n",
    "* prije prvog korištenja postavki one se mogu promijeniti korištenjem settings.configure(**settings) ili\n",
    "* korištenjem settings.load('paket.podpaket.settings') u bilo kojem trenutku"
   ]
  },
  {
   "cell_type": "markdown",
   "metadata": {
    "id": "8zDv7wVFIlFt"
   },
   "source": [
    "## Teme za domaću zadaću:\n",
    "\n",
    "1. **Pervan**: Shout, MultiShout\n",
    "2. **Vidović**: DF_Traversal: centralizirani i raspodijeljeni\n",
    "3. **Kegalj**: DF*\n",
    "4. **Grbac**: SmartTraversal: Shout+ i DF_Traversal\n",
    "5. **Frantal**: TD_Cast: Flood with reply i Convergecast\n",
    "6. **Barak**: FullSaturation primjenjen na Minimum finding i Average\n",
    "7. **Tuhtan**: FullSaturation primjenjen na Eccentricities i Center finding\n",
    "\n",
    "\n",
    "Napomene:\n",
    "\n",
    "* Projekt voditi na githubu ili bitbucketu (podijeliti prisup repozitoriju, ako je privatni)\n",
    "* *checkpoint* idući tjedan, prezentacije za dva tjedna,\n",
    "* Pripremiti IPython notebookove i/ili simulacije u GUI-u."
   ]
  },
  {
   "cell_type": "markdown",
   "metadata": {
    "id": "zax1gmr4IlFt"
   },
   "source": [
    "Za version control na githubu i bitbucketu se koriste slijedeći sustavi:\n",
    "\n",
    "### Mercurial\n",
    "\n",
    "http://hginit.com/\n",
    "\n",
    "### Git\n",
    "\n",
    "http://nakedstartup.com/2010/04/simple-daily-git-workflow"
   ]
  },
  {
   "cell_type": "markdown",
   "metadata": {
    "id": "3b9E0B72IlFu"
   },
   "source": [
    "### Distribucija paketa (opcija)\n",
    "\n",
    "http://docs.python.org/2/distutils/index.html#distutils-index\n",
    "\n",
    "### Windows\n",
    "\n",
    "U datoteci ``C:\\Users\\<user>\\.pypirc``:\n",
    "\n",
    "    [distutils]\n",
    "    index-servers =\n",
    "        pypi\n",
    "\n",
    "    [pypi]\n",
    "    repository: http://pypi.python.org/pypi\n",
    "    username: <username>\n",
    "    password: <password>\n",
    "\n",
    "    [server-login]\n",
    "    repository: http://pypi.python.org/pypi\n",
    "    username: <username>\n",
    "    password: <password>\n",
    "\n",
    "Za distribuciju pokrenuti slijedeće naredbe:\n",
    "\n",
    "    > setx HOME C:\\Users\\<user>\n",
    "    > python setup.py sdist upload register"
   ]
  },
  {
   "cell_type": "markdown",
   "metadata": {
    "id": "YuoMQ8BaIlFu"
   },
   "source": [
    "## GUI\n",
    "\n",
    "Grafičko sučelje simulatora pokreće se:\n",
    "\n",
    "1. u *standalone* verziji korištenjem instaliranog programa `pydistsim-simgui`\n",
    "2. iz interaktivne konzole sa `%run pydistsim/gui/simulationgui.py`\n",
    "\n",
    "Prednost druge metode je u tome što se paralelno sa sučeljem u konzoli može pristupiti svim objektima koristeći objekt `simgui` npr. `simgui.network` predstavlja mrežu koja je trenutno u sučelju."
   ]
  }
 ],
 "metadata": {
  "colab": {
   "provenance": []
  },
  "kernelspec": {
   "display_name": "Python 3",
   "name": "python3"
  },
  "language_info": {
   "codemirror_mode": {
    "name": "ipython",
    "version": 3
   },
   "file_extension": ".py",
   "mimetype": "text/x-python",
   "name": "python",
   "nbconvert_exporter": "python",
   "pygments_lexer": "ipython3",
   "version": "3.11.4"
  }
 },
 "nbformat": 4,
 "nbformat_minor": 0
}
