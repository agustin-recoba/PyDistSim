{
  "cells": [
    {
      "cell_type": "markdown",
      "metadata": {
        "id": "-cy4CItVIKRK"
      },
      "source": [
        "# 'Hello distributed world'\n",
        "\n",
        "The goal of this tutorial is to setup a simulation and run it by using minimal example."
      ]
    },
    {
      "cell_type": "code",
      "execution_count": 1,
      "metadata": {
        "id": "bQX5hbAmIKRO",
        "outputId": "10242ef7-4936-4970-9711-0379033b9d30"
      },
      "outputs": [
        {
          "name": "stdout",
          "output_type": "stream",
          "text": [
            "WARNING [__init__.py]: Environment variable PYMOTE_SETTINGS_MODULE is undefined, using global_settings.\n",
            "DEBUG   [simulation.py]: Simulation 0x199d40ce380 created successfully.\n",
            "DEBUG   [simulation.py]: [Flood] Step 1 finished\n",
            "DEBUG   [simulation.py]: [Flood] Step 2 finished\n",
            "DEBUG   [simulation.py]: [Flood] Step 3 finished\n",
            "DEBUG   [simulation.py]: [Flood] Step 4 finished\n",
            "DEBUG   [simulation.py]: [Flood] Step 5 finished\n",
            "DEBUG   [simulation.py]: [Flood] Step 6 finished\n",
            "DEBUG   [simulation.py]: [Flood] Step 7 finished\n",
            "DEBUG   [simulation.py]: [Flood] Step 8 finished\n",
            "DEBUG   [simulation.py]: [Flood] Step 9 finished\n",
            "DEBUG   [simulation.py]: [Flood] Step 10 finished\n",
            "DEBUG   [simulation.py]: [Flood] Step 11 finished\n",
            "DEBUG   [simulation.py]: [Flood] Step 12 finished\n",
            "DEBUG   [simulation.py]: [Flood] Step 13 finished\n",
            "DEBUG   [simulation.py]: [Flood] Step 14 finished\n",
            "DEBUG   [simulation.py]: [Flood] Step 15 finished\n",
            "DEBUG   [simulation.py]: [Flood] Step 16 finished\n",
            "DEBUG   [simulation.py]: [Flood] Step 17 finished\n",
            "DEBUG   [simulation.py]: [Flood] Step 18 finished\n",
            "DEBUG   [simulation.py]: [Flood] Step 19 finished\n",
            "DEBUG   [simulation.py]: [Flood] Step 20 finished\n",
            "DEBUG   [simulation.py]: [Flood] Step 21 finished\n",
            "DEBUG   [simulation.py]: [Flood] Step 22 finished\n",
            "DEBUG   [simulation.py]: [Flood] Algorithm finished\n",
            "INFO    [simulation.py]: Simulation has finished. There are no algorithms left to run. To run it from the start use sim.reset().\n"
          ]
        }
      ],
      "source": [
        "from pymote import *\n",
        "net_gen = NetworkGenerator(100)\n",
        "net = net_gen.generate_random_network()\n",
        "from pymote.algorithms.broadcast import Flood\n",
        "net.algorithms = ( (Flood, {'informationKey':'I'}), )\n",
        "some_node = net.nodes()[0]\n",
        "some_node.memory['I'] = 'Hello distributed world'\n",
        "sim = Simulation(net)\n",
        "sim.run()"
      ]
    },
    {
      "cell_type": "markdown",
      "metadata": {
        "id": "d3s4_XDsIKRQ"
      },
      "source": [
        "That's it! For more elaborate description please continue reading."
      ]
    },
    {
      "cell_type": "markdown",
      "metadata": {
        "id": "UnQizoRsIKRQ"
      },
      "source": [
        "In the example given above, the goal was to simulate distributed algorithm `Flood` on arbitrary network. Algorithm `Flood` solves *Broadcast* problem, i.e. the goal of the algorithm is to share information that is present in one or more nodes to all other nodes in the network."
      ]
    },
    {
      "cell_type": "markdown",
      "metadata": {
        "id": "ussA02vaIKRQ"
      },
      "source": [
        "In this example the IPython interactive console is started with `ipymote` or `ipython --profile=pymote`. This way certain names from Pymote package should already be available such as `Node` or `Network`."
      ]
    },
    {
      "cell_type": "markdown",
      "metadata": {
        "id": "25N240CZIKRQ"
      },
      "source": [
        "### Generating network\n",
        "\n",
        "Networks are fundamental objects in the Pymote and they can be created by instantiating `Network` class or by using  `NetworkGenerator` class. `NetworkGenerator` can receive different parameters such as number of nodes (exact, min, max), average number of neighbors per node etc.\n",
        "\n",
        "In this example the only parametar that we want to have in control is number of nodes. which is set to 100."
      ]
    },
    {
      "cell_type": "code",
      "execution_count": null,
      "metadata": {
        "id": "dUU7kZ1wIKRR"
      },
      "outputs": [],
      "source": [
        "net_gen = NetworkGenerator(100)"
      ]
    },
    {
      "cell_type": "markdown",
      "metadata": {
        "id": "RvVlCr1qIKRR"
      },
      "source": [
        "Now generator's methods can be used to generate new networks with specified parameters, i.e. for generating network with random placement of nodes there is method `generate_random_network()`:"
      ]
    },
    {
      "cell_type": "code",
      "execution_count": null,
      "metadata": {
        "id": "fTWFSWT_IKRR"
      },
      "outputs": [],
      "source": [
        "net = net_gen.generate_random_network()"
      ]
    },
    {
      "cell_type": "markdown",
      "metadata": {
        "id": "qi1NJuLrIKRR"
      },
      "source": [
        "*Note:* One of the `NetworkGenerator` parameters control if the generated network should be connected (which means  there are no isolated segments of the network). This parameter `connected` is by default set to `True` so if the number of nodes is set too low then some generator's methods  might not be able to produce the network."
      ]
    },
    {
      "cell_type": "markdown",
      "metadata": {
        "id": "VG18aRU-IKRS"
      },
      "source": [
        "The result is instance of the Network class:"
      ]
    },
    {
      "cell_type": "code",
      "execution_count": null,
      "metadata": {
        "id": "-vesDvtnIKRS",
        "outputId": "2f347168-f241-4d1e-c3c3-38ac871f9e24"
      },
      "outputs": [
        {
          "data": {},
          "execution_count": 4,
          "metadata": {},
          "output_type": "execute_result"
        }
      ],
      "source": [
        "net"
      ]
    },
    {
      "cell_type": "markdown",
      "metadata": {
        "id": "kmUQN53NIKRS"
      },
      "source": [
        "which can be visualized with its `show()` method:"
      ]
    },
    {
      "cell_type": "code",
      "execution_count": 2,
      "metadata": {
        "id": "q0JVUYBcIKRS",
        "outputId": "16c3bf7f-07f3-4a14-ea51-7717abb88237"
      },
      "outputs": [
        {
          "name": "stderr",
          "output_type": "stream",
          "text": [
            "c:\\Users\\agust\\AppData\\Local\\Programs\\Python\\Python311\\Lib\\site-packages\\networkx\\drawing\\nx_pylab.py:433: UserWarning: No data for colormapping provided via 'c'. Parameters 'cmap' will be ignored\n",
            "  node_collection = ax.scatter(\n",
            "c:\\Users\\agust\\AppData\\Local\\Programs\\Python\\Python311\\Lib\\site-packages\\pymote\\network.py:207: UserWarning: FigureCanvasAgg is non-interactive, and thus cannot be shown\n",
            "  fig.show()\n"
          ]
        },
        {
          "data": {
            "image/png": "[encoded data removed]",
            "text/plain": [
              "<Figure size 600x600 with 1 Axes>"
            ]
          },
          "metadata": {},
          "output_type": "display_data"
        }
      ],
      "source": [
        "net.show()"
      ]
    },
    {
      "cell_type": "markdown",
      "metadata": {
        "id": "sEYOElVXIKRS"
      },
      "source": [
        "### Algorithm\n",
        "\n",
        "Algorithm `Flood` is part of the `broadcast` module so it should be imported:"
      ]
    },
    {
      "cell_type": "code",
      "execution_count": null,
      "metadata": {
        "id": "wwaAh2VeIKRS"
      },
      "outputs": [],
      "source": [
        "from pymote.algorithms.broadcast import Flood"
      ]
    },
    {
      "cell_type": "markdown",
      "metadata": {
        "id": "UhIMC98sIKRS"
      },
      "source": [
        "and then assigned to the generated network:"
      ]
    },
    {
      "cell_type": "code",
      "execution_count": null,
      "metadata": {
        "id": "9VPhHAv-IKRS"
      },
      "outputs": [],
      "source": [
        "net.algorithms = ( (Flood, {'informationKey':'I'}), )"
      ]
    },
    {
      "cell_type": "markdown",
      "metadata": {
        "id": "wl8UmzwUIKRT"
      },
      "source": [
        "Two things should be noted:\n",
        "\n",
        "* there can be multiple algorithms that are being assigned to the network so specific algorithms are elements of `tuple`. Since in this example there is only one algorithm we must append `,` so that Python knows it's a one element `tuple` i.e. `(1)` is `int`, but `(1,)` is `tuple`.\n",
        "* every algorithm element is `tuple` itself, consisting of two elements. Former is an algorithm class, in this example `Flood`. Later is a `dict` of keyword parameters, i.e. `Flood` must be given 'informationKey' as a required parameter: that is the name of the key under which the nodes should store broadcasted information in their memory.\n"
      ]
    },
    {
      "cell_type": "markdown",
      "metadata": {
        "id": "oCL130S4IKRT"
      },
      "source": [
        "This algorithm demands that at least one node knows information to be broadcasted, so in this example at least one node should have some value stored under `I` key:"
      ]
    },
    {
      "cell_type": "code",
      "execution_count": null,
      "metadata": {
        "id": "97J-DB8oIKRT"
      },
      "outputs": [],
      "source": [
        "some_node = net.nodes()[0]                         # take the first node, it can be any node\n",
        "some_node.memory['I'] = 'Hello distributed world'  # under key 'I' write the information to be boradcasted"
      ]
    },
    {
      "cell_type": "markdown",
      "metadata": {
        "id": "vU4HiMXGIKRT"
      },
      "source": [
        " This way `some_node` has become algorithm initiator."
      ]
    },
    {
      "cell_type": "markdown",
      "metadata": {
        "id": "VoORhp1bIKRT"
      },
      "source": [
        "### Simulation\n",
        "\n",
        "After network creation and setup all that is left to do is to create and run simulation. Every simulation has its own network (sent as parameter) that it runs on:"
      ]
    },
    {
      "cell_type": "code",
      "execution_count": null,
      "metadata": {
        "id": "zstFhUSNIKRT",
        "outputId": "d833be07-04b5-429d-a209-f47d116c36ae"
      },
      "outputs": [
        {
          "name": "stdout",
          "output_type": "stream",
          "text": [
            "DEBUG    [simulation.py]: Simulation 0x6a12788 created successfully.\n"
          ]
        }
      ],
      "source": [
        "sim = Simulation(net)"
      ]
    },
    {
      "cell_type": "markdown",
      "metadata": {
        "id": "CBbV5L7UIKRT"
      },
      "source": [
        "Finally, run simulation:"
      ]
    },
    {
      "cell_type": "code",
      "execution_count": null,
      "metadata": {
        "id": "ahL-eP4OIKRT",
        "outputId": "0a78129c-79df-44f5-f442-2f07cfd144ef"
      },
      "outputs": [
        {
          "name": "stdout",
          "output_type": "stream",
          "text": [
            "DEBUG    [simulation.py]: [Flood] Step 1 finished\n"
          ]
        },
        {
          "name": "stdout",
          "output_type": "stream",
          "text": [
            "DEBUG    [simulation.py]: [Flood] Step 2 finished\n"
          ]
        },
        {
          "name": "stdout",
          "output_type": "stream",
          "text": [
            "DEBUG    [simulation.py]: [Flood] Step 3 finished\n"
          ]
        },
        {
          "name": "stdout",
          "output_type": "stream",
          "text": [
            "DEBUG    [simulation.py]: [Flood] Step 4 finished\n"
          ]
        },
        {
          "name": "stdout",
          "output_type": "stream",
          "text": [
            "DEBUG    [simulation.py]: [Flood] Step 5 finished\n"
          ]
        },
        {
          "name": "stdout",
          "output_type": "stream",
          "text": [
            "DEBUG    [simulation.py]: [Flood] Step 6 finished\n"
          ]
        },
        {
          "name": "stdout",
          "output_type": "stream",
          "text": [
            "DEBUG    [simulation.py]: [Flood] Step 7 finished\n"
          ]
        },
        {
          "name": "stdout",
          "output_type": "stream",
          "text": [
            "DEBUG    [simulation.py]: [Flood] Step 8 finished\n"
          ]
        },
        {
          "name": "stdout",
          "output_type": "stream",
          "text": [
            "DEBUG    [simulation.py]: [Flood] Step 9 finished\n"
          ]
        },
        {
          "name": "stdout",
          "output_type": "stream",
          "text": [
            "DEBUG    [simulation.py]: [Flood] Step 10 finished\n"
          ]
        },
        {
          "name": "stdout",
          "output_type": "stream",
          "text": [
            "DEBUG    [simulation.py]: [Flood] Step 11 finished\n"
          ]
        },
        {
          "name": "stdout",
          "output_type": "stream",
          "text": [
            "DEBUG    [simulation.py]: [Flood] Step 12 finished\n"
          ]
        },
        {
          "name": "stdout",
          "output_type": "stream",
          "text": [
            "DEBUG    [simulation.py]: [Flood] Step 13 finished\n"
          ]
        },
        {
          "name": "stdout",
          "output_type": "stream",
          "text": [
            "DEBUG    [simulation.py]: [Flood] Step 14 finished\n"
          ]
        },
        {
          "name": "stdout",
          "output_type": "stream",
          "text": [
            "DEBUG    [simulation.py]: [Flood] Step 15 finished\n"
          ]
        },
        {
          "name": "stdout",
          "output_type": "stream",
          "text": [
            "DEBUG    [simulation.py]: [Flood] Step 16 finished\n"
          ]
        },
        {
          "name": "stdout",
          "output_type": "stream",
          "text": [
            "DEBUG    [simulation.py]: [Flood] Step 17 finished\n"
          ]
        },
        {
          "name": "stdout",
          "output_type": "stream",
          "text": [
            "DEBUG    [simulation.py]: [Flood] Step 18 finished\n"
          ]
        },
        {
          "name": "stdout",
          "output_type": "stream",
          "text": [
            "DEBUG    [simulation.py]: [Flood] Step 19 finished\n"
          ]
        },
        {
          "name": "stdout",
          "output_type": "stream",
          "text": [
            "DEBUG    [simulation.py]: [Flood] Step 20 finished\n"
          ]
        },
        {
          "name": "stdout",
          "output_type": "stream",
          "text": [
            "DEBUG    [simulation.py]: [Flood] Step 21 finished\n"
          ]
        },
        {
          "name": "stdout",
          "output_type": "stream",
          "text": [
            "DEBUG    [simulation.py]: [Flood] Step 22 finished\n"
          ]
        },
        {
          "name": "stdout",
          "output_type": "stream",
          "text": [
            "DEBUG    [simulation.py]: [Flood] Step 23 finished\n"
          ]
        },
        {
          "name": "stdout",
          "output_type": "stream",
          "text": [
            "DEBUG    [simulation.py]: [Flood] Step 24 finished\n"
          ]
        },
        {
          "name": "stdout",
          "output_type": "stream",
          "text": [
            "DEBUG    [simulation.py]: [Flood] Step 25 finished\n"
          ]
        },
        {
          "name": "stdout",
          "output_type": "stream",
          "text": [
            "DEBUG    [simulation.py]: [Flood] Step 26 finished\n"
          ]
        },
        {
          "name": "stdout",
          "output_type": "stream",
          "text": [
            "DEBUG    [simulation.py]: [Flood] Step 27 finished\n"
          ]
        },
        {
          "name": "stdout",
          "output_type": "stream",
          "text": [
            "DEBUG    [simulation.py]: [Flood] Step 28 finished\n"
          ]
        },
        {
          "name": "stdout",
          "output_type": "stream",
          "text": [
            "DEBUG    [simulation.py]: [Flood] Algorithm finished\n"
          ]
        },
        {
          "name": "stdout",
          "output_type": "stream",
          "text": [
            "INFO     [simulation.py]: Simulation has finished. There are no algorithms left to run. To run it from the start use sim.reset().\n"
          ]
        }
      ],
      "source": [
        "sim.run()"
      ]
    },
    {
      "cell_type": "markdown",
      "metadata": {
        "id": "m4tSzxrTIKRT"
      },
      "source": [
        "After the algorithm(s) execution is done we can check if the resullt is as expected, that is every node should have information in their memory:"
      ]
    },
    {
      "cell_type": "code",
      "execution_count": 3,
      "metadata": {
        "id": "H2rsruiUIKRT",
        "outputId": "32e92d06-26d8-4892-d661-a84dabfe411e"
      },
      "outputs": [
        {
          "name": "stdout",
          "output_type": "stream",
          "text": [
            "Hello distributed world\n",
            "Hello distributed world\n",
            "Hello distributed world\n",
            "Hello distributed world\n",
            "Hello distributed world\n",
            "Hello distributed world\n",
            "Hello distributed world\n",
            "Hello distributed world\n",
            "Hello distributed world\n",
            "Hello distributed world\n",
            "Hello distributed world\n",
            "Hello distributed world\n",
            "Hello distributed world\n",
            "Hello distributed world\n",
            "Hello distributed world\n",
            "Hello distributed world\n",
            "Hello distributed world\n",
            "Hello distributed world\n",
            "Hello distributed world\n",
            "Hello distributed world\n",
            "Hello distributed world\n",
            "Hello distributed world\n",
            "Hello distributed world\n",
            "Hello distributed world\n",
            "Hello distributed world\n",
            "Hello distributed world\n",
            "Hello distributed world\n",
            "Hello distributed world\n",
            "Hello distributed world\n",
            "Hello distributed world\n",
            "Hello distributed world\n",
            "Hello distributed world\n",
            "Hello distributed world\n",
            "Hello distributed world\n",
            "Hello distributed world\n",
            "Hello distributed world\n",
            "Hello distributed world\n",
            "Hello distributed world\n",
            "Hello distributed world\n",
            "Hello distributed world\n",
            "Hello distributed world\n",
            "Hello distributed world\n",
            "Hello distributed world\n",
            "Hello distributed world\n",
            "Hello distributed world\n",
            "Hello distributed world\n",
            "Hello distributed world\n",
            "Hello distributed world\n",
            "Hello distributed world\n",
            "Hello distributed world\n",
            "Hello distributed world\n",
            "Hello distributed world\n",
            "Hello distributed world\n",
            "Hello distributed world\n",
            "Hello distributed world\n",
            "Hello distributed world\n",
            "Hello distributed world\n",
            "Hello distributed world\n",
            "Hello distributed world\n",
            "Hello distributed world\n",
            "Hello distributed world\n",
            "Hello distributed world\n",
            "Hello distributed world\n",
            "Hello distributed world\n",
            "Hello distributed world\n",
            "Hello distributed world\n",
            "Hello distributed world\n",
            "Hello distributed world\n",
            "Hello distributed world\n",
            "Hello distributed world\n",
            "Hello distributed world\n",
            "Hello distributed world\n",
            "Hello distributed world\n",
            "Hello distributed world\n",
            "Hello distributed world\n",
            "Hello distributed world\n",
            "Hello distributed world\n",
            "Hello distributed world\n",
            "Hello distributed world\n",
            "Hello distributed world\n",
            "Hello distributed world\n",
            "Hello distributed world\n",
            "Hello distributed world\n",
            "Hello distributed world\n",
            "Hello distributed world\n",
            "Hello distributed world\n",
            "Hello distributed world\n",
            "Hello distributed world\n",
            "Hello distributed world\n",
            "Hello distributed world\n",
            "Hello distributed world\n",
            "Hello distributed world\n",
            "Hello distributed world\n",
            "Hello distributed world\n",
            "Hello distributed world\n",
            "Hello distributed world\n",
            "Hello distributed world\n",
            "Hello distributed world\n",
            "Hello distributed world\n",
            "Hello distributed world\n"
          ]
        }
      ],
      "source": [
        "for node in net.nodes():\n",
        "    print(node.memory['I']),"
      ]
    },
    {
      "cell_type": "markdown",
      "metadata": {
        "id": "q18Q_tQYIKRT"
      },
      "source": [
        "During simulation execution, network and its nodes are changing their status, memory content etc. To memorize the currently running algorithm and current step of the simulation, network has a special attribute `algorithmsState`:"
      ]
    },
    {
      "cell_type": "code",
      "execution_count": 4,
      "metadata": {
        "id": "mcc7XWTRIKRU",
        "outputId": "d437f0f2-9edd-4a33-c988-3be908afde73"
      },
      "outputs": [
        {
          "data": {
            "text/plain": [
              "{'index': 0, 'step': 23, 'finished': True}"
            ]
          },
          "execution_count": 4,
          "metadata": {},
          "output_type": "execute_result"
        }
      ],
      "source": [
        "net.algorithmState"
      ]
    },
    {
      "cell_type": "markdown",
      "metadata": {
        "id": "JrQR8ftTIKRU"
      },
      "source": [
        "If simulation is going to be run again, it must be reset:"
      ]
    },
    {
      "cell_type": "code",
      "execution_count": 6,
      "metadata": {
        "id": "gprEPr49IKRU",
        "outputId": "439d8dbd-65e5-41f4-f5f7-2d9bce9eb7bd"
      },
      "outputs": [
        {
          "name": "stdout",
          "output_type": "stream",
          "text": [
            "INFO    [simulation.py]: Resetting simulation.\n"
          ]
        }
      ],
      "source": [
        "sim.reset()"
      ]
    },
    {
      "cell_type": "markdown",
      "metadata": {
        "id": "b_SEZU08IKRU"
      },
      "source": [
        "whereby:\n",
        "\n",
        "* `algorithmState` is returned to the initial value:"
      ]
    },
    {
      "cell_type": "code",
      "execution_count": 7,
      "metadata": {
        "id": "jMTwzLRkIKRU",
        "outputId": "a1948897-04cd-4bc1-cb97-a45723f30493"
      },
      "outputs": [
        {
          "data": {
            "text/plain": [
              "{'index': 0, 'step': 1, 'finished': False}"
            ]
          },
          "execution_count": 7,
          "metadata": {},
          "output_type": "execute_result"
        }
      ],
      "source": [
        "net.algorithmState"
      ]
    },
    {
      "cell_type": "markdown",
      "metadata": {
        "id": "5zgTK1TMIKRU"
      },
      "source": [
        "* memory content of all node's is deleted (as long as some other attributes)"
      ]
    },
    {
      "cell_type": "code",
      "execution_count": 8,
      "metadata": {
        "id": "3AgVUCXcIKRU",
        "outputId": "e4dc9056-b8d0-435a-bd33-9892b9fc7e10"
      },
      "outputs": [
        {
          "name": "stdout",
          "output_type": "stream",
          "text": [
            "{}\n",
            "{}\n",
            "{}\n",
            "{}\n",
            "{}\n",
            "{}\n",
            "{}\n",
            "{}\n",
            "{}\n",
            "{}\n",
            "{}\n",
            "{}\n",
            "{}\n",
            "{}\n",
            "{}\n",
            "{}\n",
            "{}\n",
            "{}\n",
            "{}\n",
            "{}\n",
            "{}\n",
            "{}\n",
            "{}\n",
            "{}\n",
            "{}\n",
            "{}\n",
            "{}\n",
            "{}\n",
            "{}\n",
            "{}\n",
            "{}\n",
            "{}\n",
            "{}\n",
            "{}\n",
            "{}\n",
            "{}\n",
            "{}\n",
            "{}\n",
            "{}\n",
            "{}\n",
            "{}\n",
            "{}\n",
            "{}\n",
            "{}\n",
            "{}\n",
            "{}\n",
            "{}\n",
            "{}\n",
            "{}\n",
            "{}\n",
            "{}\n",
            "{}\n",
            "{}\n",
            "{}\n",
            "{}\n",
            "{}\n",
            "{}\n",
            "{}\n",
            "{}\n",
            "{}\n",
            "{}\n",
            "{}\n",
            "{}\n",
            "{}\n",
            "{}\n",
            "{}\n",
            "{}\n",
            "{}\n",
            "{}\n",
            "{}\n",
            "{}\n",
            "{}\n",
            "{}\n",
            "{}\n",
            "{}\n",
            "{}\n",
            "{}\n",
            "{}\n",
            "{}\n",
            "{}\n",
            "{}\n",
            "{}\n",
            "{}\n",
            "{}\n",
            "{}\n",
            "{}\n",
            "{}\n",
            "{}\n",
            "{}\n",
            "{}\n",
            "{}\n",
            "{}\n",
            "{}\n",
            "{}\n",
            "{}\n",
            "{}\n",
            "{}\n",
            "{}\n",
            "{}\n",
            "{}\n"
          ]
        }
      ],
      "source": [
        "for node in net.nodes():\n",
        "    print(node.memory)"
      ]
    },
    {
      "cell_type": "code",
      "execution_count": 9,
      "metadata": {
        "id": "wG4Jq_s7IKRU",
        "outputId": "940c51e0-35c6-41ea-b511-81b6a51acf9f"
      },
      "outputs": [
        {
          "name": "stdout",
          "output_type": "stream",
          "text": [
            "DEBUG   [simulation.py]: [Flood] Step 1 finished\n",
            "DEBUG   [simulation.py]: [Flood] Step 2 finished\n",
            "DEBUG   [simulation.py]: [Flood] Step 3 finished\n",
            "DEBUG   [simulation.py]: [Flood] Step 4 finished\n",
            "DEBUG   [simulation.py]: [Flood] Step 5 finished\n",
            "DEBUG   [simulation.py]: [Flood] Step 6 finished\n",
            "DEBUG   [simulation.py]: [Flood] Step 7 finished\n",
            "DEBUG   [simulation.py]: [Flood] Step 8 finished\n",
            "DEBUG   [simulation.py]: [Flood] Step 9 finished\n",
            "DEBUG   [simulation.py]: [Flood] Step 10 finished\n",
            "DEBUG   [simulation.py]: [Flood] Step 11 finished\n",
            "DEBUG   [simulation.py]: [Flood] Step 12 finished\n",
            "DEBUG   [simulation.py]: [Flood] Step 13 finished\n",
            "DEBUG   [simulation.py]: [Flood] Step 14 finished\n",
            "DEBUG   [simulation.py]: [Flood] Step 15 finished\n",
            "DEBUG   [simulation.py]: [Flood] Step 16 finished\n",
            "DEBUG   [simulation.py]: [Flood] Step 17 finished\n",
            "DEBUG   [simulation.py]: [Flood] Step 18 finished\n",
            "DEBUG   [simulation.py]: [Flood] Step 19 finished\n",
            "DEBUG   [simulation.py]: [Flood] Step 20 finished\n",
            "DEBUG   [simulation.py]: [Flood] Step 21 finished\n",
            "DEBUG   [simulation.py]: [Flood] Step 22 finished\n",
            "DEBUG   [simulation.py]: [Flood] Algorithm finished\n",
            "INFO    [simulation.py]: Simulation has finished. There are no algorithms left to run. To run it from the start use sim.reset().\n"
          ]
        }
      ],
      "source": [
        "some_node.memory['I'] = 'Hello again'\n",
        "sim.run()"
      ]
    }
  ],
  "metadata": {
    "colab": {
      "provenance": []
    },
    "kernelspec": {
      "display_name": "Python 3",
      "name": "python3"
    },
    "language_info": {
      "codemirror_mode": {
        "name": "ipython",
        "version": 3
      },
      "file_extension": ".py",
      "mimetype": "text/x-python",
      "name": "python",
      "nbconvert_exporter": "python",
      "pygments_lexer": "ipython3",
      "version": "3.11.4"
    }
  },
  "nbformat": 4,
  "nbformat_minor": 0
}
