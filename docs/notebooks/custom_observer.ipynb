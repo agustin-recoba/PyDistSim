{
 "cells": [
  {
   "cell_type": "markdown",
   "metadata": {
    "id": "-cy4CItVIKRK"
   },
   "source": [
    "# Custom observer tutorial\n",
    "\n",
    "The goal of this tutorial is to setup a custom observer that will be able to monitor certain events of the simulation.\n"
   ]
  },
  {
   "cell_type": "code",
   "execution_count": 2,
   "metadata": {
    "id": "bQX5hbAmIKRO",
    "outputId": "10242ef7-4936-4970-9711-0379033b9d30"
   },
   "outputs": [],
   "source": [
    "%matplotlib inline\n",
    "\n",
    "from pydistsim import NetworkGenerator, Simulation\n",
    "from pydistsim.logging import set_log_level, LogLevels, enable_logger\n",
    "\n",
    "set_log_level(LogLevels.INFO)\n",
    "enable_logger()"
   ]
  },
  {
   "cell_type": "markdown",
   "metadata": {
    "id": "sEYOElVXIKRS"
   },
   "source": [
    "### Algorithm\n",
    "\n",
    "To demonstrate this, we will re-use the `Echo` algorithm from the \"Hello World\" example. The algorithm is a simple\n",
    "flooding algorithm that sends a message to all neighbors and waits for the response from all of them.\n",
    "Once every neighbor responds, the algorithms terminates.\n",
    "\n",
    "The observer will be able to monitor the following events:\n",
    "\n",
    "- 'echo_response_received': This event is triggered when a response is received from a neighbor.\n",
    "- 'echo_terminated': This event is triggered when the algorithm terminates.\n",
    "\n",
    "Implementation of `Echo` algorithm is given below. Notice the `self.notify_observers()` method that is called whenever\n",
    "an event occurs.\n"
   ]
  },
  {
   "cell_type": "code",
   "execution_count": 3,
   "metadata": {
    "id": "wwaAh2VeIKRS"
   },
   "outputs": [],
   "source": [
    "from enum import StrEnum\n",
    "from pydistsim.algorithm.node_algorithm import NodeAlgorithm, StatusValues\n",
    "from pydistsim.algorithm.node_wrapper import NodeAccess\n",
    "from pydistsim.message import Message\n",
    "from pydistsim.restrictions.communication import BidirectionalLinks\n",
    "from pydistsim.restrictions.reliability import TotalReliability\n",
    "from pydistsim.restrictions.topological import Connectivity, UniqueInitiator\n",
    "\n",
    "\n",
    "class EchoEvents(StrEnum):\n",
    "    echo_response_received = \"echo_response_received\"\n",
    "    echo_terminated = \"echo_terminated\"\n",
    "\n",
    "\n",
    "class Echo(NodeAlgorithm):\n",
    "    default_params = {\n",
    "        \"echo_message\": \"Hello world!\",\n",
    "    }\n",
    "\n",
    "    class Status(StatusValues):\n",
    "        INITIATOR = \"INITIATOR\"\n",
    "        AWAITING_ECHO = \"AWAITING_ECHO\"\n",
    "        AWAITING_ECHO_RESPONSE = \"AWAITING_ECHO_RESPONSE\"\n",
    "        DONE = \"DONE\"\n",
    "\n",
    "    S_init = (Status.INITIATOR, Status.AWAITING_ECHO)\n",
    "    S_term = (Status.DONE,)\n",
    "\n",
    "    # Here we define under which restrictions the algorithm is designed to work\n",
    "    algorithm_restrictions = (\n",
    "        BidirectionalLinks,  # The algorithm requires bidirectional links, so that the response can be sent back\n",
    "        TotalReliability,  # The algorithm requires that all messages are delivered without loss\n",
    "        Connectivity,  # The algorithm requires that the network is connected\n",
    "        UniqueInitiator,  # The algorithm requires that only one node is the initiator\n",
    "    )\n",
    "\n",
    "    def initializer(self):\n",
    "        # Set all nodes to AWAITING_ECHO\n",
    "        for node in self.network.nodes():\n",
    "            node.status = self.Status.AWAITING_ECHO\n",
    "\n",
    "        # Choose the initiator\n",
    "        ini_node = self.network.nodes_sorted()[0]\n",
    "\n",
    "        # Send the initial message to the initiator\n",
    "        ini_node.push_to_inbox(Message(meta_header=NodeAlgorithm.INI, destination=ini_node))\n",
    "\n",
    "        # Set the initiator status to INITIATOR and store the initial information\n",
    "        ini_node.status = self.Status.INITIATOR\n",
    "        ini_node.memory[\"message\"] = self.echo_message\n",
    "\n",
    "    @Status.INITIATOR\n",
    "    def spontaneously(self, node: NodeAccess, message: Message):\n",
    "        self.send(\n",
    "            node,\n",
    "            data=node.memory[\"message\"],\n",
    "            destination=list(node.neighbors()),  # send to all neighbors\n",
    "            header=\"Echo\",\n",
    "        )\n",
    "        node.memory[\"responseCount\"] = 0\n",
    "        node.status = self.Status.AWAITING_ECHO_RESPONSE\n",
    "\n",
    "    @Status.AWAITING_ECHO_RESPONSE\n",
    "    def receiving(self, node: NodeAccess, message: Message):\n",
    "        if message.header == \"Echo response\":\n",
    "            self.notify_observers(EchoEvents.echo_response_received, node=node, message=message)\n",
    "\n",
    "            # Count the number of responses received, only if the response is the same as the original message\n",
    "            node.memory[\"responseCount\"] += 1 if message.data == node.memory[\"message\"] else 0\n",
    "\n",
    "            # If all responses have been received, set the node status to DONE\n",
    "            if node.memory[\"responseCount\"] == len(list(node.neighbors())):\n",
    "                self.notify_observers(EchoEvents.echo_terminated, node=node)\n",
    "                node.status = self.Status.DONE\n",
    "\n",
    "    @Status.AWAITING_ECHO\n",
    "    def receiving(self, node: NodeAccess, message: Message):\n",
    "        if message.header == \"Echo\":\n",
    "            node.memory[\"message\"] = message.data\n",
    "\n",
    "            self.send(\n",
    "                node,\n",
    "                data=message.data,\n",
    "                destination=message.source,\n",
    "                header=\"Echo response\",\n",
    "            )\n",
    "        node.status = self.Status.DONE\n",
    "\n",
    "    @Status.DONE\n",
    "    def default(self, *args, **kwargs):\n",
    "        \"Do nothing, for all inputs.\"\n",
    "        pass"
   ]
  },
  {
   "cell_type": "markdown",
   "metadata": {},
   "source": [
    "### Observer\n",
    "\n",
    "The observer will be implemented as a class that inherits from both `AlgorithmObserver` and `SimulationObserver` classes.\n"
   ]
  },
  {
   "cell_type": "code",
   "execution_count": 4,
   "metadata": {},
   "outputs": [],
   "source": [
    "from pydistsim.observers import AlgorithmObserver, SimulationObserver\n",
    "from pydistsim.network import Node\n",
    "\n",
    "\n",
    "class EchoObserver(AlgorithmObserver, SimulationObserver):\n",
    "    events = [\n",
    "        EchoEvents.echo_response_received,\n",
    "        EchoEvents.echo_terminated,\n",
    "    ]\n",
    "\n",
    "    def __init__(self):\n",
    "        self.list_of_events = []\n",
    "\n",
    "    def on_echo_response_received(self, node: NodeAccess, message: Message):\n",
    "        actual_node: Node = node.unbox()\n",
    "        actual_source: Node = message.source.unbox()\n",
    "        print(f\"Node {actual_node} received echo response from {actual_source}.\")\n",
    "        self.list_of_events.append(\"received\")\n",
    "\n",
    "    def on_echo_terminated(self, node: NodeAccess):\n",
    "        actual_node: Node = node.unbox()\n",
    "        print(f\"Node {actual_node} terminated.\")\n",
    "        self.list_of_events.append(\"terminated\")"
   ]
  },
  {
   "cell_type": "markdown",
   "metadata": {
    "id": "wl8UmzwUIKRT"
   },
   "source": [
    "### Assigning algorithm and observer to simulation\n"
   ]
  },
  {
   "cell_type": "code",
   "execution_count": 5,
   "metadata": {},
   "outputs": [
    {
     "name": "stdout",
     "output_type": "stream",
     "text": [
      "\u001b[32m2024-10-22 23:39:48.901\u001b[0m | \u001b[1mINFO    \u001b[0m | \u001b[36mpydistsim.simulation\u001b[0m:\u001b[36m__init__\u001b[0m:\u001b[36m59\u001b[0m - \u001b[1mSimulation 0x7f58b45e3190 created successfully.\u001b[0m\n"
     ]
    }
   ],
   "source": [
    "MESSAGE = \"Hello distributed and observable world\"\n",
    "\n",
    "net = NetworkGenerator.generate_star_network(16)\n",
    "observer = EchoObserver()\n",
    "sim = Simulation(net)\n",
    "\n",
    "sim.algorithms = ((Echo, {\"echo_message\": MESSAGE}),)\n",
    "sim.add_observers(observer)"
   ]
  },
  {
   "cell_type": "code",
   "execution_count": 6,
   "metadata": {},
   "outputs": [
    {
     "name": "stderr",
     "output_type": "stream",
     "text": [
      "/mnt/d/Proyectos/pymote/docs/notebooks/../../pydistsim/network/network.py:560: UserWarning: FigureCanvasAgg is non-interactive, and thus cannot be shown\n",
      "  fig.show()\n"
     ]
    },
    {
     "data": {
      "image/png": "[encoded data removed]",
      "text/plain": [
       "<Figure size 640x480 with 1 Axes>"
      ]
     },
     "execution_count": 6,
     "metadata": {},
     "output_type": "execute_result"
    }
   ],
   "source": [
    "net.show()"
   ]
  },
  {
   "cell_type": "markdown",
   "metadata": {},
   "source": [
    "### Running\n"
   ]
  },
  {
   "cell_type": "markdown",
   "metadata": {
    "id": "CBbV5L7UIKRT"
   },
   "source": [
    "Finally, run simulation:\n"
   ]
  },
  {
   "cell_type": "code",
   "execution_count": 7,
   "metadata": {},
   "outputs": [
    {
     "name": "stdout",
     "output_type": "stream",
     "text": [
      "Node <Node id=1> received echo response from <Node id=2>.\n",
      "Node <Node id=1> received echo response from <Node id=3>.\n",
      "Node <Node id=1> received echo response from <Node id=4>.\n",
      "Node <Node id=1> received echo response from <Node id=5>.\n",
      "Node <Node id=1> received echo response from <Node id=6>.\n",
      "Node <Node id=1> received echo response from <Node id=7>.\n",
      "Node <Node id=1> received echo response from <Node id=8>.\n",
      "Node <Node id=1> received echo response from <Node id=9>.\n",
      "Node <Node id=1> received echo response from <Node id=10>.\n",
      "Node <Node id=1> received echo response from <Node id=11>.\n",
      "Node <Node id=1> received echo response from <Node id=12>.\n",
      "Node <Node id=1> received echo response from <Node id=13>.\n",
      "Node <Node id=1> received echo response from <Node id=14>.\n",
      "Node <Node id=1> received echo response from <Node id=15>.\n",
      "Node <Node id=1> received echo response from <Node id=16>.\n",
      "Node <Node id=1> terminated.\n",
      "\u001b[32m2024-10-22 23:39:52.911\u001b[0m | \u001b[1mINFO    \u001b[0m | \u001b[36mpydistsim.simulation\u001b[0m:\u001b[36m_run_algorithm\u001b[0m:\u001b[36m148\u001b[0m - \u001b[1m[Echo] Algorithm finished\u001b[0m\n"
     ]
    }
   ],
   "source": [
    "sim.run()"
   ]
  },
  {
   "cell_type": "markdown",
   "metadata": {},
   "source": [
    "As we can see, the observer has executed the 'print' message me defied in the different trigger methods.\n",
    "\n",
    "Now, we check if the observer has kept track of the events.\n"
   ]
  },
  {
   "cell_type": "code",
   "execution_count": 8,
   "metadata": {},
   "outputs": [
    {
     "data": {
      "text/plain": [
       "['received',\n",
       " 'received',\n",
       " 'received',\n",
       " 'received',\n",
       " 'received',\n",
       " 'received',\n",
       " 'received',\n",
       " 'received',\n",
       " 'received',\n",
       " 'received',\n",
       " 'received',\n",
       " 'received',\n",
       " 'received',\n",
       " 'received',\n",
       " 'received',\n",
       " 'terminated']"
      ]
     },
     "execution_count": 8,
     "metadata": {},
     "output_type": "execute_result"
    }
   ],
   "source": [
    "observer.list_of_events"
   ]
  }
 ],
 "metadata": {
  "colab": {
   "provenance": []
  },
  "kernelspec": {
   "display_name": "venv_pydistim_dev",
   "language": "python",
   "name": "python3"
  },
  "language_info": {
   "codemirror_mode": {
    "name": "ipython",
    "version": 3
   },
   "file_extension": ".py",
   "mimetype": "text/x-python",
   "name": "python",
   "nbconvert_exporter": "python",
   "pygments_lexer": "ipython3",
   "version": "3.11.0rc1"
  }
 },
 "nbformat": 4,
 "nbformat_minor": 0
}
