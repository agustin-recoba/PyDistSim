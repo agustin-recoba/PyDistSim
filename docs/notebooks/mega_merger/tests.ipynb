{
 "cells": [
  {
   "cell_type": "markdown",
   "metadata": {},
   "source": [
    "# Testing the Mega-Merger implementation\n",
    "\n",
    "To ensure the correctness of the algorithm, we will run a few tests.\n",
    "\n",
    "Since the problem Mega-Merger solves is topologically independent Distributed Election, we will test the algorithm in a few different scenarios.\n",
    "The network will be of different sizes and shapes, and the proportion of initiators will vary.\n",
    "\n",
    "The network behavior will be: message ordering, no message loss, random delay based on the network size and unsynchronized clocks."
   ]
  },
  {
   "cell_type": "code",
   "execution_count": 1,
   "metadata": {
    "notebookRunGroups": {
     "groupValue": "1"
    }
   },
   "outputs": [],
   "source": [
    "from random import uniform\n",
    "\n",
    "from pydistsim.demo_algorithms.santoro2007.mega_merger.algorithm import MegaMergerAlgorithm, ExampleParameters\n",
    "from pydistsim.network import NetworkGenerator\n",
    "from pydistsim.network.behavior import NetworkBehaviorModel\n",
    "from pydistsim.simulation import Simulation"
   ]
  },
  {
   "cell_type": "code",
   "execution_count": 87,
   "metadata": {},
   "outputs": [],
   "source": [
    "def test_net(net):\n",
    "    # Numerical parameters: city names and weights are integers\n",
    "    par = ExampleParameters.numerical_parameters.copy()\n",
    "\n",
    "    # Randomize the parameters\n",
    "    par.update({\"percentage_of_initiators\": uniform(0.1, 1)})\n",
    "\n",
    "    # Create the simulation object\n",
    "    sim = Simulation(net, ((MegaMergerAlgorithm, par),))\n",
    "\n",
    "    # Run the simulation\n",
    "    sim.run()\n",
    "\n",
    "    assert all(node.status in MegaMergerAlgorithm.S_term for node in net)\n",
    "    assert len({node.memory[\"city\"].name for node in sim.network.nodes()}) == 1\n",
    "    assert len({node for node in sim.network.nodes() if node.status == MegaMergerAlgorithm.Status.ELECTED}) == 1"
   ]
  },
  {
   "cell_type": "markdown",
   "metadata": {},
   "source": [
    "### Ring network"
   ]
  },
  {
   "cell_type": "code",
   "execution_count": 88,
   "metadata": {},
   "outputs": [
    {
     "name": "stdout",
     "output_type": "stream",
     "text": [
      "Test passed for ring network with 1 nodes.\n",
      "Test passed for ring network with 10 nodes.\n",
      "Test passed for ring network with 40 nodes.\n",
      "Test passed for ring network with 100 nodes.\n",
      "\n",
      "All tests passed for ring networks with 1, 10, 40 and 100 nodes.\n",
      "\n",
      "CPU times: user 6.85 s, sys: 0 ns, total: 6.85 s\n",
      "Wall time: 6.85 s\n"
     ]
    }
   ],
   "source": [
    "%%time\n",
    "\n",
    "for n in [1, 10, 40, 100]:\n",
    "    net = NetworkGenerator.generate_ring_network(n)\n",
    "    net.behavioral_properties = NetworkBehaviorModel.RandomDelayCommunication\n",
    "    test_net(net)\n",
    "    print(f\"Test passed for ring network with {n} nodes.\")\n",
    "\n",
    "print(\"\\nAll tests passed for ring networks with 1, 10, 40 and 100 nodes.\\n\")"
   ]
  },
  {
   "cell_type": "markdown",
   "metadata": {},
   "source": [
    "### Complete network"
   ]
  },
  {
   "cell_type": "code",
   "execution_count": 89,
   "metadata": {},
   "outputs": [
    {
     "name": "stdout",
     "output_type": "stream",
     "text": [
      "All tests passed for complete networks with 2 up to 35 nodes.\n",
      "\n",
      "CPU times: user 9.52 s, sys: 0 ns, total: 9.52 s\n",
      "Wall time: 9.52 s\n"
     ]
    }
   ],
   "source": [
    "%%time\n",
    "\n",
    "for n in range(2, 35):\n",
    "    net = NetworkGenerator.generate_complete_network(n)\n",
    "    net.behavioral_properties = NetworkBehaviorModel.RandomDelayCommunication\n",
    "    test_net(net)\n",
    "\n",
    "print(\"All tests passed for complete networks with 2 up to 35 nodes.\\n\")"
   ]
  },
  {
   "cell_type": "markdown",
   "metadata": {},
   "source": [
    "### Square mesh/grid network"
   ]
  },
  {
   "cell_type": "code",
   "execution_count": 90,
   "metadata": {},
   "outputs": [
    {
     "name": "stdout",
     "output_type": "stream",
     "text": [
      "Test passed for square mesh network with 4 nodes.\n",
      "Test passed for square mesh network with 9 nodes.\n",
      "Test passed for square mesh network with 16 nodes.\n",
      "Test passed for square mesh network with 25 nodes.\n",
      "Test passed for square mesh network with 36 nodes.\n",
      "Test passed for square mesh network with 49 nodes.\n",
      "Test passed for square mesh network with 64 nodes.\n",
      "Test passed for square mesh network with 81 nodes.\n",
      "Test passed for square mesh network with 100 nodes.\n",
      "\n",
      "All tests passed for square mesh networks with 4 up to 121 nodes.\n",
      "\n",
      "CPU times: user 6.26 s, sys: 4.89 ms, total: 6.27 s\n",
      "Wall time: 6.26 s\n"
     ]
    }
   ],
   "source": [
    "%%time\n",
    "\n",
    "for n in range(2, 11):\n",
    "    n = n * n\n",
    "\n",
    "    net = NetworkGenerator.generate_mesh_network(n)\n",
    "    net.behavioral_properties = NetworkBehaviorModel.RandomDelayCommunication\n",
    "    test_net(net)\n",
    "    print(f\"Test passed for square mesh network with {n} nodes.\")\n",
    "\n",
    "print(\"\\nAll tests passed for square mesh networks with 4 up to 121 nodes.\\n\")"
   ]
  },
  {
   "cell_type": "markdown",
   "metadata": {},
   "source": [
    "### Path network (`1 x n` grid)"
   ]
  },
  {
   "cell_type": "code",
   "execution_count": 91,
   "metadata": {},
   "outputs": [
    {
     "name": "stdout",
     "output_type": "stream",
     "text": [
      "Test passed for path network with 10 nodes.\n",
      "Test passed for path network with 20 nodes.\n",
      "Test passed for path network with 30 nodes.\n",
      "Test passed for path network with 40 nodes.\n",
      "Test passed for path network with 50 nodes.\n",
      "\n",
      "All tests passed for path networks with 1 up to 50 nodes.\n",
      "\n",
      "CPU times: user 11.1 s, sys: 34.8 ms, total: 11.2 s\n",
      "Wall time: 11.1 s\n"
     ]
    }
   ],
   "source": [
    "%%time\n",
    "\n",
    "for n in range(2, 51):\n",
    "    net = NetworkGenerator.generate_mesh_network(a=1, b=n)\n",
    "    net.behavioral_properties = NetworkBehaviorModel.RandomDelayCommunication\n",
    "    test_net(net)\n",
    "    if n % 10 == 0:\n",
    "        print(f\"Test passed for path network with {n} nodes.\")\n",
    "\n",
    "print(\"\\nAll tests passed for path networks with 1 up to 50 nodes.\\n\")"
   ]
  },
  {
   "cell_type": "markdown",
   "metadata": {},
   "source": [
    "### Star network"
   ]
  },
  {
   "cell_type": "code",
   "execution_count": 92,
   "metadata": {},
   "outputs": [
    {
     "name": "stdout",
     "output_type": "stream",
     "text": [
      "Test passed for ring network with 10 nodes.\n",
      "Test passed for ring network with 20 nodes.\n",
      "Test passed for ring network with 30 nodes.\n",
      "Test passed for ring network with 40 nodes.\n",
      "\n",
      "All tests passed for ring networks with 2 up to 44 nodes.\n",
      "\n",
      "CPU times: user 7.53 s, sys: 10 μs, total: 7.53 s\n",
      "Wall time: 7.53 s\n"
     ]
    }
   ],
   "source": [
    "%%time\n",
    "\n",
    "for n in range(2, 45):\n",
    "    net = NetworkGenerator.generate_star_network(n)\n",
    "    net.behavioral_properties = NetworkBehaviorModel.RandomDelayCommunication\n",
    "    test_net(net)\n",
    "    if n % 10 == 0:\n",
    "        print(f\"Test passed for star network with {n} nodes.\")\n",
    "\n",
    "print(\"\\nAll tests passed for star networks with 2 up to 44 nodes.\\n\")"
   ]
  }
 ],
 "metadata": {
  "kernelspec": {
   "display_name": "venv_pydistim_dev",
   "language": "python",
   "name": "python3"
  },
  "language_info": {
   "codemirror_mode": {
    "name": "ipython",
    "version": 3
   },
   "file_extension": ".py",
   "mimetype": "text/x-python",
   "name": "python",
   "nbconvert_exporter": "python",
   "pygments_lexer": "ipython3",
   "version": "3.11.0rc1"
  }
 },
 "nbformat": 4,
 "nbformat_minor": 2
}
