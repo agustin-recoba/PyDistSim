{
 "cells": [
  {
   "cell_type": "code",
   "execution_count": 1,
   "metadata": {
    "id": "bQX5hbAmIKRO",
    "outputId": "10242ef7-4936-4970-9711-0379033b9d30"
   },
   "outputs": [],
   "source": [
    "import sys\n",
    "import os\n",
    "\n",
    "sys.path.insert(0, os.path.abspath(\"../../\"))\n",
    "from pydistsim import NetworkGenerator\n",
    "from pydistsim import *"
   ]
  },
  {
   "cell_type": "code",
   "execution_count": 2,
   "metadata": {},
   "outputs": [],
   "source": [
    "from pydistsim.logger import enable_logger, set_log_level\n",
    "\n",
    "enable_logger()\n",
    "set_log_level(\"DEBUG\")"
   ]
  },
  {
   "cell_type": "code",
   "execution_count": 3,
   "metadata": {},
   "outputs": [
    {
     "name": "stdout",
     "output_type": "stream",
     "text": [
      "\u001b[32m2024-05-20 21:04:53.630\u001b[0m | \u001b[33m\u001b[1mWARNING \u001b[0m | \u001b[36mpydistsim.networkgenerator\u001b[0m:\u001b[36m__init__\u001b[0m:\u001b[36m69\u001b[0m - \u001b[33m\u001b[1mGeneration could be slow for large degree parameter with bounded n_max.\u001b[0m\n",
      "\u001b[32m2024-05-20 21:04:53.633\u001b[0m | \u001b[1mINFO    \u001b[0m | \u001b[36mpydistsim.network\u001b[0m:\u001b[36mreset\u001b[0m:\u001b[36m349\u001b[0m - \u001b[1mResetting network.\u001b[0m\n",
      "\u001b[32m2024-05-20 21:04:53.634\u001b[0m | \u001b[1mINFO    \u001b[0m | \u001b[36mpydistsim.network\u001b[0m:\u001b[36mreset_all_nodes\u001b[0m:\u001b[36m473\u001b[0m - \u001b[1mResetting all nodes.\u001b[0m\n",
      "\u001b[32m2024-05-20 21:04:53.635\u001b[0m | \u001b[1mINFO    \u001b[0m | \u001b[36mpydistsim.network\u001b[0m:\u001b[36m__init__\u001b[0m:\u001b[36m73\u001b[0m - \u001b[1mInstance of Network has been initialized.\u001b[0m\n",
      "\u001b[32m2024-05-20 21:04:53.635\u001b[0m | \u001b[34m\u001b[1mDEBUG   \u001b[0m | \u001b[36mpydistsim.environment\u001b[0m:\u001b[36mfind_random_pos\u001b[0m:\u001b[36m214\u001b[0m - \u001b[34m\u001b[1mRandom position found in 0 iterations.\u001b[0m\n",
      "\u001b[32m2024-05-20 21:04:53.636\u001b[0m | \u001b[34m\u001b[1mDEBUG   \u001b[0m | \u001b[36mpydistsim.network\u001b[0m:\u001b[36madd_node\u001b[0m:\u001b[36m243\u001b[0m - \u001b[34m\u001b[1mNode 1 is placed on position [378.96419759 413.92169157].\u001b[0m\n",
      "\u001b[32m2024-05-20 21:04:53.637\u001b[0m | \u001b[34m\u001b[1mDEBUG   \u001b[0m | \u001b[36mpydistsim.environment\u001b[0m:\u001b[36mfind_random_pos\u001b[0m:\u001b[36m214\u001b[0m - \u001b[34m\u001b[1mRandom position found in 0 iterations.\u001b[0m\n",
      "\u001b[32m2024-05-20 21:04:53.637\u001b[0m | \u001b[34m\u001b[1mDEBUG   \u001b[0m | \u001b[36mpydistsim.network\u001b[0m:\u001b[36madd_node\u001b[0m:\u001b[36m243\u001b[0m - \u001b[34m\u001b[1mNode 2 is placed on position [406.11194938 514.29337936].\u001b[0m\n",
      "\u001b[32m2024-05-20 21:04:53.638\u001b[0m | \u001b[34m\u001b[1mDEBUG   \u001b[0m | \u001b[36mpydistsim.environment\u001b[0m:\u001b[36mfind_random_pos\u001b[0m:\u001b[36m214\u001b[0m - \u001b[34m\u001b[1mRandom position found in 0 iterations.\u001b[0m\n",
      "\u001b[32m2024-05-20 21:04:53.639\u001b[0m | \u001b[34m\u001b[1mDEBUG   \u001b[0m | \u001b[36mpydistsim.network\u001b[0m:\u001b[36madd_node\u001b[0m:\u001b[36m243\u001b[0m - \u001b[34m\u001b[1mNode 3 is placed on position [173.66061061   3.75482024].\u001b[0m\n",
      "\u001b[32m2024-05-20 21:04:53.640\u001b[0m | \u001b[34m\u001b[1mDEBUG   \u001b[0m | \u001b[36mpydistsim.environment\u001b[0m:\u001b[36mfind_random_pos\u001b[0m:\u001b[36m214\u001b[0m - \u001b[34m\u001b[1mRandom position found in 0 iterations.\u001b[0m\n",
      "\u001b[32m2024-05-20 21:04:53.640\u001b[0m | \u001b[34m\u001b[1mDEBUG   \u001b[0m | \u001b[36mpydistsim.network\u001b[0m:\u001b[36madd_node\u001b[0m:\u001b[36m243\u001b[0m - \u001b[34m\u001b[1mNode 4 is placed on position [190.6860361  147.41801138].\u001b[0m\n",
      "\u001b[32m2024-05-20 21:04:53.642\u001b[0m | \u001b[34m\u001b[1mDEBUG   \u001b[0m | \u001b[36mpydistsim.environment\u001b[0m:\u001b[36mfind_random_pos\u001b[0m:\u001b[36m214\u001b[0m - \u001b[34m\u001b[1mRandom position found in 0 iterations.\u001b[0m\n",
      "\u001b[32m2024-05-20 21:04:53.642\u001b[0m | \u001b[34m\u001b[1mDEBUG   \u001b[0m | \u001b[36mpydistsim.network\u001b[0m:\u001b[36madd_node\u001b[0m:\u001b[36m243\u001b[0m - \u001b[34m\u001b[1mNode 5 is placed on position [420.12465285   5.39759527].\u001b[0m\n",
      "\u001b[32m2024-05-20 21:04:53.643\u001b[0m | \u001b[34m\u001b[1mDEBUG   \u001b[0m | \u001b[36mpydistsim.environment\u001b[0m:\u001b[36mfind_random_pos\u001b[0m:\u001b[36m214\u001b[0m - \u001b[34m\u001b[1mRandom position found in 0 iterations.\u001b[0m\n",
      "\u001b[32m2024-05-20 21:04:53.644\u001b[0m | \u001b[34m\u001b[1mDEBUG   \u001b[0m | \u001b[36mpydistsim.network\u001b[0m:\u001b[36madd_node\u001b[0m:\u001b[36m243\u001b[0m - \u001b[34m\u001b[1mNode 6 is placed on position [502.40955898 529.08218166].\u001b[0m\n",
      "\u001b[32m2024-05-20 21:04:53.647\u001b[0m | \u001b[34m\u001b[1mDEBUG   \u001b[0m | \u001b[36mpydistsim.environment\u001b[0m:\u001b[36mfind_random_pos\u001b[0m:\u001b[36m214\u001b[0m - \u001b[34m\u001b[1mRandom position found in 0 iterations.\u001b[0m\n",
      "\u001b[32m2024-05-20 21:04:53.648\u001b[0m | \u001b[34m\u001b[1mDEBUG   \u001b[0m | \u001b[36mpydistsim.network\u001b[0m:\u001b[36madd_node\u001b[0m:\u001b[36m243\u001b[0m - \u001b[34m\u001b[1mNode 7 is placed on position [136.02903278 492.35395116].\u001b[0m\n",
      "\u001b[32m2024-05-20 21:04:53.649\u001b[0m | \u001b[34m\u001b[1mDEBUG   \u001b[0m | \u001b[36mpydistsim.environment\u001b[0m:\u001b[36mfind_random_pos\u001b[0m:\u001b[36m214\u001b[0m - \u001b[34m\u001b[1mRandom position found in 0 iterations.\u001b[0m\n",
      "\u001b[32m2024-05-20 21:04:53.650\u001b[0m | \u001b[34m\u001b[1mDEBUG   \u001b[0m | \u001b[36mpydistsim.network\u001b[0m:\u001b[36madd_node\u001b[0m:\u001b[36m243\u001b[0m - \u001b[34m\u001b[1mNode 8 is placed on position [258.91246105 464.64194232].\u001b[0m\n",
      "\u001b[32m2024-05-20 21:04:53.651\u001b[0m | \u001b[34m\u001b[1mDEBUG   \u001b[0m | \u001b[36mpydistsim.environment\u001b[0m:\u001b[36mfind_random_pos\u001b[0m:\u001b[36m214\u001b[0m - \u001b[34m\u001b[1mRandom position found in 0 iterations.\u001b[0m\n",
      "\u001b[32m2024-05-20 21:04:53.652\u001b[0m | \u001b[34m\u001b[1mDEBUG   \u001b[0m | \u001b[36mpydistsim.network\u001b[0m:\u001b[36madd_node\u001b[0m:\u001b[36m243\u001b[0m - \u001b[34m\u001b[1mNode 9 is placed on position [232.86051002 347.94984598].\u001b[0m\n",
      "\u001b[32m2024-05-20 21:04:53.655\u001b[0m | \u001b[34m\u001b[1mDEBUG   \u001b[0m | \u001b[36mpydistsim.environment\u001b[0m:\u001b[36mfind_random_pos\u001b[0m:\u001b[36m214\u001b[0m - \u001b[34m\u001b[1mRandom position found in 0 iterations.\u001b[0m\n",
      "\u001b[32m2024-05-20 21:04:53.656\u001b[0m | \u001b[34m\u001b[1mDEBUG   \u001b[0m | \u001b[36mpydistsim.network\u001b[0m:\u001b[36madd_node\u001b[0m:\u001b[36m243\u001b[0m - \u001b[34m\u001b[1mNode 10 is placed on position [238.15750811 465.86936342].\u001b[0m\n",
      "\u001b[32m2024-05-20 21:04:53.658\u001b[0m | \u001b[34m\u001b[1mDEBUG   \u001b[0m | \u001b[36mpydistsim.networkgenerator\u001b[0m:\u001b[36m_are_conditions_satisfied\u001b[0m:\u001b[36m135\u001b[0m - \u001b[34m\u001b[1mNot connected\u001b[0m\n",
      "\u001b[32m2024-05-20 21:04:53.658\u001b[0m | \u001b[34m\u001b[1mDEBUG   \u001b[0m | \u001b[36mpydistsim.environment\u001b[0m:\u001b[36mfind_random_pos\u001b[0m:\u001b[36m214\u001b[0m - \u001b[34m\u001b[1mRandom position found in 0 iterations.\u001b[0m\n",
      "\u001b[32m2024-05-20 21:04:53.659\u001b[0m | \u001b[34m\u001b[1mDEBUG   \u001b[0m | \u001b[36mpydistsim.network\u001b[0m:\u001b[36madd_node\u001b[0m:\u001b[36m243\u001b[0m - \u001b[34m\u001b[1mNode 11 is placed on position [524.61311412   5.20648402].\u001b[0m\n",
      "\u001b[32m2024-05-20 21:04:53.661\u001b[0m | \u001b[34m\u001b[1mDEBUG   \u001b[0m | \u001b[36mpydistsim.networkgenerator\u001b[0m:\u001b[36m_create_modify_network\u001b[0m:\u001b[36m104\u001b[0m - \u001b[34m\u001b[1mAdded node, number of nodes: 11\u001b[0m\n",
      "\u001b[32m2024-05-20 21:04:53.661\u001b[0m | \u001b[34m\u001b[1mDEBUG   \u001b[0m | \u001b[36mpydistsim.networkgenerator\u001b[0m:\u001b[36m_are_conditions_satisfied\u001b[0m:\u001b[36m135\u001b[0m - \u001b[34m\u001b[1mNot connected\u001b[0m\n",
      "\u001b[32m2024-05-20 21:04:53.662\u001b[0m | \u001b[34m\u001b[1mDEBUG   \u001b[0m | \u001b[36mpydistsim.environment\u001b[0m:\u001b[36mfind_random_pos\u001b[0m:\u001b[36m214\u001b[0m - \u001b[34m\u001b[1mRandom position found in 0 iterations.\u001b[0m\n",
      "\u001b[32m2024-05-20 21:04:53.663\u001b[0m | \u001b[34m\u001b[1mDEBUG   \u001b[0m | \u001b[36mpydistsim.network\u001b[0m:\u001b[36madd_node\u001b[0m:\u001b[36m243\u001b[0m - \u001b[34m\u001b[1mNode 12 is placed on position [537.79404712 466.66812946].\u001b[0m\n",
      "\u001b[32m2024-05-20 21:04:53.665\u001b[0m | \u001b[34m\u001b[1mDEBUG   \u001b[0m | \u001b[36mpydistsim.networkgenerator\u001b[0m:\u001b[36m_create_modify_network\u001b[0m:\u001b[36m104\u001b[0m - \u001b[34m\u001b[1mAdded node, number of nodes: 12\u001b[0m\n",
      "\u001b[32m2024-05-20 21:04:53.666\u001b[0m | \u001b[34m\u001b[1mDEBUG   \u001b[0m | \u001b[36mpydistsim.networkgenerator\u001b[0m:\u001b[36m_are_conditions_satisfied\u001b[0m:\u001b[36m135\u001b[0m - \u001b[34m\u001b[1mNot connected\u001b[0m\n",
      "\u001b[32m2024-05-20 21:04:53.667\u001b[0m | \u001b[34m\u001b[1mDEBUG   \u001b[0m | \u001b[36mpydistsim.environment\u001b[0m:\u001b[36mfind_random_pos\u001b[0m:\u001b[36m214\u001b[0m - \u001b[34m\u001b[1mRandom position found in 0 iterations.\u001b[0m\n",
      "\u001b[32m2024-05-20 21:04:53.667\u001b[0m | \u001b[34m\u001b[1mDEBUG   \u001b[0m | \u001b[36mpydistsim.network\u001b[0m:\u001b[36madd_node\u001b[0m:\u001b[36m243\u001b[0m - \u001b[34m\u001b[1mNode 13 is placed on position [489.36264439  35.11168839].\u001b[0m\n",
      "\u001b[32m2024-05-20 21:04:53.670\u001b[0m | \u001b[34m\u001b[1mDEBUG   \u001b[0m | \u001b[36mpydistsim.networkgenerator\u001b[0m:\u001b[36m_create_modify_network\u001b[0m:\u001b[36m104\u001b[0m - \u001b[34m\u001b[1mAdded node, number of nodes: 13\u001b[0m\n",
      "\u001b[32m2024-05-20 21:04:53.671\u001b[0m | \u001b[34m\u001b[1mDEBUG   \u001b[0m | \u001b[36mpydistsim.networkgenerator\u001b[0m:\u001b[36m_are_conditions_satisfied\u001b[0m:\u001b[36m135\u001b[0m - \u001b[34m\u001b[1mNot connected\u001b[0m\n",
      "\u001b[32m2024-05-20 21:04:53.672\u001b[0m | \u001b[34m\u001b[1mDEBUG   \u001b[0m | \u001b[36mpydistsim.environment\u001b[0m:\u001b[36mfind_random_pos\u001b[0m:\u001b[36m214\u001b[0m - \u001b[34m\u001b[1mRandom position found in 0 iterations.\u001b[0m\n",
      "\u001b[32m2024-05-20 21:04:53.673\u001b[0m | \u001b[34m\u001b[1mDEBUG   \u001b[0m | \u001b[36mpydistsim.network\u001b[0m:\u001b[36madd_node\u001b[0m:\u001b[36m243\u001b[0m - \u001b[34m\u001b[1mNode 14 is placed on position [473.82617074 327.8956458 ].\u001b[0m\n",
      "\u001b[32m2024-05-20 21:04:53.673\u001b[0m | \u001b[34m\u001b[1mDEBUG   \u001b[0m | \u001b[36mpydistsim.networkgenerator\u001b[0m:\u001b[36m_create_modify_network\u001b[0m:\u001b[36m104\u001b[0m - \u001b[34m\u001b[1mAdded node, number of nodes: 14\u001b[0m\n",
      "\u001b[32m2024-05-20 21:04:53.674\u001b[0m | \u001b[34m\u001b[1mDEBUG   \u001b[0m | \u001b[36mpydistsim.networkgenerator\u001b[0m:\u001b[36m_are_conditions_satisfied\u001b[0m:\u001b[36m135\u001b[0m - \u001b[34m\u001b[1mNot connected\u001b[0m\n",
      "\u001b[32m2024-05-20 21:04:53.675\u001b[0m | \u001b[34m\u001b[1mDEBUG   \u001b[0m | \u001b[36mpydistsim.environment\u001b[0m:\u001b[36mfind_random_pos\u001b[0m:\u001b[36m214\u001b[0m - \u001b[34m\u001b[1mRandom position found in 0 iterations.\u001b[0m\n",
      "\u001b[32m2024-05-20 21:04:53.675\u001b[0m | \u001b[34m\u001b[1mDEBUG   \u001b[0m | \u001b[36mpydistsim.network\u001b[0m:\u001b[36madd_node\u001b[0m:\u001b[36m243\u001b[0m - \u001b[34m\u001b[1mNode 15 is placed on position [507.99851943 287.86179124].\u001b[0m\n",
      "\u001b[32m2024-05-20 21:04:53.677\u001b[0m | \u001b[34m\u001b[1mDEBUG   \u001b[0m | \u001b[36mpydistsim.networkgenerator\u001b[0m:\u001b[36m_create_modify_network\u001b[0m:\u001b[36m104\u001b[0m - \u001b[34m\u001b[1mAdded node, number of nodes: 15\u001b[0m\n",
      "\u001b[32m2024-05-20 21:04:53.680\u001b[0m | \u001b[34m\u001b[1mDEBUG   \u001b[0m | \u001b[36mpydistsim.networkgenerator\u001b[0m:\u001b[36m_are_conditions_satisfied\u001b[0m:\u001b[36m135\u001b[0m - \u001b[34m\u001b[1mNot connected\u001b[0m\n",
      "\u001b[32m2024-05-20 21:04:53.698\u001b[0m | \u001b[34m\u001b[1mDEBUG   \u001b[0m | \u001b[36mpydistsim.networkgenerator\u001b[0m:\u001b[36m_create_modify_network\u001b[0m:\u001b[36m108\u001b[0m - \u001b[34m\u001b[1mIncreased commRange to 120\u001b[0m\n",
      "\u001b[32m2024-05-20 21:04:53.699\u001b[0m | \u001b[34m\u001b[1mDEBUG   \u001b[0m | \u001b[36mpydistsim.networkgenerator\u001b[0m:\u001b[36m_are_conditions_satisfied\u001b[0m:\u001b[36m135\u001b[0m - \u001b[34m\u001b[1mNot connected\u001b[0m\n",
      "\u001b[32m2024-05-20 21:04:53.730\u001b[0m | \u001b[34m\u001b[1mDEBUG   \u001b[0m | \u001b[36mpydistsim.networkgenerator\u001b[0m:\u001b[36m_create_modify_network\u001b[0m:\u001b[36m108\u001b[0m - \u001b[34m\u001b[1mIncreased commRange to 144\u001b[0m\n",
      "\u001b[32m2024-05-20 21:04:53.731\u001b[0m | \u001b[34m\u001b[1mDEBUG   \u001b[0m | \u001b[36mpydistsim.networkgenerator\u001b[0m:\u001b[36m_are_conditions_satisfied\u001b[0m:\u001b[36m135\u001b[0m - \u001b[34m\u001b[1mNot connected\u001b[0m\n",
      "\u001b[32m2024-05-20 21:04:53.787\u001b[0m | \u001b[34m\u001b[1mDEBUG   \u001b[0m | \u001b[36mpydistsim.networkgenerator\u001b[0m:\u001b[36m_create_modify_network\u001b[0m:\u001b[36m108\u001b[0m - \u001b[34m\u001b[1mIncreased commRange to 173\u001b[0m\n",
      "\u001b[32m2024-05-20 21:04:53.788\u001b[0m | \u001b[34m\u001b[1mDEBUG   \u001b[0m | \u001b[36mpydistsim.networkgenerator\u001b[0m:\u001b[36m_are_conditions_satisfied\u001b[0m:\u001b[36m135\u001b[0m - \u001b[34m\u001b[1mNot connected\u001b[0m\n",
      "\u001b[32m2024-05-20 21:04:53.876\u001b[0m | \u001b[34m\u001b[1mDEBUG   \u001b[0m | \u001b[36mpydistsim.networkgenerator\u001b[0m:\u001b[36m_create_modify_network\u001b[0m:\u001b[36m108\u001b[0m - \u001b[34m\u001b[1mIncreased commRange to 208\u001b[0m\n",
      "\u001b[32m2024-05-20 21:04:53.877\u001b[0m | \u001b[34m\u001b[1mDEBUG   \u001b[0m | \u001b[36mpydistsim.networkgenerator\u001b[0m:\u001b[36m_are_conditions_satisfied\u001b[0m:\u001b[36m135\u001b[0m - \u001b[34m\u001b[1mNot connected\u001b[0m\n",
      "\u001b[32m2024-05-20 21:04:53.988\u001b[0m | \u001b[34m\u001b[1mDEBUG   \u001b[0m | \u001b[36mpydistsim.networkgenerator\u001b[0m:\u001b[36m_create_modify_network\u001b[0m:\u001b[36m108\u001b[0m - \u001b[34m\u001b[1mIncreased commRange to 250\u001b[0m\n",
      "\u001b[32m2024-05-20 21:04:53.990\u001b[0m | \u001b[34m\u001b[1mDEBUG   \u001b[0m | \u001b[36mpydistsim.networkgenerator\u001b[0m:\u001b[36m_are_conditions_satisfied\u001b[0m:\u001b[36m140\u001b[0m - \u001b[34m\u001b[1mDegree not satisfied: 4.533333333333333 with 15 nodes\u001b[0m\n",
      "\u001b[32m2024-05-20 21:04:53.991\u001b[0m | \u001b[34m\u001b[1mDEBUG   \u001b[0m | \u001b[36mpydistsim.networkgenerator\u001b[0m:\u001b[36m_are_conditions_satisfied\u001b[0m:\u001b[36m147\u001b[0m - \u001b[34m\u001b[1mDegree condition returned: -22\u001b[0m\n",
      "\u001b[32m2024-05-20 21:04:53.992\u001b[0m | \u001b[34m\u001b[1mDEBUG   \u001b[0m | \u001b[36mpydistsim.network\u001b[0m:\u001b[36mremove_node\u001b[0m:\u001b[36m204\u001b[0m - \u001b[34m\u001b[1mNode with id 1 is removed.\u001b[0m\n",
      "\u001b[32m2024-05-20 21:04:53.992\u001b[0m | \u001b[34m\u001b[1mDEBUG   \u001b[0m | \u001b[36mpydistsim.networkgenerator\u001b[0m:\u001b[36m_create_modify_network\u001b[0m:\u001b[36m115\u001b[0m - \u001b[34m\u001b[1mRemoved node, nodes left: 14\u001b[0m\n",
      "\u001b[32m2024-05-20 21:04:53.993\u001b[0m | \u001b[34m\u001b[1mDEBUG   \u001b[0m | \u001b[36mpydistsim.networkgenerator\u001b[0m:\u001b[36m_are_conditions_satisfied\u001b[0m:\u001b[36m140\u001b[0m - \u001b[34m\u001b[1mDegree not satisfied: 3.7142857142857144 with 14 nodes\u001b[0m\n",
      "\u001b[32m2024-05-20 21:04:53.994\u001b[0m | \u001b[34m\u001b[1mDEBUG   \u001b[0m | \u001b[36mpydistsim.networkgenerator\u001b[0m:\u001b[36m_are_conditions_satisfied\u001b[0m:\u001b[36m147\u001b[0m - \u001b[34m\u001b[1mDegree condition returned: -22\u001b[0m\n",
      "\u001b[32m2024-05-20 21:04:53.995\u001b[0m | \u001b[34m\u001b[1mDEBUG   \u001b[0m | \u001b[36mpydistsim.network\u001b[0m:\u001b[36mremove_node\u001b[0m:\u001b[36m204\u001b[0m - \u001b[34m\u001b[1mNode with id 2 is removed.\u001b[0m\n",
      "\u001b[32m2024-05-20 21:04:53.996\u001b[0m | \u001b[34m\u001b[1mDEBUG   \u001b[0m | \u001b[36mpydistsim.networkgenerator\u001b[0m:\u001b[36m_create_modify_network\u001b[0m:\u001b[36m115\u001b[0m - \u001b[34m\u001b[1mRemoved node, nodes left: 13\u001b[0m\n"
     ]
    }
   ],
   "source": [
    "net_gen = NetworkGenerator(10, 5, 15, degree=3)\n",
    "net = net_gen.generate_random_network()"
   ]
  },
  {
   "cell_type": "code",
   "execution_count": 4,
   "metadata": {},
   "outputs": [
    {
     "name": "stderr",
     "output_type": "stream",
     "text": [
      "/home/agus/.pymote_venv/lib/python3.11/site-packages/networkx/drawing/nx_pylab.py:450: UserWarning: No data for colormapping provided via 'c'. Parameters 'cmap' will be ignored\n",
      "  node_collection = ax.scatter(\n",
      "/mnt/d/Proyectos/pymote/pydistsim/network.py:355: UserWarning: FigureCanvasAgg is non-interactive, and thus cannot be shown\n",
      "  fig.show()\n"
     ]
    },
    {
     "data": {
      "image/png": "[encoded data removed]",
      "text/plain": [
       "<Figure size 600x600 with 1 Axes>"
      ]
     },
     "metadata": {},
     "output_type": "display_data"
    }
   ],
   "source": [
    "net.show()"
   ]
  },
  {
   "cell_type": "code",
   "execution_count": 5,
   "metadata": {},
   "outputs": [
    {
     "name": "stdout",
     "output_type": "stream",
     "text": [
      "\u001b[32m2024-05-20 21:04:54.602\u001b[0m | \u001b[1mINFO    \u001b[0m | \u001b[36mpydistsim.network\u001b[0m:\u001b[36mreset\u001b[0m:\u001b[36m349\u001b[0m - \u001b[1mResetting network.\u001b[0m\n",
      "\u001b[32m2024-05-20 21:04:54.603\u001b[0m | \u001b[1mINFO    \u001b[0m | \u001b[36mpydistsim.network\u001b[0m:\u001b[36mreset_all_nodes\u001b[0m:\u001b[36m473\u001b[0m - \u001b[1mResetting all nodes.\u001b[0m\n",
      "\u001b[32m2024-05-20 21:04:54.604\u001b[0m | \u001b[34m\u001b[1mDEBUG   \u001b[0m | \u001b[36mpydistsim.algorithm\u001b[0m:\u001b[36m__init__\u001b[0m:\u001b[36m122\u001b[0m - \u001b[34m\u001b[1mInstance of Flood class has been initialized.\u001b[0m\n"
     ]
    }
   ],
   "source": [
    "from pydistsim.algorithms.broadcast import Flood\n",
    "\n",
    "# Asigna el algoritmo\n",
    "net.algorithms = ((Flood, {\"informationKey\": \"I\"}),)\n",
    "\n",
    "# Asigna el mensaje a enviar, la información inicial\n",
    "some_node = net.nodes_sorted()[0]\n",
    "some_node.memory[\"I\"] = \"Hello distributed world\""
   ]
  },
  {
   "cell_type": "code",
   "execution_count": 6,
   "metadata": {},
   "outputs": [
    {
     "name": "stdout",
     "output_type": "stream",
     "text": [
      "\u001b[32m2024-05-20 21:04:54.620\u001b[0m | \u001b[1mINFO    \u001b[0m | \u001b[36mpydistsim.npickle\u001b[0m:\u001b[36mwrite_pickle\u001b[0m:\u001b[36m54\u001b[0m - \u001b[1minstance of <class 'pydistsim.network.Network'> saved in mreza1.tar.gz\u001b[0m\n",
      "\u001b[32m2024-05-20 21:04:54.628\u001b[0m | \u001b[1mINFO    \u001b[0m | \u001b[36mpydistsim.npickle\u001b[0m:\u001b[36mread_pickle\u001b[0m:\u001b[36m75\u001b[0m - \u001b[1minstance of <class 'pydistsim.network.Network'> loaded: mreza1.tar.gz\u001b[0m\n"
     ]
    },
    {
     "data": {
      "text/plain": [
       "<pydistsim.network.Network at 0x7f7e8e98e790>"
      ]
     },
     "execution_count": 6,
     "metadata": {},
     "output_type": "execute_result"
    }
   ],
   "source": [
    "from pydistsim.npickle import write_npickle, read_npickle\n",
    "\n",
    "# Escribir la red + algoritmo en un archivo\n",
    "write_npickle(net, \"mreza1.tar.gz\")\n",
    "net_from_file = read_npickle(\"mreza1.tar.gz\")\n",
    "net_from_file"
   ]
  },
  {
   "cell_type": "code",
   "execution_count": 7,
   "metadata": {},
   "outputs": [],
   "source": [
    "# Correr la simulación\n",
    "%run ../../pydistsim/gui/simulationgui.py"
   ]
  },
  {
   "cell_type": "code",
   "execution_count": 8,
   "metadata": {},
   "outputs": [
    {
     "name": "stdout",
     "output_type": "stream",
     "text": [
      "\u001b[32m2024-05-20 21:04:54.845\u001b[0m | \u001b[34m\u001b[1mDEBUG   \u001b[0m | \u001b[36mpydistsim.simulation\u001b[0m:\u001b[36m__init__\u001b[0m:\u001b[36m28\u001b[0m - \u001b[34m\u001b[1mSimulation 0x7f7e8b940600 created successfully.\u001b[0m\n"
     ]
    }
   ],
   "source": [
    "sim = Simulation(net)"
   ]
  },
  {
   "cell_type": "code",
   "execution_count": 9,
   "metadata": {},
   "outputs": [
    {
     "name": "stdout",
     "output_type": "stream",
     "text": [
      "\u001b[32m2024-05-20 21:04:54.855\u001b[0m | \u001b[34m\u001b[1mDEBUG   \u001b[0m | \u001b[36mpydistsim.network\u001b[0m:\u001b[36msend\u001b[0m:\u001b[36m551\u001b[0m - \u001b[34m\u001b[1mSending message from None to <Node id=3>.\u001b[0m\n",
      "\u001b[32m2024-05-20 21:04:54.857\u001b[0m | \u001b[34m\u001b[1mDEBUG   \u001b[0m | \u001b[36mpydistsim.simulation\u001b[0m:\u001b[36mrun_algorithm\u001b[0m:\u001b[36m113\u001b[0m - \u001b[34m\u001b[1m[Flood] Step 1 finished\u001b[0m\n"
     ]
    }
   ],
   "source": [
    "sim.run(1)"
   ]
  },
  {
   "cell_type": "code",
   "execution_count": 10,
   "metadata": {},
   "outputs": [
    {
     "name": "stdout",
     "output_type": "stream",
     "text": [
      "\u001b[32m2024-05-20 21:04:54.865\u001b[0m | \u001b[34m\u001b[1mDEBUG   \u001b[0m | \u001b[36mpydistsim.node\u001b[0m:\u001b[36mreceive\u001b[0m:\u001b[36m104\u001b[0m - \u001b[34m\u001b[1mNode 3 received message \n",
      "------ Message 'INITIALIZATION_MESSAGE' ------ \n",
      "     source = None \n",
      "destination = <Node id=3> \n",
      "     header = '' \n",
      "id(message) = 0x7f7e8b941c90>\u001b[0m\n",
      "\u001b[32m2024-05-20 21:04:54.866\u001b[0m | \u001b[34m\u001b[1mDEBUG   \u001b[0m | \u001b[36mpydistsim.algorithm\u001b[0m:\u001b[36m_process_message\u001b[0m:\u001b[36m197\u001b[0m - \u001b[34m\u001b[1mProcessing message: 0x7f7e8b941c90\u001b[0m\n",
      "\u001b[32m2024-05-20 21:04:54.867\u001b[0m | \u001b[34m\u001b[1mDEBUG   \u001b[0m | \u001b[36mpydistsim.node\u001b[0m:\u001b[36msend\u001b[0m:\u001b[36m82\u001b[0m - \u001b[34m\u001b[1mNode 3 sent message \n",
      "------ Message 'NORMAL_MESSAGE' ------ \n",
      "     source = <Node id=3> \n",
      "destination = Broadcasting \n",
      "     header = 'Information' \n",
      "id(message) = 0x7f7e8b942490>.\u001b[0m\n",
      "\u001b[32m2024-05-20 21:04:54.868\u001b[0m | \u001b[34m\u001b[1mDEBUG   \u001b[0m | \u001b[36mpydistsim.simulation\u001b[0m:\u001b[36mrun_algorithm\u001b[0m:\u001b[36m113\u001b[0m - \u001b[34m\u001b[1m[Flood] Step 2 finished\u001b[0m\n"
     ]
    }
   ],
   "source": [
    "sim.run(1)"
   ]
  },
  {
   "cell_type": "code",
   "execution_count": 11,
   "metadata": {},
   "outputs": [
    {
     "name": "stdout",
     "output_type": "stream",
     "text": [
      "\u001b[32m2024-05-20 21:04:54.876\u001b[0m | \u001b[34m\u001b[1mDEBUG   \u001b[0m | \u001b[36mpydistsim.network\u001b[0m:\u001b[36msend\u001b[0m:\u001b[36m551\u001b[0m - \u001b[34m\u001b[1mSending message from <Node id=3> to <Node id=4>.\u001b[0m\n",
      "\u001b[32m2024-05-20 21:04:54.878\u001b[0m | \u001b[34m\u001b[1mDEBUG   \u001b[0m | \u001b[36mpydistsim.network\u001b[0m:\u001b[36msend\u001b[0m:\u001b[36m551\u001b[0m - \u001b[34m\u001b[1mSending message from <Node id=3> to <Node id=5>.\u001b[0m\n",
      "\u001b[32m2024-05-20 21:04:54.878\u001b[0m | \u001b[34m\u001b[1mDEBUG   \u001b[0m | \u001b[36mpydistsim.simulation\u001b[0m:\u001b[36mrun_algorithm\u001b[0m:\u001b[36m113\u001b[0m - \u001b[34m\u001b[1m[Flood] Step 3 finished\u001b[0m\n"
     ]
    }
   ],
   "source": [
    "sim.run(1)"
   ]
  },
  {
   "cell_type": "code",
   "execution_count": 12,
   "metadata": {},
   "outputs": [
    {
     "name": "stdout",
     "output_type": "stream",
     "text": [
      "\u001b[32m2024-05-20 21:04:54.887\u001b[0m | \u001b[34m\u001b[1mDEBUG   \u001b[0m | \u001b[36mpydistsim.node\u001b[0m:\u001b[36mreceive\u001b[0m:\u001b[36m104\u001b[0m - \u001b[34m\u001b[1mNode 4 received message \n",
      "------ Message 'NORMAL_MESSAGE' ------ \n",
      "     source = <Node id=3> \n",
      "destination = <Node id=4> \n",
      "     header = 'Information' \n",
      "id(message) = 0x7f7e8e914450>\u001b[0m\n",
      "\u001b[32m2024-05-20 21:04:54.888\u001b[0m | \u001b[34m\u001b[1mDEBUG   \u001b[0m | \u001b[36mpydistsim.algorithm\u001b[0m:\u001b[36m_process_message\u001b[0m:\u001b[36m197\u001b[0m - \u001b[34m\u001b[1mProcessing message: 0x7f7e8e914450\u001b[0m\n",
      "\u001b[32m2024-05-20 21:04:54.889\u001b[0m | \u001b[34m\u001b[1mDEBUG   \u001b[0m | \u001b[36mpydistsim.node\u001b[0m:\u001b[36msend\u001b[0m:\u001b[36m82\u001b[0m - \u001b[34m\u001b[1mNode 4 sent message \n",
      "------ Message 'NORMAL_MESSAGE' ------ \n",
      "     source = <Node id=4> \n",
      "destination = [<Node id=9>] \n",
      "     header = 'Information' \n",
      "id(message) = 0x7f7e8b941510>.\u001b[0m\n",
      "\u001b[32m2024-05-20 21:04:54.890\u001b[0m | \u001b[34m\u001b[1mDEBUG   \u001b[0m | \u001b[36mpydistsim.node\u001b[0m:\u001b[36mreceive\u001b[0m:\u001b[36m104\u001b[0m - \u001b[34m\u001b[1mNode 5 received message \n",
      "------ Message 'NORMAL_MESSAGE' ------ \n",
      "     source = <Node id=3> \n",
      "destination = <Node id=5> \n",
      "     header = 'Information' \n",
      "id(message) = 0x7f7e8b943a10>\u001b[0m\n",
      "\u001b[32m2024-05-20 21:04:54.890\u001b[0m | \u001b[34m\u001b[1mDEBUG   \u001b[0m | \u001b[36mpydistsim.algorithm\u001b[0m:\u001b[36m_process_message\u001b[0m:\u001b[36m197\u001b[0m - \u001b[34m\u001b[1mProcessing message: 0x7f7e8b943a10\u001b[0m\n",
      "\u001b[32m2024-05-20 21:04:54.891\u001b[0m | \u001b[34m\u001b[1mDEBUG   \u001b[0m | \u001b[36mpydistsim.node\u001b[0m:\u001b[36msend\u001b[0m:\u001b[36m82\u001b[0m - \u001b[34m\u001b[1mNode 5 sent message \n",
      "------ Message 'NORMAL_MESSAGE' ------ \n",
      "     source = <Node id=5> \n",
      "destination = [<Node id=13>, <Node id=11>] \n",
      "     header = 'Information' \n",
      "id(message) = 0x7f7e8b941d90>.\u001b[0m\n",
      "\u001b[32m2024-05-20 21:04:54.892\u001b[0m | \u001b[34m\u001b[1mDEBUG   \u001b[0m | \u001b[36mpydistsim.node\u001b[0m:\u001b[36msend\u001b[0m:\u001b[36m82\u001b[0m - \u001b[34m\u001b[1mNode 5 sent message \n",
      "------ Message 'NORMAL_MESSAGE' ------ \n",
      "     source = <Node id=5> \n",
      "destination = [<Node id=13>, <Node id=11>] \n",
      "     header = 'Information' \n",
      "id(message) = 0x7f7e8b941d90>.\u001b[0m\n",
      "\u001b[32m2024-05-20 21:04:54.892\u001b[0m | \u001b[34m\u001b[1mDEBUG   \u001b[0m | \u001b[36mpydistsim.simulation\u001b[0m:\u001b[36mrun_algorithm\u001b[0m:\u001b[36m113\u001b[0m - \u001b[34m\u001b[1m[Flood] Step 4 finished\u001b[0m\n"
     ]
    }
   ],
   "source": [
    "sim.run(1)"
   ]
  },
  {
   "cell_type": "code",
   "execution_count": 13,
   "metadata": {},
   "outputs": [
    {
     "name": "stdout",
     "output_type": "stream",
     "text": [
      "\u001b[32m2024-05-20 21:04:54.901\u001b[0m | \u001b[34m\u001b[1mDEBUG   \u001b[0m | \u001b[36mpydistsim.network\u001b[0m:\u001b[36msend\u001b[0m:\u001b[36m551\u001b[0m - \u001b[34m\u001b[1mSending message from <Node id=5> to <Node id=13>.\u001b[0m\n",
      "\u001b[32m2024-05-20 21:04:54.903\u001b[0m | \u001b[34m\u001b[1mDEBUG   \u001b[0m | \u001b[36mpydistsim.network\u001b[0m:\u001b[36msend\u001b[0m:\u001b[36m551\u001b[0m - \u001b[34m\u001b[1mSending message from <Node id=5> to <Node id=11>.\u001b[0m\n",
      "\u001b[32m2024-05-20 21:04:54.903\u001b[0m | \u001b[34m\u001b[1mDEBUG   \u001b[0m | \u001b[36mpydistsim.network\u001b[0m:\u001b[36msend\u001b[0m:\u001b[36m551\u001b[0m - \u001b[34m\u001b[1mSending message from <Node id=4> to <Node id=9>.\u001b[0m\n",
      "\u001b[32m2024-05-20 21:04:54.904\u001b[0m | \u001b[34m\u001b[1mDEBUG   \u001b[0m | \u001b[36mpydistsim.simulation\u001b[0m:\u001b[36mrun_algorithm\u001b[0m:\u001b[36m113\u001b[0m - \u001b[34m\u001b[1m[Flood] Step 5 finished\u001b[0m\n"
     ]
    }
   ],
   "source": [
    "sim.run(1)"
   ]
  },
  {
   "cell_type": "code",
   "execution_count": 14,
   "metadata": {},
   "outputs": [
    {
     "name": "stdout",
     "output_type": "stream",
     "text": [
      "\u001b[32m2024-05-20 21:04:54.913\u001b[0m | \u001b[34m\u001b[1mDEBUG   \u001b[0m | \u001b[36mpydistsim.node\u001b[0m:\u001b[36mreceive\u001b[0m:\u001b[36m104\u001b[0m - \u001b[34m\u001b[1mNode 9 received message \n",
      "------ Message 'NORMAL_MESSAGE' ------ \n",
      "     source = <Node id=4> \n",
      "destination = <Node id=9> \n",
      "     header = 'Information' \n",
      "id(message) = 0x7f7e8b9414d0>\u001b[0m\n",
      "\u001b[32m2024-05-20 21:04:54.914\u001b[0m | \u001b[34m\u001b[1mDEBUG   \u001b[0m | \u001b[36mpydistsim.algorithm\u001b[0m:\u001b[36m_process_message\u001b[0m:\u001b[36m197\u001b[0m - \u001b[34m\u001b[1mProcessing message: 0x7f7e8b9414d0\u001b[0m\n",
      "\u001b[32m2024-05-20 21:04:54.915\u001b[0m | \u001b[34m\u001b[1mDEBUG   \u001b[0m | \u001b[36mpydistsim.node\u001b[0m:\u001b[36msend\u001b[0m:\u001b[36m82\u001b[0m - \u001b[34m\u001b[1mNode 9 sent message \n",
      "------ Message 'NORMAL_MESSAGE' ------ \n",
      "     source = <Node id=9> \n",
      "destination = [<Node id=8>, <Node id=10>, <Node id=7>, <Node id=14>] \n",
      "     header = 'Information' \n",
      "id(message) = 0x7f7e8b94ac50>.\u001b[0m\n",
      "\u001b[32m2024-05-20 21:04:54.916\u001b[0m | \u001b[34m\u001b[1mDEBUG   \u001b[0m | \u001b[36mpydistsim.node\u001b[0m:\u001b[36msend\u001b[0m:\u001b[36m82\u001b[0m - \u001b[34m\u001b[1mNode 9 sent message \n",
      "------ Message 'NORMAL_MESSAGE' ------ \n",
      "     source = <Node id=9> \n",
      "destination = [<Node id=8>, <Node id=10>, <Node id=7>, <Node id=14>] \n",
      "     header = 'Information' \n",
      "id(message) = 0x7f7e8b94ac50>.\u001b[0m\n",
      "\u001b[32m2024-05-20 21:04:54.916\u001b[0m | \u001b[34m\u001b[1mDEBUG   \u001b[0m | \u001b[36mpydistsim.node\u001b[0m:\u001b[36msend\u001b[0m:\u001b[36m82\u001b[0m - \u001b[34m\u001b[1mNode 9 sent message \n",
      "------ Message 'NORMAL_MESSAGE' ------ \n",
      "     source = <Node id=9> \n",
      "destination = [<Node id=8>, <Node id=10>, <Node id=7>, <Node id=14>] \n",
      "     header = 'Information' \n",
      "id(message) = 0x7f7e8b94ac50>.\u001b[0m\n",
      "\u001b[32m2024-05-20 21:04:54.917\u001b[0m | \u001b[34m\u001b[1mDEBUG   \u001b[0m | \u001b[36mpydistsim.node\u001b[0m:\u001b[36msend\u001b[0m:\u001b[36m82\u001b[0m - \u001b[34m\u001b[1mNode 9 sent message \n",
      "------ Message 'NORMAL_MESSAGE' ------ \n",
      "     source = <Node id=9> \n",
      "destination = [<Node id=8>, <Node id=10>, <Node id=7>, <Node id=14>] \n",
      "     header = 'Information' \n",
      "id(message) = 0x7f7e8b94ac50>.\u001b[0m\n",
      "\u001b[32m2024-05-20 21:04:54.918\u001b[0m | \u001b[34m\u001b[1mDEBUG   \u001b[0m | \u001b[36mpydistsim.node\u001b[0m:\u001b[36mreceive\u001b[0m:\u001b[36m104\u001b[0m - \u001b[34m\u001b[1mNode 11 received message \n",
      "------ Message 'NORMAL_MESSAGE' ------ \n",
      "     source = <Node id=5> \n",
      "destination = <Node id=11> \n",
      "     header = 'Information' \n",
      "id(message) = 0x7f7e8b949e10>\u001b[0m\n",
      "\u001b[32m2024-05-20 21:04:54.918\u001b[0m | \u001b[34m\u001b[1mDEBUG   \u001b[0m | \u001b[36mpydistsim.algorithm\u001b[0m:\u001b[36m_process_message\u001b[0m:\u001b[36m197\u001b[0m - \u001b[34m\u001b[1mProcessing message: 0x7f7e8b949e10\u001b[0m\n",
      "\u001b[32m2024-05-20 21:04:54.919\u001b[0m | \u001b[34m\u001b[1mDEBUG   \u001b[0m | \u001b[36mpydistsim.node\u001b[0m:\u001b[36msend\u001b[0m:\u001b[36m82\u001b[0m - \u001b[34m\u001b[1mNode 11 sent message \n",
      "------ Message 'NORMAL_MESSAGE' ------ \n",
      "     source = <Node id=11> \n",
      "destination = [<Node id=13>] \n",
      "     header = 'Information' \n",
      "id(message) = 0x7f7e8b9414d0>.\u001b[0m\n",
      "\u001b[32m2024-05-20 21:04:54.920\u001b[0m | \u001b[34m\u001b[1mDEBUG   \u001b[0m | \u001b[36mpydistsim.node\u001b[0m:\u001b[36mreceive\u001b[0m:\u001b[36m104\u001b[0m - \u001b[34m\u001b[1mNode 13 received message \n",
      "------ Message 'NORMAL_MESSAGE' ------ \n",
      "     source = <Node id=5> \n",
      "destination = <Node id=13> \n",
      "     header = 'Information' \n",
      "id(message) = 0x7f7e8b942490>\u001b[0m\n",
      "\u001b[32m2024-05-20 21:04:54.920\u001b[0m | \u001b[34m\u001b[1mDEBUG   \u001b[0m | \u001b[36mpydistsim.algorithm\u001b[0m:\u001b[36m_process_message\u001b[0m:\u001b[36m197\u001b[0m - \u001b[34m\u001b[1mProcessing message: 0x7f7e8b942490\u001b[0m\n",
      "\u001b[32m2024-05-20 21:04:54.922\u001b[0m | \u001b[34m\u001b[1mDEBUG   \u001b[0m | \u001b[36mpydistsim.node\u001b[0m:\u001b[36msend\u001b[0m:\u001b[36m82\u001b[0m - \u001b[34m\u001b[1mNode 13 sent message \n",
      "------ Message 'NORMAL_MESSAGE' ------ \n",
      "     source = <Node id=13> \n",
      "destination = [<Node id=11>] \n",
      "     header = 'Information' \n",
      "id(message) = 0x7f7e8b93e6d0>.\u001b[0m\n",
      "\u001b[32m2024-05-20 21:04:54.923\u001b[0m | \u001b[34m\u001b[1mDEBUG   \u001b[0m | \u001b[36mpydistsim.simulation\u001b[0m:\u001b[36mrun_algorithm\u001b[0m:\u001b[36m113\u001b[0m - \u001b[34m\u001b[1m[Flood] Step 6 finished\u001b[0m\n"
     ]
    }
   ],
   "source": [
    "sim.run(1)"
   ]
  },
  {
   "cell_type": "code",
   "execution_count": 15,
   "metadata": {},
   "outputs": [
    {
     "name": "stdout",
     "output_type": "stream",
     "text": [
      "\u001b[32m2024-05-20 21:04:54.931\u001b[0m | \u001b[34m\u001b[1mDEBUG   \u001b[0m | \u001b[36mpydistsim.network\u001b[0m:\u001b[36msend\u001b[0m:\u001b[36m551\u001b[0m - \u001b[34m\u001b[1mSending message from <Node id=13> to <Node id=11>.\u001b[0m\n",
      "\u001b[32m2024-05-20 21:04:54.933\u001b[0m | \u001b[34m\u001b[1mDEBUG   \u001b[0m | \u001b[36mpydistsim.network\u001b[0m:\u001b[36msend\u001b[0m:\u001b[36m551\u001b[0m - \u001b[34m\u001b[1mSending message from <Node id=11> to <Node id=13>.\u001b[0m\n",
      "\u001b[32m2024-05-20 21:04:54.934\u001b[0m | \u001b[34m\u001b[1mDEBUG   \u001b[0m | \u001b[36mpydistsim.network\u001b[0m:\u001b[36msend\u001b[0m:\u001b[36m551\u001b[0m - \u001b[34m\u001b[1mSending message from <Node id=9> to <Node id=8>.\u001b[0m\n",
      "\u001b[32m2024-05-20 21:04:54.935\u001b[0m | \u001b[34m\u001b[1mDEBUG   \u001b[0m | \u001b[36mpydistsim.network\u001b[0m:\u001b[36msend\u001b[0m:\u001b[36m551\u001b[0m - \u001b[34m\u001b[1mSending message from <Node id=9> to <Node id=10>.\u001b[0m\n",
      "\u001b[32m2024-05-20 21:04:54.935\u001b[0m | \u001b[34m\u001b[1mDEBUG   \u001b[0m | \u001b[36mpydistsim.network\u001b[0m:\u001b[36msend\u001b[0m:\u001b[36m551\u001b[0m - \u001b[34m\u001b[1mSending message from <Node id=9> to <Node id=7>.\u001b[0m\n",
      "\u001b[32m2024-05-20 21:04:54.936\u001b[0m | \u001b[34m\u001b[1mDEBUG   \u001b[0m | \u001b[36mpydistsim.network\u001b[0m:\u001b[36msend\u001b[0m:\u001b[36m551\u001b[0m - \u001b[34m\u001b[1mSending message from <Node id=9> to <Node id=14>.\u001b[0m\n",
      "\u001b[32m2024-05-20 21:04:54.937\u001b[0m | \u001b[34m\u001b[1mDEBUG   \u001b[0m | \u001b[36mpydistsim.simulation\u001b[0m:\u001b[36mrun_algorithm\u001b[0m:\u001b[36m113\u001b[0m - \u001b[34m\u001b[1m[Flood] Step 7 finished\u001b[0m\n"
     ]
    }
   ],
   "source": [
    "sim.run(1)"
   ]
  },
  {
   "cell_type": "code",
   "execution_count": 16,
   "metadata": {},
   "outputs": [
    {
     "name": "stdout",
     "output_type": "stream",
     "text": [
      "\u001b[32m2024-05-20 21:04:54.946\u001b[0m | \u001b[34m\u001b[1mDEBUG   \u001b[0m | \u001b[36mpydistsim.node\u001b[0m:\u001b[36mreceive\u001b[0m:\u001b[36m104\u001b[0m - \u001b[34m\u001b[1mNode 7 received message \n",
      "------ Message 'NORMAL_MESSAGE' ------ \n",
      "     source = <Node id=9> \n",
      "destination = <Node id=7> \n",
      "     header = 'Information' \n",
      "id(message) = 0x7f7e8b93e250>\u001b[0m\n",
      "\u001b[32m2024-05-20 21:04:54.947\u001b[0m | \u001b[34m\u001b[1mDEBUG   \u001b[0m | \u001b[36mpydistsim.algorithm\u001b[0m:\u001b[36m_process_message\u001b[0m:\u001b[36m197\u001b[0m - \u001b[34m\u001b[1mProcessing message: 0x7f7e8b93e250\u001b[0m\n",
      "\u001b[32m2024-05-20 21:04:54.948\u001b[0m | \u001b[34m\u001b[1mDEBUG   \u001b[0m | \u001b[36mpydistsim.node\u001b[0m:\u001b[36msend\u001b[0m:\u001b[36m82\u001b[0m - \u001b[34m\u001b[1mNode 7 sent message \n",
      "------ Message 'NORMAL_MESSAGE' ------ \n",
      "     source = <Node id=7> \n",
      "destination = [<Node id=10>, <Node id=8>] \n",
      "     header = 'Information' \n",
      "id(message) = 0x7f7e8b95ced0>.\u001b[0m\n",
      "\u001b[32m2024-05-20 21:04:54.949\u001b[0m | \u001b[34m\u001b[1mDEBUG   \u001b[0m | \u001b[36mpydistsim.node\u001b[0m:\u001b[36msend\u001b[0m:\u001b[36m82\u001b[0m - \u001b[34m\u001b[1mNode 7 sent message \n",
      "------ Message 'NORMAL_MESSAGE' ------ \n",
      "     source = <Node id=7> \n",
      "destination = [<Node id=10>, <Node id=8>] \n",
      "     header = 'Information' \n",
      "id(message) = 0x7f7e8b95ced0>.\u001b[0m\n",
      "\u001b[32m2024-05-20 21:04:54.950\u001b[0m | \u001b[34m\u001b[1mDEBUG   \u001b[0m | \u001b[36mpydistsim.node\u001b[0m:\u001b[36mreceive\u001b[0m:\u001b[36m104\u001b[0m - \u001b[34m\u001b[1mNode 8 received message \n",
      "------ Message 'NORMAL_MESSAGE' ------ \n",
      "     source = <Node id=9> \n",
      "destination = <Node id=8> \n",
      "     header = 'Information' \n",
      "id(message) = 0x7f7e8b94bb10>\u001b[0m\n",
      "\u001b[32m2024-05-20 21:04:54.951\u001b[0m | \u001b[34m\u001b[1mDEBUG   \u001b[0m | \u001b[36mpydistsim.algorithm\u001b[0m:\u001b[36m_process_message\u001b[0m:\u001b[36m197\u001b[0m - \u001b[34m\u001b[1mProcessing message: 0x7f7e8b94bb10\u001b[0m\n",
      "\u001b[32m2024-05-20 21:04:54.952\u001b[0m | \u001b[34m\u001b[1mDEBUG   \u001b[0m | \u001b[36mpydistsim.node\u001b[0m:\u001b[36msend\u001b[0m:\u001b[36m82\u001b[0m - \u001b[34m\u001b[1mNode 8 sent message \n",
      "------ Message 'NORMAL_MESSAGE' ------ \n",
      "     source = <Node id=8> \n",
      "destination = [<Node id=10>, <Node id=7>] \n",
      "     header = 'Information' \n",
      "id(message) = 0x7f7e8b955c90>.\u001b[0m\n",
      "\u001b[32m2024-05-20 21:04:54.953\u001b[0m | \u001b[34m\u001b[1mDEBUG   \u001b[0m | \u001b[36mpydistsim.node\u001b[0m:\u001b[36msend\u001b[0m:\u001b[36m82\u001b[0m - \u001b[34m\u001b[1mNode 8 sent message \n",
      "------ Message 'NORMAL_MESSAGE' ------ \n",
      "     source = <Node id=8> \n",
      "destination = [<Node id=10>, <Node id=7>] \n",
      "     header = 'Information' \n",
      "id(message) = 0x7f7e8b955c90>.\u001b[0m\n",
      "\u001b[32m2024-05-20 21:04:54.954\u001b[0m | \u001b[34m\u001b[1mDEBUG   \u001b[0m | \u001b[36mpydistsim.node\u001b[0m:\u001b[36mreceive\u001b[0m:\u001b[36m104\u001b[0m - \u001b[34m\u001b[1mNode 10 received message \n",
      "------ Message 'NORMAL_MESSAGE' ------ \n",
      "     source = <Node id=9> \n",
      "destination = <Node id=10> \n",
      "     header = 'Information' \n",
      "id(message) = 0x7f7e8b94b150>\u001b[0m\n",
      "\u001b[32m2024-05-20 21:04:54.955\u001b[0m | \u001b[34m\u001b[1mDEBUG   \u001b[0m | \u001b[36mpydistsim.algorithm\u001b[0m:\u001b[36m_process_message\u001b[0m:\u001b[36m197\u001b[0m - \u001b[34m\u001b[1mProcessing message: 0x7f7e8b94b150\u001b[0m\n",
      "\u001b[32m2024-05-20 21:04:54.955\u001b[0m | \u001b[34m\u001b[1mDEBUG   \u001b[0m | \u001b[36mpydistsim.node\u001b[0m:\u001b[36msend\u001b[0m:\u001b[36m82\u001b[0m - \u001b[34m\u001b[1mNode 10 sent message \n",
      "------ Message 'NORMAL_MESSAGE' ------ \n",
      "     source = <Node id=10> \n",
      "destination = [<Node id=8>, <Node id=7>] \n",
      "     header = 'Information' \n",
      "id(message) = 0x7f7e8b955c90>.\u001b[0m\n",
      "\u001b[32m2024-05-20 21:04:54.956\u001b[0m | \u001b[34m\u001b[1mDEBUG   \u001b[0m | \u001b[36mpydistsim.node\u001b[0m:\u001b[36msend\u001b[0m:\u001b[36m82\u001b[0m - \u001b[34m\u001b[1mNode 10 sent message \n",
      "------ Message 'NORMAL_MESSAGE' ------ \n",
      "     source = <Node id=10> \n",
      "destination = [<Node id=8>, <Node id=7>] \n",
      "     header = 'Information' \n",
      "id(message) = 0x7f7e8b955c90>.\u001b[0m\n",
      "\u001b[32m2024-05-20 21:04:54.956\u001b[0m | \u001b[34m\u001b[1mDEBUG   \u001b[0m | \u001b[36mpydistsim.node\u001b[0m:\u001b[36mreceive\u001b[0m:\u001b[36m104\u001b[0m - \u001b[34m\u001b[1mNode 11 received message \n",
      "------ Message 'NORMAL_MESSAGE' ------ \n",
      "     source = <Node id=13> \n",
      "destination = <Node id=11> \n",
      "     header = 'Information' \n",
      "id(message) = 0x7f7e8b93f010>\u001b[0m\n",
      "\u001b[32m2024-05-20 21:04:54.957\u001b[0m | \u001b[34m\u001b[1mDEBUG   \u001b[0m | \u001b[36mpydistsim.algorithm\u001b[0m:\u001b[36m_process_message\u001b[0m:\u001b[36m197\u001b[0m - \u001b[34m\u001b[1mProcessing message: 0x7f7e8b93f010\u001b[0m\n",
      "\u001b[32m2024-05-20 21:04:54.957\u001b[0m | \u001b[34m\u001b[1mDEBUG   \u001b[0m | \u001b[36mpydistsim.node\u001b[0m:\u001b[36mreceive\u001b[0m:\u001b[36m104\u001b[0m - \u001b[34m\u001b[1mNode 13 received message \n",
      "------ Message 'NORMAL_MESSAGE' ------ \n",
      "     source = <Node id=11> \n",
      "destination = <Node id=13> \n",
      "     header = 'Information' \n",
      "id(message) = 0x7f7e8b93fdd0>\u001b[0m\n",
      "\u001b[32m2024-05-20 21:04:54.958\u001b[0m | \u001b[34m\u001b[1mDEBUG   \u001b[0m | \u001b[36mpydistsim.algorithm\u001b[0m:\u001b[36m_process_message\u001b[0m:\u001b[36m197\u001b[0m - \u001b[34m\u001b[1mProcessing message: 0x7f7e8b93fdd0\u001b[0m\n",
      "\u001b[32m2024-05-20 21:04:54.959\u001b[0m | \u001b[34m\u001b[1mDEBUG   \u001b[0m | \u001b[36mpydistsim.node\u001b[0m:\u001b[36mreceive\u001b[0m:\u001b[36m104\u001b[0m - \u001b[34m\u001b[1mNode 14 received message \n",
      "------ Message 'NORMAL_MESSAGE' ------ \n",
      "     source = <Node id=9> \n",
      "destination = <Node id=14> \n",
      "     header = 'Information' \n",
      "id(message) = 0x7f7e8b93e690>\u001b[0m\n",
      "\u001b[32m2024-05-20 21:04:54.959\u001b[0m | \u001b[34m\u001b[1mDEBUG   \u001b[0m | \u001b[36mpydistsim.algorithm\u001b[0m:\u001b[36m_process_message\u001b[0m:\u001b[36m197\u001b[0m - \u001b[34m\u001b[1mProcessing message: 0x7f7e8b93e690\u001b[0m\n",
      "\u001b[32m2024-05-20 21:04:54.960\u001b[0m | \u001b[34m\u001b[1mDEBUG   \u001b[0m | \u001b[36mpydistsim.node\u001b[0m:\u001b[36msend\u001b[0m:\u001b[36m82\u001b[0m - \u001b[34m\u001b[1mNode 14 sent message \n",
      "------ Message 'NORMAL_MESSAGE' ------ \n",
      "     source = <Node id=14> \n",
      "destination = [<Node id=15>, <Node id=12>, <Node id=6>] \n",
      "     header = 'Information' \n",
      "id(message) = 0x7f7e8b95fa90>.\u001b[0m\n",
      "\u001b[32m2024-05-20 21:04:54.960\u001b[0m | \u001b[34m\u001b[1mDEBUG   \u001b[0m | \u001b[36mpydistsim.node\u001b[0m:\u001b[36msend\u001b[0m:\u001b[36m82\u001b[0m - \u001b[34m\u001b[1mNode 14 sent message \n",
      "------ Message 'NORMAL_MESSAGE' ------ \n",
      "     source = <Node id=14> \n",
      "destination = [<Node id=15>, <Node id=12>, <Node id=6>] \n",
      "     header = 'Information' \n",
      "id(message) = 0x7f7e8b95fa90>.\u001b[0m\n",
      "\u001b[32m2024-05-20 21:04:54.961\u001b[0m | \u001b[34m\u001b[1mDEBUG   \u001b[0m | \u001b[36mpydistsim.node\u001b[0m:\u001b[36msend\u001b[0m:\u001b[36m82\u001b[0m - \u001b[34m\u001b[1mNode 14 sent message \n",
      "------ Message 'NORMAL_MESSAGE' ------ \n",
      "     source = <Node id=14> \n",
      "destination = [<Node id=15>, <Node id=12>, <Node id=6>] \n",
      "     header = 'Information' \n",
      "id(message) = 0x7f7e8b95fa90>.\u001b[0m\n",
      "\u001b[32m2024-05-20 21:04:54.962\u001b[0m | \u001b[34m\u001b[1mDEBUG   \u001b[0m | \u001b[36mpydistsim.simulation\u001b[0m:\u001b[36mrun_algorithm\u001b[0m:\u001b[36m113\u001b[0m - \u001b[34m\u001b[1m[Flood] Step 8 finished\u001b[0m\n"
     ]
    }
   ],
   "source": [
    "sim.run(1)"
   ]
  },
  {
   "cell_type": "code",
   "execution_count": 17,
   "metadata": {},
   "outputs": [
    {
     "name": "stdout",
     "output_type": "stream",
     "text": [
      "\u001b[32m2024-05-20 21:04:54.970\u001b[0m | \u001b[34m\u001b[1mDEBUG   \u001b[0m | \u001b[36mpydistsim.network\u001b[0m:\u001b[36msend\u001b[0m:\u001b[36m551\u001b[0m - \u001b[34m\u001b[1mSending message from <Node id=14> to <Node id=15>.\u001b[0m\n",
      "\u001b[32m2024-05-20 21:04:54.972\u001b[0m | \u001b[34m\u001b[1mDEBUG   \u001b[0m | \u001b[36mpydistsim.network\u001b[0m:\u001b[36msend\u001b[0m:\u001b[36m551\u001b[0m - \u001b[34m\u001b[1mSending message from <Node id=14> to <Node id=12>.\u001b[0m\n",
      "\u001b[32m2024-05-20 21:04:54.973\u001b[0m | \u001b[34m\u001b[1mDEBUG   \u001b[0m | \u001b[36mpydistsim.network\u001b[0m:\u001b[36msend\u001b[0m:\u001b[36m551\u001b[0m - \u001b[34m\u001b[1mSending message from <Node id=14> to <Node id=6>.\u001b[0m\n",
      "\u001b[32m2024-05-20 21:04:54.973\u001b[0m | \u001b[34m\u001b[1mDEBUG   \u001b[0m | \u001b[36mpydistsim.network\u001b[0m:\u001b[36msend\u001b[0m:\u001b[36m551\u001b[0m - \u001b[34m\u001b[1mSending message from <Node id=10> to <Node id=8>.\u001b[0m\n",
      "\u001b[32m2024-05-20 21:04:54.974\u001b[0m | \u001b[34m\u001b[1mDEBUG   \u001b[0m | \u001b[36mpydistsim.network\u001b[0m:\u001b[36msend\u001b[0m:\u001b[36m551\u001b[0m - \u001b[34m\u001b[1mSending message from <Node id=10> to <Node id=7>.\u001b[0m\n",
      "\u001b[32m2024-05-20 21:04:54.975\u001b[0m | \u001b[34m\u001b[1mDEBUG   \u001b[0m | \u001b[36mpydistsim.network\u001b[0m:\u001b[36msend\u001b[0m:\u001b[36m551\u001b[0m - \u001b[34m\u001b[1mSending message from <Node id=8> to <Node id=10>.\u001b[0m\n",
      "\u001b[32m2024-05-20 21:04:54.976\u001b[0m | \u001b[34m\u001b[1mDEBUG   \u001b[0m | \u001b[36mpydistsim.network\u001b[0m:\u001b[36msend\u001b[0m:\u001b[36m551\u001b[0m - \u001b[34m\u001b[1mSending message from <Node id=8> to <Node id=7>.\u001b[0m\n",
      "\u001b[32m2024-05-20 21:04:54.976\u001b[0m | \u001b[34m\u001b[1mDEBUG   \u001b[0m | \u001b[36mpydistsim.network\u001b[0m:\u001b[36msend\u001b[0m:\u001b[36m551\u001b[0m - \u001b[34m\u001b[1mSending message from <Node id=7> to <Node id=10>.\u001b[0m\n",
      "\u001b[32m2024-05-20 21:04:54.977\u001b[0m | \u001b[34m\u001b[1mDEBUG   \u001b[0m | \u001b[36mpydistsim.network\u001b[0m:\u001b[36msend\u001b[0m:\u001b[36m551\u001b[0m - \u001b[34m\u001b[1mSending message from <Node id=7> to <Node id=8>.\u001b[0m\n",
      "\u001b[32m2024-05-20 21:04:54.978\u001b[0m | \u001b[34m\u001b[1mDEBUG   \u001b[0m | \u001b[36mpydistsim.simulation\u001b[0m:\u001b[36mrun_algorithm\u001b[0m:\u001b[36m113\u001b[0m - \u001b[34m\u001b[1m[Flood] Step 9 finished\u001b[0m\n"
     ]
    }
   ],
   "source": [
    "sim.run(1)"
   ]
  },
  {
   "cell_type": "code",
   "execution_count": 18,
   "metadata": {},
   "outputs": [
    {
     "name": "stdout",
     "output_type": "stream",
     "text": [
      "\u001b[32m2024-05-20 21:04:54.986\u001b[0m | \u001b[34m\u001b[1mDEBUG   \u001b[0m | \u001b[36mpydistsim.node\u001b[0m:\u001b[36mreceive\u001b[0m:\u001b[36m104\u001b[0m - \u001b[34m\u001b[1mNode 6 received message \n",
      "------ Message 'NORMAL_MESSAGE' ------ \n",
      "     source = <Node id=14> \n",
      "destination = <Node id=6> \n",
      "     header = 'Information' \n",
      "id(message) = 0x7f7e8b957c50>\u001b[0m\n",
      "\u001b[32m2024-05-20 21:04:54.987\u001b[0m | \u001b[34m\u001b[1mDEBUG   \u001b[0m | \u001b[36mpydistsim.algorithm\u001b[0m:\u001b[36m_process_message\u001b[0m:\u001b[36m197\u001b[0m - \u001b[34m\u001b[1mProcessing message: 0x7f7e8b957c50\u001b[0m\n",
      "\u001b[32m2024-05-20 21:04:54.988\u001b[0m | \u001b[34m\u001b[1mDEBUG   \u001b[0m | \u001b[36mpydistsim.node\u001b[0m:\u001b[36msend\u001b[0m:\u001b[36m82\u001b[0m - \u001b[34m\u001b[1mNode 6 sent message \n",
      "------ Message 'NORMAL_MESSAGE' ------ \n",
      "     source = <Node id=6> \n",
      "destination = [<Node id=12>, <Node id=15>] \n",
      "     header = 'Information' \n",
      "id(message) = 0x7f7e8b949110>.\u001b[0m\n",
      "\u001b[32m2024-05-20 21:04:54.989\u001b[0m | \u001b[34m\u001b[1mDEBUG   \u001b[0m | \u001b[36mpydistsim.node\u001b[0m:\u001b[36msend\u001b[0m:\u001b[36m82\u001b[0m - \u001b[34m\u001b[1mNode 6 sent message \n",
      "------ Message 'NORMAL_MESSAGE' ------ \n",
      "     source = <Node id=6> \n",
      "destination = [<Node id=12>, <Node id=15>] \n",
      "     header = 'Information' \n",
      "id(message) = 0x7f7e8b949110>.\u001b[0m\n",
      "\u001b[32m2024-05-20 21:04:54.990\u001b[0m | \u001b[34m\u001b[1mDEBUG   \u001b[0m | \u001b[36mpydistsim.node\u001b[0m:\u001b[36mreceive\u001b[0m:\u001b[36m104\u001b[0m - \u001b[34m\u001b[1mNode 7 received message \n",
      "------ Message 'NORMAL_MESSAGE' ------ \n",
      "     source = <Node id=10> \n",
      "destination = <Node id=7> \n",
      "     header = 'Information' \n",
      "id(message) = 0x7f7e8b954ed0>\u001b[0m\n",
      "\u001b[32m2024-05-20 21:04:54.991\u001b[0m | \u001b[34m\u001b[1mDEBUG   \u001b[0m | \u001b[36mpydistsim.algorithm\u001b[0m:\u001b[36m_process_message\u001b[0m:\u001b[36m197\u001b[0m - \u001b[34m\u001b[1mProcessing message: 0x7f7e8b954ed0\u001b[0m\n",
      "\u001b[32m2024-05-20 21:04:54.991\u001b[0m | \u001b[34m\u001b[1mDEBUG   \u001b[0m | \u001b[36mpydistsim.node\u001b[0m:\u001b[36mreceive\u001b[0m:\u001b[36m104\u001b[0m - \u001b[34m\u001b[1mNode 8 received message \n",
      "------ Message 'NORMAL_MESSAGE' ------ \n",
      "     source = <Node id=10> \n",
      "destination = <Node id=8> \n",
      "     header = 'Information' \n",
      "id(message) = 0x7f7e8b956750>\u001b[0m\n",
      "\u001b[32m2024-05-20 21:04:54.992\u001b[0m | \u001b[34m\u001b[1mDEBUG   \u001b[0m | \u001b[36mpydistsim.algorithm\u001b[0m:\u001b[36m_process_message\u001b[0m:\u001b[36m197\u001b[0m - \u001b[34m\u001b[1mProcessing message: 0x7f7e8b956750\u001b[0m\n",
      "\u001b[32m2024-05-20 21:04:54.993\u001b[0m | \u001b[34m\u001b[1mDEBUG   \u001b[0m | \u001b[36mpydistsim.node\u001b[0m:\u001b[36mreceive\u001b[0m:\u001b[36m104\u001b[0m - \u001b[34m\u001b[1mNode 10 received message \n",
      "------ Message 'NORMAL_MESSAGE' ------ \n",
      "     source = <Node id=8> \n",
      "destination = <Node id=10> \n",
      "     header = 'Information' \n",
      "id(message) = 0x7f7e8b9563d0>\u001b[0m\n",
      "\u001b[32m2024-05-20 21:04:54.995\u001b[0m | \u001b[34m\u001b[1mDEBUG   \u001b[0m | \u001b[36mpydistsim.algorithm\u001b[0m:\u001b[36m_process_message\u001b[0m:\u001b[36m197\u001b[0m - \u001b[34m\u001b[1mProcessing message: 0x7f7e8b9563d0\u001b[0m\n",
      "\u001b[32m2024-05-20 21:04:54.995\u001b[0m | \u001b[34m\u001b[1mDEBUG   \u001b[0m | \u001b[36mpydistsim.node\u001b[0m:\u001b[36mreceive\u001b[0m:\u001b[36m104\u001b[0m - \u001b[34m\u001b[1mNode 12 received message \n",
      "------ Message 'NORMAL_MESSAGE' ------ \n",
      "     source = <Node id=14> \n",
      "destination = <Node id=12> \n",
      "     header = 'Information' \n",
      "id(message) = 0x7f7e8b957fd0>\u001b[0m\n",
      "\u001b[32m2024-05-20 21:04:54.996\u001b[0m | \u001b[34m\u001b[1mDEBUG   \u001b[0m | \u001b[36mpydistsim.algorithm\u001b[0m:\u001b[36m_process_message\u001b[0m:\u001b[36m197\u001b[0m - \u001b[34m\u001b[1mProcessing message: 0x7f7e8b957fd0\u001b[0m\n",
      "\u001b[32m2024-05-20 21:04:54.997\u001b[0m | \u001b[34m\u001b[1mDEBUG   \u001b[0m | \u001b[36mpydistsim.node\u001b[0m:\u001b[36msend\u001b[0m:\u001b[36m82\u001b[0m - \u001b[34m\u001b[1mNode 12 sent message \n",
      "------ Message 'NORMAL_MESSAGE' ------ \n",
      "     source = <Node id=12> \n",
      "destination = [<Node id=6>, <Node id=15>] \n",
      "     header = 'Information' \n",
      "id(message) = 0x7f7e8b954ed0>.\u001b[0m\n",
      "\u001b[32m2024-05-20 21:04:54.997\u001b[0m | \u001b[34m\u001b[1mDEBUG   \u001b[0m | \u001b[36mpydistsim.node\u001b[0m:\u001b[36msend\u001b[0m:\u001b[36m82\u001b[0m - \u001b[34m\u001b[1mNode 12 sent message \n",
      "------ Message 'NORMAL_MESSAGE' ------ \n",
      "     source = <Node id=12> \n",
      "destination = [<Node id=6>, <Node id=15>] \n",
      "     header = 'Information' \n",
      "id(message) = 0x7f7e8b954ed0>.\u001b[0m\n",
      "\u001b[32m2024-05-20 21:04:54.998\u001b[0m | \u001b[34m\u001b[1mDEBUG   \u001b[0m | \u001b[36mpydistsim.node\u001b[0m:\u001b[36mreceive\u001b[0m:\u001b[36m104\u001b[0m - \u001b[34m\u001b[1mNode 15 received message \n",
      "------ Message 'NORMAL_MESSAGE' ------ \n",
      "     source = <Node id=14> \n",
      "destination = <Node id=15> \n",
      "     header = 'Information' \n",
      "id(message) = 0x7f7e8b93f010>\u001b[0m\n",
      "\u001b[32m2024-05-20 21:04:54.999\u001b[0m | \u001b[34m\u001b[1mDEBUG   \u001b[0m | \u001b[36mpydistsim.algorithm\u001b[0m:\u001b[36m_process_message\u001b[0m:\u001b[36m197\u001b[0m - \u001b[34m\u001b[1mProcessing message: 0x7f7e8b93f010\u001b[0m\n",
      "\u001b[32m2024-05-20 21:04:54.999\u001b[0m | \u001b[34m\u001b[1mDEBUG   \u001b[0m | \u001b[36mpydistsim.node\u001b[0m:\u001b[36msend\u001b[0m:\u001b[36m82\u001b[0m - \u001b[34m\u001b[1mNode 15 sent message \n",
      "------ Message 'NORMAL_MESSAGE' ------ \n",
      "     source = <Node id=15> \n",
      "destination = [<Node id=12>, <Node id=6>] \n",
      "     header = 'Information' \n",
      "id(message) = 0x7f7e8b954ed0>.\u001b[0m\n",
      "\u001b[32m2024-05-20 21:04:55.000\u001b[0m | \u001b[34m\u001b[1mDEBUG   \u001b[0m | \u001b[36mpydistsim.node\u001b[0m:\u001b[36msend\u001b[0m:\u001b[36m82\u001b[0m - \u001b[34m\u001b[1mNode 15 sent message \n",
      "------ Message 'NORMAL_MESSAGE' ------ \n",
      "     source = <Node id=15> \n",
      "destination = [<Node id=12>, <Node id=6>] \n",
      "     header = 'Information' \n",
      "id(message) = 0x7f7e8b954ed0>.\u001b[0m\n",
      "\u001b[32m2024-05-20 21:04:55.000\u001b[0m | \u001b[34m\u001b[1mDEBUG   \u001b[0m | \u001b[36mpydistsim.simulation\u001b[0m:\u001b[36mrun_algorithm\u001b[0m:\u001b[36m113\u001b[0m - \u001b[34m\u001b[1m[Flood] Step 10 finished\u001b[0m\n"
     ]
    }
   ],
   "source": [
    "sim.run(1)"
   ]
  },
  {
   "cell_type": "code",
   "execution_count": 19,
   "metadata": {},
   "outputs": [
    {
     "name": "stdout",
     "output_type": "stream",
     "text": [
      "\u001b[32m2024-05-20 21:04:55.009\u001b[0m | \u001b[34m\u001b[1mDEBUG   \u001b[0m | \u001b[36mpydistsim.network\u001b[0m:\u001b[36msend\u001b[0m:\u001b[36m551\u001b[0m - \u001b[34m\u001b[1mSending message from <Node id=15> to <Node id=12>.\u001b[0m\n",
      "\u001b[32m2024-05-20 21:04:55.011\u001b[0m | \u001b[34m\u001b[1mDEBUG   \u001b[0m | \u001b[36mpydistsim.network\u001b[0m:\u001b[36msend\u001b[0m:\u001b[36m551\u001b[0m - \u001b[34m\u001b[1mSending message from <Node id=15> to <Node id=6>.\u001b[0m\n",
      "\u001b[32m2024-05-20 21:04:55.012\u001b[0m | \u001b[34m\u001b[1mDEBUG   \u001b[0m | \u001b[36mpydistsim.network\u001b[0m:\u001b[36msend\u001b[0m:\u001b[36m551\u001b[0m - \u001b[34m\u001b[1mSending message from <Node id=12> to <Node id=6>.\u001b[0m\n",
      "\u001b[32m2024-05-20 21:04:55.013\u001b[0m | \u001b[34m\u001b[1mDEBUG   \u001b[0m | \u001b[36mpydistsim.network\u001b[0m:\u001b[36msend\u001b[0m:\u001b[36m551\u001b[0m - \u001b[34m\u001b[1mSending message from <Node id=12> to <Node id=15>.\u001b[0m\n",
      "\u001b[32m2024-05-20 21:04:55.014\u001b[0m | \u001b[34m\u001b[1mDEBUG   \u001b[0m | \u001b[36mpydistsim.network\u001b[0m:\u001b[36msend\u001b[0m:\u001b[36m551\u001b[0m - \u001b[34m\u001b[1mSending message from <Node id=6> to <Node id=12>.\u001b[0m\n",
      "\u001b[32m2024-05-20 21:04:55.014\u001b[0m | \u001b[34m\u001b[1mDEBUG   \u001b[0m | \u001b[36mpydistsim.network\u001b[0m:\u001b[36msend\u001b[0m:\u001b[36m551\u001b[0m - \u001b[34m\u001b[1mSending message from <Node id=6> to <Node id=15>.\u001b[0m\n",
      "\u001b[32m2024-05-20 21:04:55.015\u001b[0m | \u001b[34m\u001b[1mDEBUG   \u001b[0m | \u001b[36mpydistsim.node\u001b[0m:\u001b[36mreceive\u001b[0m:\u001b[36m104\u001b[0m - \u001b[34m\u001b[1mNode 7 received message \n",
      "------ Message 'NORMAL_MESSAGE' ------ \n",
      "     source = <Node id=8> \n",
      "destination = <Node id=7> \n",
      "     header = 'Information' \n",
      "id(message) = 0x7f7e8b93e650>\u001b[0m\n",
      "\u001b[32m2024-05-20 21:04:55.016\u001b[0m | \u001b[34m\u001b[1mDEBUG   \u001b[0m | \u001b[36mpydistsim.algorithm\u001b[0m:\u001b[36m_process_message\u001b[0m:\u001b[36m197\u001b[0m - \u001b[34m\u001b[1mProcessing message: 0x7f7e8b93e650\u001b[0m\n",
      "\u001b[32m2024-05-20 21:04:55.016\u001b[0m | \u001b[34m\u001b[1mDEBUG   \u001b[0m | \u001b[36mpydistsim.node\u001b[0m:\u001b[36mreceive\u001b[0m:\u001b[36m104\u001b[0m - \u001b[34m\u001b[1mNode 8 received message \n",
      "------ Message 'NORMAL_MESSAGE' ------ \n",
      "     source = <Node id=7> \n",
      "destination = <Node id=8> \n",
      "     header = 'Information' \n",
      "id(message) = 0x7f7e8b954dd0>\u001b[0m\n",
      "\u001b[32m2024-05-20 21:04:55.017\u001b[0m | \u001b[34m\u001b[1mDEBUG   \u001b[0m | \u001b[36mpydistsim.algorithm\u001b[0m:\u001b[36m_process_message\u001b[0m:\u001b[36m197\u001b[0m - \u001b[34m\u001b[1mProcessing message: 0x7f7e8b954dd0\u001b[0m\n",
      "\u001b[32m2024-05-20 21:04:55.017\u001b[0m | \u001b[34m\u001b[1mDEBUG   \u001b[0m | \u001b[36mpydistsim.node\u001b[0m:\u001b[36mreceive\u001b[0m:\u001b[36m104\u001b[0m - \u001b[34m\u001b[1mNode 10 received message \n",
      "------ Message 'NORMAL_MESSAGE' ------ \n",
      "     source = <Node id=7> \n",
      "destination = <Node id=10> \n",
      "     header = 'Information' \n",
      "id(message) = 0x7f7e8b955cd0>\u001b[0m\n",
      "\u001b[32m2024-05-20 21:04:55.018\u001b[0m | \u001b[34m\u001b[1mDEBUG   \u001b[0m | \u001b[36mpydistsim.algorithm\u001b[0m:\u001b[36m_process_message\u001b[0m:\u001b[36m197\u001b[0m - \u001b[34m\u001b[1mProcessing message: 0x7f7e8b955cd0\u001b[0m\n",
      "\u001b[32m2024-05-20 21:04:55.018\u001b[0m | \u001b[34m\u001b[1mDEBUG   \u001b[0m | \u001b[36mpydistsim.simulation\u001b[0m:\u001b[36mrun_algorithm\u001b[0m:\u001b[36m113\u001b[0m - \u001b[34m\u001b[1m[Flood] Step 11 finished\u001b[0m\n"
     ]
    }
   ],
   "source": [
    "sim.run(1)"
   ]
  },
  {
   "cell_type": "code",
   "execution_count": 20,
   "metadata": {},
   "outputs": [
    {
     "name": "stdout",
     "output_type": "stream",
     "text": [
      "\u001b[32m2024-05-20 21:04:55.028\u001b[0m | \u001b[34m\u001b[1mDEBUG   \u001b[0m | \u001b[36mpydistsim.node\u001b[0m:\u001b[36mreceive\u001b[0m:\u001b[36m104\u001b[0m - \u001b[34m\u001b[1mNode 6 received message \n",
      "------ Message 'NORMAL_MESSAGE' ------ \n",
      "     source = <Node id=15> \n",
      "destination = <Node id=6> \n",
      "     header = 'Information' \n",
      "id(message) = 0x7f7e8b940190>\u001b[0m\n",
      "\u001b[32m2024-05-20 21:04:55.030\u001b[0m | \u001b[34m\u001b[1mDEBUG   \u001b[0m | \u001b[36mpydistsim.algorithm\u001b[0m:\u001b[36m_process_message\u001b[0m:\u001b[36m197\u001b[0m - \u001b[34m\u001b[1mProcessing message: 0x7f7e8b940190\u001b[0m\n",
      "\u001b[32m2024-05-20 21:04:55.030\u001b[0m | \u001b[34m\u001b[1mDEBUG   \u001b[0m | \u001b[36mpydistsim.node\u001b[0m:\u001b[36mreceive\u001b[0m:\u001b[36m104\u001b[0m - \u001b[34m\u001b[1mNode 12 received message \n",
      "------ Message 'NORMAL_MESSAGE' ------ \n",
      "     source = <Node id=15> \n",
      "destination = <Node id=12> \n",
      "     header = 'Information' \n",
      "id(message) = 0x7f7e8b9438d0>\u001b[0m\n",
      "\u001b[32m2024-05-20 21:04:55.031\u001b[0m | \u001b[34m\u001b[1mDEBUG   \u001b[0m | \u001b[36mpydistsim.algorithm\u001b[0m:\u001b[36m_process_message\u001b[0m:\u001b[36m197\u001b[0m - \u001b[34m\u001b[1mProcessing message: 0x7f7e8b9438d0\u001b[0m\n",
      "\u001b[32m2024-05-20 21:04:55.032\u001b[0m | \u001b[34m\u001b[1mDEBUG   \u001b[0m | \u001b[36mpydistsim.node\u001b[0m:\u001b[36mreceive\u001b[0m:\u001b[36m104\u001b[0m - \u001b[34m\u001b[1mNode 15 received message \n",
      "------ Message 'NORMAL_MESSAGE' ------ \n",
      "     source = <Node id=12> \n",
      "destination = <Node id=15> \n",
      "     header = 'Information' \n",
      "id(message) = 0x7f7e8b9431d0>\u001b[0m\n",
      "\u001b[32m2024-05-20 21:04:55.033\u001b[0m | \u001b[34m\u001b[1mDEBUG   \u001b[0m | \u001b[36mpydistsim.algorithm\u001b[0m:\u001b[36m_process_message\u001b[0m:\u001b[36m197\u001b[0m - \u001b[34m\u001b[1mProcessing message: 0x7f7e8b9431d0\u001b[0m\n",
      "\u001b[32m2024-05-20 21:04:55.033\u001b[0m | \u001b[34m\u001b[1mDEBUG   \u001b[0m | \u001b[36mpydistsim.simulation\u001b[0m:\u001b[36mrun_algorithm\u001b[0m:\u001b[36m113\u001b[0m - \u001b[34m\u001b[1m[Flood] Step 12 finished\u001b[0m\n"
     ]
    }
   ],
   "source": [
    "sim.run(1)"
   ]
  },
  {
   "cell_type": "code",
   "execution_count": 21,
   "metadata": {},
   "outputs": [
    {
     "name": "stdout",
     "output_type": "stream",
     "text": [
      "\u001b[32m2024-05-20 21:04:55.042\u001b[0m | \u001b[34m\u001b[1mDEBUG   \u001b[0m | \u001b[36mpydistsim.node\u001b[0m:\u001b[36mreceive\u001b[0m:\u001b[36m104\u001b[0m - \u001b[34m\u001b[1mNode 6 received message \n",
      "------ Message 'NORMAL_MESSAGE' ------ \n",
      "     source = <Node id=12> \n",
      "destination = <Node id=6> \n",
      "     header = 'Information' \n",
      "id(message) = 0x7f7e8b943210>\u001b[0m\n",
      "\u001b[32m2024-05-20 21:04:55.044\u001b[0m | \u001b[34m\u001b[1mDEBUG   \u001b[0m | \u001b[36mpydistsim.algorithm\u001b[0m:\u001b[36m_process_message\u001b[0m:\u001b[36m197\u001b[0m - \u001b[34m\u001b[1mProcessing message: 0x7f7e8b943210\u001b[0m\n",
      "\u001b[32m2024-05-20 21:04:55.044\u001b[0m | \u001b[34m\u001b[1mDEBUG   \u001b[0m | \u001b[36mpydistsim.node\u001b[0m:\u001b[36mreceive\u001b[0m:\u001b[36m104\u001b[0m - \u001b[34m\u001b[1mNode 12 received message \n",
      "------ Message 'NORMAL_MESSAGE' ------ \n",
      "     source = <Node id=6> \n",
      "destination = <Node id=12> \n",
      "     header = 'Information' \n",
      "id(message) = 0x7f7e8b94a550>\u001b[0m\n",
      "\u001b[32m2024-05-20 21:04:55.045\u001b[0m | \u001b[34m\u001b[1mDEBUG   \u001b[0m | \u001b[36mpydistsim.algorithm\u001b[0m:\u001b[36m_process_message\u001b[0m:\u001b[36m197\u001b[0m - \u001b[34m\u001b[1mProcessing message: 0x7f7e8b94a550\u001b[0m\n",
      "\u001b[32m2024-05-20 21:04:55.046\u001b[0m | \u001b[34m\u001b[1mDEBUG   \u001b[0m | \u001b[36mpydistsim.node\u001b[0m:\u001b[36mreceive\u001b[0m:\u001b[36m104\u001b[0m - \u001b[34m\u001b[1mNode 15 received message \n",
      "------ Message 'NORMAL_MESSAGE' ------ \n",
      "     source = <Node id=6> \n",
      "destination = <Node id=15> \n",
      "     header = 'Information' \n",
      "id(message) = 0x7f7e8b942710>\u001b[0m\n",
      "\u001b[32m2024-05-20 21:04:55.047\u001b[0m | \u001b[34m\u001b[1mDEBUG   \u001b[0m | \u001b[36mpydistsim.algorithm\u001b[0m:\u001b[36m_process_message\u001b[0m:\u001b[36m197\u001b[0m - \u001b[34m\u001b[1mProcessing message: 0x7f7e8b942710\u001b[0m\n",
      "\u001b[32m2024-05-20 21:04:55.047\u001b[0m | \u001b[34m\u001b[1mDEBUG   \u001b[0m | \u001b[36mpydistsim.simulation\u001b[0m:\u001b[36mrun_algorithm\u001b[0m:\u001b[36m113\u001b[0m - \u001b[34m\u001b[1m[Flood] Step 13 finished\u001b[0m\n"
     ]
    }
   ],
   "source": [
    "sim.run(1)"
   ]
  },
  {
   "cell_type": "code",
   "execution_count": 22,
   "metadata": {},
   "outputs": [
    {
     "name": "stdout",
     "output_type": "stream",
     "text": [
      "\u001b[32m2024-05-20 21:04:55.056\u001b[0m | \u001b[34m\u001b[1mDEBUG   \u001b[0m | \u001b[36mpydistsim.simulation\u001b[0m:\u001b[36mrun_algorithm\u001b[0m:\u001b[36m126\u001b[0m - \u001b[34m\u001b[1m[Flood] Algorithm finished\u001b[0m\n"
     ]
    }
   ],
   "source": [
    "sim.run(1)"
   ]
  },
  {
   "cell_type": "code",
   "execution_count": 23,
   "metadata": {},
   "outputs": [
    {
     "name": "stdout",
     "output_type": "stream",
     "text": [
      "\u001b[32m2024-05-20 21:04:55.071\u001b[0m | \u001b[1mINFO    \u001b[0m | \u001b[36mpydistsim.simulation\u001b[0m:\u001b[36mrun\u001b[0m:\u001b[36m73\u001b[0m - \u001b[1mSimulation has finished. There are no algorithms left to run. To run it from the start use sim.reset().\u001b[0m\n"
     ]
    }
   ],
   "source": [
    "sim.run(1)"
   ]
  },
  {
   "cell_type": "code",
   "execution_count": 24,
   "metadata": {},
   "outputs": [
    {
     "name": "stdout",
     "output_type": "stream",
     "text": [
      "\u001b[32m2024-05-20 21:04:55.089\u001b[0m | \u001b[1mINFO    \u001b[0m | \u001b[36mpydistsim.simulation\u001b[0m:\u001b[36mrun\u001b[0m:\u001b[36m73\u001b[0m - \u001b[1mSimulation has finished. There are no algorithms left to run. To run it from the start use sim.reset().\u001b[0m\n"
     ]
    }
   ],
   "source": [
    "sim.run(1)"
   ]
  },
  {
   "cell_type": "code",
   "execution_count": 25,
   "metadata": {},
   "outputs": [
    {
     "name": "stdout",
     "output_type": "stream",
     "text": [
      "\u001b[32m2024-05-20 21:04:55.101\u001b[0m | \u001b[1mINFO    \u001b[0m | \u001b[36mpydistsim.simulation\u001b[0m:\u001b[36mrun\u001b[0m:\u001b[36m73\u001b[0m - \u001b[1mSimulation has finished. There are no algorithms left to run. To run it from the start use sim.reset().\u001b[0m\n"
     ]
    }
   ],
   "source": [
    "sim.run()"
   ]
  },
  {
   "cell_type": "code",
   "execution_count": null,
   "metadata": {},
   "outputs": [],
   "source": []
  }
 ],
 "metadata": {
  "colab": {
   "provenance": []
  },
  "kernelspec": {
   "display_name": "Python 3",
   "name": "python3"
  },
  "language_info": {
   "codemirror_mode": {
    "name": "ipython",
    "version": 3
   },
   "file_extension": ".py",
   "mimetype": "text/x-python",
   "name": "python",
   "nbconvert_exporter": "python",
   "pygments_lexer": "ipython3",
   "version": "3.11.0rc1"
  }
 },
 "nbformat": 4,
 "nbformat_minor": 0
}
