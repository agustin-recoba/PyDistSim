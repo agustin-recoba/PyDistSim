{
 "cells": [
  {
   "cell_type": "code",
   "execution_count": 1,
   "metadata": {
    "id": "bQX5hbAmIKRO",
    "outputId": "10242ef7-4936-4970-9711-0379033b9d30"
   },
   "outputs": [],
   "source": [
    "import sys\n",
    "import os\n",
    "\n",
    "sys.path.insert(0, os.path.abspath(\"../../\"))\n",
    "from pydistsim.logger import logger, set_log_level\n",
    "\n",
    "set_log_level(\"TRACE\")\n",
    "from pydistsim import NetworkGenerator\n",
    "from pydistsim import *\n",
    "\n",
    "from typing import TYPE_CHECKING\n",
    "\n",
    "from pydistsim.algorithm.node_algorithm import NodeAlgorithm, StatusValues\n",
    "from pydistsim.message import Message\n",
    "from pydistsim.demo_algorithms.broadcast import Flood\n",
    "from pydistsim.demo_algorithms.santoro2007.traversal import DFStar, DFT\n",
    "\n",
    "if TYPE_CHECKING:\n",
    "    from pydistsim.network.node import Node"
   ]
  },
  {
   "cell_type": "code",
   "execution_count": 2,
   "metadata": {},
   "outputs": [
    {
     "name": "stdout",
     "output_type": "stream",
     "text": [
      "\u001b[32m2024-06-19 00:21:21.480\u001b[0m | \u001b[1mINFO    \u001b[0m | \u001b[36mpydistsim.network.network\u001b[0m:\u001b[36mreset\u001b[0m:\u001b[36m238\u001b[0m - \u001b[1mResetting network.\u001b[0m\n",
      "\u001b[32m2024-06-19 00:21:21.483\u001b[0m | \u001b[1mINFO    \u001b[0m | \u001b[36mpydistsim.network.network\u001b[0m:\u001b[36mreset_all_nodes\u001b[0m:\u001b[36m248\u001b[0m - \u001b[1mResetting all nodes.\u001b[0m\n",
      "\u001b[32m2024-06-19 00:21:21.485\u001b[0m | \u001b[1mINFO    \u001b[0m | \u001b[36mpydistsim.network.network\u001b[0m:\u001b[36m__init__\u001b[0m:\u001b[36m79\u001b[0m - \u001b[1mInstance of Network has been initialized.\u001b[0m\n",
      "\u001b[32m2024-06-19 00:21:21.486\u001b[0m | \u001b[34m\u001b[1mDEBUG   \u001b[0m | \u001b[36mpydistsim.network.environment\u001b[0m:\u001b[36mfind_random_pos\u001b[0m:\u001b[36m212\u001b[0m - \u001b[34m\u001b[1mRandom position found in 0 iterations.\u001b[0m\n",
      "\u001b[32m2024-06-19 00:21:21.486\u001b[0m | \u001b[34m\u001b[1mDEBUG   \u001b[0m | \u001b[36mpydistsim.network.network\u001b[0m:\u001b[36madd_node\u001b[0m:\u001b[36m154\u001b[0m - \u001b[34m\u001b[1mNode 1 is placed on position [378.7657569  212.88745899].\u001b[0m\n",
      "\u001b[32m2024-06-19 00:21:21.487\u001b[0m | \u001b[34m\u001b[1mDEBUG   \u001b[0m | \u001b[36mpydistsim.network.environment\u001b[0m:\u001b[36mfind_random_pos\u001b[0m:\u001b[36m212\u001b[0m - \u001b[34m\u001b[1mRandom position found in 0 iterations.\u001b[0m\n",
      "\u001b[32m2024-06-19 00:21:21.489\u001b[0m | \u001b[34m\u001b[1mDEBUG   \u001b[0m | \u001b[36mpydistsim.network.network\u001b[0m:\u001b[36madd_node\u001b[0m:\u001b[36m154\u001b[0m - \u001b[34m\u001b[1mNode 2 is placed on position [195.19424545 194.64268337].\u001b[0m\n",
      "\u001b[32m2024-06-19 00:21:21.490\u001b[0m | \u001b[34m\u001b[1mDEBUG   \u001b[0m | \u001b[36mpydistsim.network.environment\u001b[0m:\u001b[36mfind_random_pos\u001b[0m:\u001b[36m212\u001b[0m - \u001b[34m\u001b[1mRandom position found in 0 iterations.\u001b[0m\n",
      "\u001b[32m2024-06-19 00:21:21.491\u001b[0m | \u001b[34m\u001b[1mDEBUG   \u001b[0m | \u001b[36mpydistsim.network.network\u001b[0m:\u001b[36madd_node\u001b[0m:\u001b[36m154\u001b[0m - \u001b[34m\u001b[1mNode 3 is placed on position [305.93908026  39.45727333].\u001b[0m\n",
      "\u001b[32m2024-06-19 00:21:21.494\u001b[0m | \u001b[34m\u001b[1mDEBUG   \u001b[0m | \u001b[36mpydistsim.network.environment\u001b[0m:\u001b[36mfind_random_pos\u001b[0m:\u001b[36m212\u001b[0m - \u001b[34m\u001b[1mRandom position found in 0 iterations.\u001b[0m\n",
      "\u001b[32m2024-06-19 00:21:21.495\u001b[0m | \u001b[34m\u001b[1mDEBUG   \u001b[0m | \u001b[36mpydistsim.network.network\u001b[0m:\u001b[36madd_node\u001b[0m:\u001b[36m154\u001b[0m - \u001b[34m\u001b[1mNode 4 is placed on position [194.21919682  24.91591355].\u001b[0m\n",
      "\u001b[32m2024-06-19 00:21:21.496\u001b[0m | \u001b[34m\u001b[1mDEBUG   \u001b[0m | \u001b[36mpydistsim.network.environment\u001b[0m:\u001b[36mfind_random_pos\u001b[0m:\u001b[36m212\u001b[0m - \u001b[34m\u001b[1mRandom position found in 0 iterations.\u001b[0m\n",
      "\u001b[32m2024-06-19 00:21:21.497\u001b[0m | \u001b[34m\u001b[1mDEBUG   \u001b[0m | \u001b[36mpydistsim.network.network\u001b[0m:\u001b[36madd_node\u001b[0m:\u001b[36m154\u001b[0m - \u001b[34m\u001b[1mNode 5 is placed on position [179.30226146 331.84675606].\u001b[0m\n",
      "\u001b[32m2024-06-19 00:21:21.498\u001b[0m | \u001b[34m\u001b[1mDEBUG   \u001b[0m | \u001b[36mpydistsim.network.environment\u001b[0m:\u001b[36mfind_random_pos\u001b[0m:\u001b[36m212\u001b[0m - \u001b[34m\u001b[1mRandom position found in 0 iterations.\u001b[0m\n",
      "\u001b[32m2024-06-19 00:21:21.498\u001b[0m | \u001b[34m\u001b[1mDEBUG   \u001b[0m | \u001b[36mpydistsim.network.network\u001b[0m:\u001b[36madd_node\u001b[0m:\u001b[36m154\u001b[0m - \u001b[34m\u001b[1mNode 6 is placed on position [425.18197094  72.64902097].\u001b[0m\n",
      "\u001b[32m2024-06-19 00:21:21.499\u001b[0m | \u001b[34m\u001b[1mDEBUG   \u001b[0m | \u001b[36mpydistsim.network.environment\u001b[0m:\u001b[36mfind_random_pos\u001b[0m:\u001b[36m212\u001b[0m - \u001b[34m\u001b[1mRandom position found in 0 iterations.\u001b[0m\n",
      "\u001b[32m2024-06-19 00:21:21.500\u001b[0m | \u001b[34m\u001b[1mDEBUG   \u001b[0m | \u001b[36mpydistsim.network.network\u001b[0m:\u001b[36madd_node\u001b[0m:\u001b[36m154\u001b[0m - \u001b[34m\u001b[1mNode 7 is placed on position [192.97778322 307.32286676].\u001b[0m\n",
      "\u001b[32m2024-06-19 00:21:21.502\u001b[0m | \u001b[34m\u001b[1mDEBUG   \u001b[0m | \u001b[36mpydistsim.network.environment\u001b[0m:\u001b[36mfind_random_pos\u001b[0m:\u001b[36m212\u001b[0m - \u001b[34m\u001b[1mRandom position found in 0 iterations.\u001b[0m\n",
      "\u001b[32m2024-06-19 00:21:21.505\u001b[0m | \u001b[34m\u001b[1mDEBUG   \u001b[0m | \u001b[36mpydistsim.network.network\u001b[0m:\u001b[36madd_node\u001b[0m:\u001b[36m154\u001b[0m - \u001b[34m\u001b[1mNode 8 is placed on position [454.06224947 270.59588501].\u001b[0m\n",
      "\u001b[32m2024-06-19 00:21:21.517\u001b[0m | \u001b[34m\u001b[1mDEBUG   \u001b[0m | \u001b[36mpydistsim.network.environment\u001b[0m:\u001b[36mfind_random_pos\u001b[0m:\u001b[36m212\u001b[0m - \u001b[34m\u001b[1mRandom position found in 0 iterations.\u001b[0m\n",
      "\u001b[32m2024-06-19 00:21:21.518\u001b[0m | \u001b[34m\u001b[1mDEBUG   \u001b[0m | \u001b[36mpydistsim.network.network\u001b[0m:\u001b[36madd_node\u001b[0m:\u001b[36m154\u001b[0m - \u001b[34m\u001b[1mNode 9 is placed on position [369.63174476 323.43775131].\u001b[0m\n",
      "\u001b[32m2024-06-19 00:21:21.523\u001b[0m | \u001b[34m\u001b[1mDEBUG   \u001b[0m | \u001b[36mpydistsim.network.environment\u001b[0m:\u001b[36mfind_random_pos\u001b[0m:\u001b[36m212\u001b[0m - \u001b[34m\u001b[1mRandom position found in 0 iterations.\u001b[0m\n",
      "\u001b[32m2024-06-19 00:21:21.524\u001b[0m | \u001b[34m\u001b[1mDEBUG   \u001b[0m | \u001b[36mpydistsim.network.network\u001b[0m:\u001b[36madd_node\u001b[0m:\u001b[36m154\u001b[0m - \u001b[34m\u001b[1mNode 10 is placed on position [218.76547836 406.35266958].\u001b[0m\n",
      "\u001b[32m2024-06-19 00:21:21.533\u001b[0m | \u001b[34m\u001b[1mDEBUG   \u001b[0m | \u001b[36mpydistsim.network.generator\u001b[0m:\u001b[36m_are_conditions_satisfied\u001b[0m:\u001b[36m136\u001b[0m - \u001b[34m\u001b[1mNot connected\u001b[0m\n",
      "\u001b[32m2024-06-19 00:21:21.569\u001b[0m | \u001b[34m\u001b[1mDEBUG   \u001b[0m | \u001b[36mpydistsim.network.generator\u001b[0m:\u001b[36m_create_modify_network\u001b[0m:\u001b[36m109\u001b[0m - \u001b[34m\u001b[1mIncreased commRange to 120\u001b[0m\n",
      "\u001b[32m2024-06-19 00:21:21.571\u001b[0m | \u001b[34m\u001b[1mDEBUG   \u001b[0m | \u001b[36mpydistsim.network.generator\u001b[0m:\u001b[36m_are_conditions_satisfied\u001b[0m:\u001b[36m136\u001b[0m - \u001b[34m\u001b[1mNot connected\u001b[0m\n",
      "\u001b[32m2024-06-19 00:21:21.630\u001b[0m | \u001b[34m\u001b[1mDEBUG   \u001b[0m | \u001b[36mpydistsim.network.generator\u001b[0m:\u001b[36m_create_modify_network\u001b[0m:\u001b[36m109\u001b[0m - \u001b[34m\u001b[1mIncreased commRange to 144\u001b[0m\n",
      "\u001b[32m2024-06-19 00:21:21.632\u001b[0m | \u001b[34m\u001b[1mDEBUG   \u001b[0m | \u001b[36mpydistsim.network.generator\u001b[0m:\u001b[36m_are_conditions_satisfied\u001b[0m:\u001b[36m136\u001b[0m - \u001b[34m\u001b[1mNot connected\u001b[0m\n",
      "\u001b[32m2024-06-19 00:21:21.712\u001b[0m | \u001b[34m\u001b[1mDEBUG   \u001b[0m | \u001b[36mpydistsim.network.generator\u001b[0m:\u001b[36m_create_modify_network\u001b[0m:\u001b[36m109\u001b[0m - \u001b[34m\u001b[1mIncreased commRange to 173\u001b[0m\n",
      "\u001b[32m2024-06-19 00:21:21.713\u001b[0m | \u001b[1mINFO    \u001b[0m | \u001b[36mpydistsim.network.network\u001b[0m:\u001b[36mreset\u001b[0m:\u001b[36m238\u001b[0m - \u001b[1mResetting network.\u001b[0m\n",
      "\u001b[32m2024-06-19 00:21:21.713\u001b[0m | \u001b[1mINFO    \u001b[0m | \u001b[36mpydistsim.network.network\u001b[0m:\u001b[36mreset_all_nodes\u001b[0m:\u001b[36m248\u001b[0m - \u001b[1mResetting all nodes.\u001b[0m\n",
      "\u001b[32m2024-06-19 00:21:21.714\u001b[0m | \u001b[34m\u001b[1mDEBUG   \u001b[0m | \u001b[36mpydistsim.algorithm.base_algorithm\u001b[0m:\u001b[36m__init__\u001b[0m:\u001b[36m110\u001b[0m - \u001b[34m\u001b[1mInstance of Flood class has been initialized.\u001b[0m\n"
     ]
    }
   ],
   "source": [
    "from pydistsim.logger import enable_logger, set_log_level\n",
    "\n",
    "enable_logger()\n",
    "set_log_level(\"DEBUG\")\n",
    "\n",
    "net_gen = NetworkGenerator(10, 10, 10)\n",
    "net = net_gen.generate_random_network()\n",
    "sim = Simulation(net)\n",
    "\n",
    "sim.algorithms = ((Flood, {\"informationKey\": \"I\"}),)\n",
    "\n",
    "some_node = net.nodes_sorted()[0]\n",
    "some_node.memory[\"I\"] = \"Hello distributed world\""
   ]
  },
  {
   "cell_type": "code",
   "execution_count": 3,
   "metadata": {},
   "outputs": [
    {
     "name": "stdout",
     "output_type": "stream",
     "text": [
      "\u001b[32m2024-06-19 00:21:21.727\u001b[0m | \u001b[34m\u001b[1mDEBUG   \u001b[0m | \u001b[36mpydistsim.simulation\u001b[0m:\u001b[36m__init__\u001b[0m:\u001b[36m42\u001b[0m - \u001b[34m\u001b[1mSimulation 0x7a7565973c80 created successfully.\u001b[0m\n"
     ]
    }
   ],
   "source": [
    "from pydistsim.metrics import MetricCollector\n",
    "\n",
    "metrics = MetricCollector()\n",
    "\n",
    "sim.add_observers(metrics)"
   ]
  },
  {
   "cell_type": "code",
   "execution_count": 21,
   "metadata": {},
   "outputs": [
    {
     "name": "stdout",
     "output_type": "stream",
     "text": [
      "\u001b[32m2024-06-19 00:21:38.233\u001b[0m | \u001b[1mINFO    \u001b[0m | \u001b[36mpydistsim.simulation\u001b[0m:\u001b[36mrun\u001b[0m:\u001b[36m64\u001b[0m - \u001b[1mSimulation has finished. There are no algorithms left to run. To run it from the start use sim.reset().\u001b[0m\n"
     ]
    }
   ],
   "source": [
    "sim.run(1)"
   ]
  },
  {
   "cell_type": "code",
   "execution_count": 22,
   "metadata": {},
   "outputs": [
    {
     "data": {
      "text/plain": [
       "{'index': 0, 'step': 14, 'finished': True}"
      ]
     },
     "execution_count": 22,
     "metadata": {},
     "output_type": "execute_result"
    }
   ],
   "source": [
    "sim.algorithmState"
   ]
  },
  {
   "cell_type": "code",
   "execution_count": 23,
   "metadata": {},
   "outputs": [
    {
     "data": {
      "text/plain": [
       "{'messages_sent': 17, 'messages_delivered': 18, 'qty_nodes_status_changed': 21}"
      ]
     },
     "execution_count": 23,
     "metadata": {},
     "output_type": "execute_result"
    }
   ],
   "source": [
    "metrics.make_report()"
   ]
  },
  {
   "cell_type": "code",
   "execution_count": null,
   "metadata": {},
   "outputs": [],
   "source": []
  }
 ],
 "metadata": {
  "colab": {
   "provenance": []
  },
  "kernelspec": {
   "display_name": "Python 3",
   "name": "python3"
  },
  "language_info": {
   "codemirror_mode": {
    "name": "ipython",
    "version": 3
   },
   "file_extension": ".py",
   "mimetype": "text/x-python",
   "name": "python",
   "nbconvert_exporter": "python",
   "pygments_lexer": "ipython3",
   "version": "3.11.0"
  }
 },
 "nbformat": 4,
 "nbformat_minor": 0
}
